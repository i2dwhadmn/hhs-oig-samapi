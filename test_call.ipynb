{
 "cells": [
  {
   "cell_type": "code",
   "execution_count": 1,
   "id": "45449cfb-d31f-4e71-9e5a-ac0b41034135",
   "metadata": {},
   "outputs": [],
   "source": [
    "%load_ext autoreload\n",
    "%autoreload 2"
   ]
  },
  {
   "cell_type": "code",
   "execution_count": 24,
   "id": "fae24563-5096-463e-b5e8-8d170537431b",
   "metadata": {},
   "outputs": [],
   "source": [
    "import sys\n",
    "\n",
    "import pandas as pd\n",
    "import json\n",
    "\n",
    "import boto3\n",
    "import requests\n",
    "from importlib import import_module"
   ]
  },
  {
   "cell_type": "code",
   "execution_count": 3,
   "id": "0aa1a0f0-ab85-4233-91a1-fa45f1a56fb4",
   "metadata": {},
   "outputs": [],
   "source": [
    "search_dir = \"/sam-app/document_search\"\n",
    "if search_dir not in sys.path:\n",
    "    sys.path.append(search_dir)"
   ]
  },
  {
   "cell_type": "code",
   "execution_count": 5,
   "id": "74b97db7-02d4-43d8-b6cd-15c37aa28b4b",
   "metadata": {},
   "outputs": [],
   "source": [
    "app = import_module('sam-app.document_search.app') # needs this because of the - in sam-app"
   ]
  },
  {
   "cell_type": "code",
   "execution_count": 16,
   "id": "a07af387-10e3-4f23-a782-e53b9194f8da",
   "metadata": {},
   "outputs": [
    {
     "name": "stdout",
     "output_type": "stream",
     "text": [
      "contracts\n",
      "\n",
      "\n",
      "\n",
      "searching:\n",
      "The Elasticsearch query returned 10 results.\n",
      "\n",
      "\n",
      "\n",
      "SearchResults obj:\n",
      "Empty DataFrame\n",
      "Columns: [doc_path, doc_name, score, highlight]\n",
      "Index: []\n"
     ]
    }
   ],
   "source": [
    "res = app.search(\"contracts\")"
   ]
  },
  {
   "cell_type": "code",
   "execution_count": 21,
   "id": "59debbc7-52ff-48df-b7a0-8db6059f7ff9",
   "metadata": {},
   "outputs": [
    {
     "data": {
      "text/plain": [
       "[{'document_path': 'public/23d1a9d2-4fd3-40b0-869c-f5cb8c9a1958',\n",
       "  'document_name': 'KS United Healthcare Contract.pdf',\n",
       "  'score': 1.4555925,\n",
       "  'highlights': {'content': ['STATE OF KANSAS\\nDEPARTMENT OF ADMINISTRATION\\nOFFICE OF PROCUREMENT AND CONTRACTS\\nPHONE: (785) 296-2376\\n900 S.W.',\n",
       "    '., ROOM 451 SOUTH\\nFAX: (785) 296-7240\\nTOPEKA, KS 66612\\nhttp://admin.ks.gov/offices/procurement-and-contracts\\nGOVERNOR JEFF COLYER, M.D.',\n",
       "    'The above referenced contract award was recently posted to Procurement and Contracts website.',\n",
       "    'The document can\\nbe downloaded by going to the following website: http://www.da.ks.gov/purch/Contracts\\n\\nContract ID: 45079\\nEvent ID: EVT0005464\\nPage 2\\n1. Terms and Conditions\\n1.1.',\n",
       "    'Definitions\\nA glossary of common procurement terms is available at http://admin.ks.gov/offices/procurement-and-\\ncontracts, under the \"Procurement Forms\" link.\\n1.4.']}},\n",
       " {'document_path': 'public/5cd8a466-0e0c-474e-b552-2f9d0da90e7b',\n",
       "  'document_name': 'KS Aetna Contract.pdf',\n",
       "  'score': 1.4555925,\n",
       "  'highlights': {'content': ['STATE OF KANSAS\\nDEPARTMENT OF ADMINISTRATION\\nOFFICE OF PROCUREMENT AND CONTRACTS\\nPHONE: (785) 296-2376\\n900 S.W.',\n",
       "    '., ROOM 451 SOUTH\\nFAX: (785) 296-7240\\nTOPEKA, KS 66612\\nhttp://admin.ks.gov/offices/procurement-and-contracts\\nGOVERNOR JEFF COLYER, M.D.',\n",
       "    'The above referenced contract award was recently posted to Procurement and Contracts website.',\n",
       "    'The document can\\nbe downloaded by going to the following website: http://www.da.ks.gov/purch/Contracts\\n\\nContract ID: 45081\\nEvent ID: EVT0005464\\nPage 2\\n1. Terms and Conditions\\n1.1.',\n",
       "    'Definitions\\nA glossary of common procurement terms is available at http:/ladmin.ks.gov/offices/procurement-and-\\ncontracts, under the \"Procurement Forms\" link.\\n1.4.']}}]"
      ]
     },
     "execution_count": 21,
     "metadata": {},
     "output_type": "execute_result"
    }
   ],
   "source": [
    "res[\"hits\"]"
   ]
  },
  {
   "cell_type": "code",
   "execution_count": 31,
   "id": "9648e857-3097-447b-b2ba-5dc6393a9278",
   "metadata": {},
   "outputs": [],
   "source": [
    "event = {\"queryStringParameters\":{\"q\": \"contracts\"}}"
   ]
  },
  {
   "cell_type": "code",
   "execution_count": 33,
   "id": "e10b9f5f-5efb-4cd5-a95c-d0135553c8e8",
   "metadata": {},
   "outputs": [
    {
     "name": "stdout",
     "output_type": "stream",
     "text": [
      "{\n",
      "   \"queryStringParameters\": {\n",
      "      \"q\": \"contracts\"\n",
      "   }\n",
      "}\n",
      "contracts\n",
      "\n",
      "\n",
      "\n",
      "searching:\n",
      "The Elasticsearch query returned 10 results.\n",
      "\n",
      "\n",
      "\n",
      "SearchResults obj:\n",
      "Empty DataFrame\n",
      "Columns: [doc_path, doc_name, score, highlight]\n",
      "Index: []\n",
      "Results:\n",
      "{\n",
      "   \"q\": \"contracts\",\n",
      "   \"hits\": [\n",
      "      {\n",
      "         \"document_path\": \"public/23d1a9d2-4fd3-40b0-869c-f5cb8c9a1958\",\n",
      "         \"document_name\": \"KS United Healthcare Contract.pdf\",\n",
      "         \"score\": 1.4555925,\n",
      "         \"highlights\": {\n",
      "            \"content\": [\n",
      "               \"STATE OF KANSAS\\nDEPARTMENT OF ADMINISTRATION\\nOFFICE OF PROCUREMENT AND CONTRACTS\\nPHONE: (785) 296-2376\\n900 S.W.\",\n",
      "               \"., ROOM 451 SOUTH\\nFAX: (785) 296-7240\\nTOPEKA, KS 66612\\nhttp://admin.ks.gov/offices/procurement-and-contracts\\nGOVERNOR JEFF COLYER, M.D.\",\n",
      "               \"The above referenced contract award was recently posted to Procurement and Contracts website.\",\n",
      "               \"The document can\\nbe downloaded by going to the following website: http://www.da.ks.gov/purch/Contracts\\n\\nContract ID: 45079\\nEvent ID: EVT0005464\\nPage 2\\n1. Terms and Conditions\\n1.1.\",\n",
      "               \"Definitions\\nA glossary of common procurement terms is available at http://admin.ks.gov/offices/procurement-and-\\ncontracts, under the \\\"Procurement Forms\\\" link.\\n1.4.\"\n",
      "            ]\n",
      "         }\n",
      "      },\n",
      "      {\n",
      "         \"document_path\": \"public/5cd8a466-0e0c-474e-b552-2f9d0da90e7b\",\n",
      "         \"document_name\": \"KS Aetna Contract.pdf\",\n",
      "         \"score\": 1.4555925,\n",
      "         \"highlights\": {\n",
      "            \"content\": [\n",
      "               \"STATE OF KANSAS\\nDEPARTMENT OF ADMINISTRATION\\nOFFICE OF PROCUREMENT AND CONTRACTS\\nPHONE: (785) 296-2376\\n900 S.W.\",\n",
      "               \"., ROOM 451 SOUTH\\nFAX: (785) 296-7240\\nTOPEKA, KS 66612\\nhttp://admin.ks.gov/offices/procurement-and-contracts\\nGOVERNOR JEFF COLYER, M.D.\",\n",
      "               \"The above referenced contract award was recently posted to Procurement and Contracts website.\",\n",
      "               \"The document can\\nbe downloaded by going to the following website: http://www.da.ks.gov/purch/Contracts\\n\\nContract ID: 45081\\nEvent ID: EVT0005464\\nPage 2\\n1. Terms and Conditions\\n1.1.\",\n",
      "               \"Definitions\\nA glossary of common procurement terms is available at http:/ladmin.ks.gov/offices/procurement-and-\\ncontracts, under the \\\"Procurement Forms\\\" link.\\n1.4.\"\n",
      "            ]\n",
      "         }\n",
      "      }\n",
      "   ],\n",
      "   \"api_duration_seconds\": 0,\n",
      "   \"index\": \"textract\"\n",
      "}\n"
     ]
    },
    {
     "data": {
      "text/plain": [
       "{'headers': {'Content-Type': 'application/json'},\n",
       " 'statusCode': 200,\n",
       " 'body': '{\\n   \"q\": \"contracts\",\\n   \"hits\": [\\n      {\\n         \"document_path\": \"public/23d1a9d2-4fd3-40b0-869c-f5cb8c9a1958\",\\n         \"document_name\": \"KS United Healthcare Contract.pdf\",\\n         \"score\": 1.4555925,\\n         \"highlights\": {\\n            \"content\": [\\n               \"STATE OF KANSAS\\\\nDEPARTMENT OF ADMINISTRATION\\\\nOFFICE OF PROCUREMENT AND CONTRACTS\\\\nPHONE: (785) 296-2376\\\\n900 S.W.\",\\n               \"., ROOM 451 SOUTH\\\\nFAX: (785) 296-7240\\\\nTOPEKA, KS 66612\\\\nhttp://admin.ks.gov/offices/procurement-and-contracts\\\\nGOVERNOR JEFF COLYER, M.D.\",\\n               \"The above referenced contract award was recently posted to Procurement and Contracts website.\",\\n               \"The document can\\\\nbe downloaded by going to the following website: http://www.da.ks.gov/purch/Contracts\\\\n\\\\nContract ID: 45079\\\\nEvent ID: EVT0005464\\\\nPage 2\\\\n1. Terms and Conditions\\\\n1.1.\",\\n               \"Definitions\\\\nA glossary of common procurement terms is available at http://admin.ks.gov/offices/procurement-and-\\\\ncontracts, under the \\\\\"Procurement Forms\\\\\" link.\\\\n1.4.\"\\n            ]\\n         }\\n      },\\n      {\\n         \"document_path\": \"public/5cd8a466-0e0c-474e-b552-2f9d0da90e7b\",\\n         \"document_name\": \"KS Aetna Contract.pdf\",\\n         \"score\": 1.4555925,\\n         \"highlights\": {\\n            \"content\": [\\n               \"STATE OF KANSAS\\\\nDEPARTMENT OF ADMINISTRATION\\\\nOFFICE OF PROCUREMENT AND CONTRACTS\\\\nPHONE: (785) 296-2376\\\\n900 S.W.\",\\n               \"., ROOM 451 SOUTH\\\\nFAX: (785) 296-7240\\\\nTOPEKA, KS 66612\\\\nhttp://admin.ks.gov/offices/procurement-and-contracts\\\\nGOVERNOR JEFF COLYER, M.D.\",\\n               \"The above referenced contract award was recently posted to Procurement and Contracts website.\",\\n               \"The document can\\\\nbe downloaded by going to the following website: http://www.da.ks.gov/purch/Contracts\\\\n\\\\nContract ID: 45081\\\\nEvent ID: EVT0005464\\\\nPage 2\\\\n1. Terms and Conditions\\\\n1.1.\",\\n               \"Definitions\\\\nA glossary of common procurement terms is available at http:/ladmin.ks.gov/offices/procurement-and-\\\\ncontracts, under the \\\\\"Procurement Forms\\\\\" link.\\\\n1.4.\"\\n            ]\\n         }\\n      }\\n   ],\\n   \"api_duration_seconds\": 0,\\n   \"index\": \"textract\"\\n}',\n",
       " 'isBase64Encoded': True}"
      ]
     },
     "execution_count": 33,
     "metadata": {},
     "output_type": "execute_result"
    }
   ],
   "source": [
    "app.lambda_handler(event, json.dumps({}))\n",
    "# event: copy from the json dumps thing below -- folow querystringparams\n",
    "# context: something empty?"
   ]
  },
  {
   "cell_type": "markdown",
   "id": "d90eecf1-eaee-42a8-bad7-88b094b6d9eb",
   "metadata": {},
   "source": [
    "## Once API is up"
   ]
  },
  {
   "cell_type": "code",
   "execution_count": null,
   "id": "545b6d58-8af2-4227-bb64-c7fd837d5e5a",
   "metadata": {},
   "outputs": [],
   "source": [
    "host = \"vpc-dusstac-dussta-1n8niblaemqb-otcfzpck6s7czlgni6gxcb4rru.us-east-1.es.amazonaws.com\""
   ]
  },
  {
   "cell_type": "code",
   "execution_count": null,
   "id": "2e8c7148-0bcd-4e40-b00a-3ad462263bf2",
   "metadata": {},
   "outputs": [],
   "source": [
    "response = requests.post(SUMMARIZATION_URL,json.dumps({\"model_type\":\"lexrank\",\"text\": text,\"n_sent\": n_sent,}))"
   ]
  }
 ],
 "metadata": {
  "kernelspec": {
   "display_name": "Python 3 (ipykernel)",
   "language": "python",
   "name": "python3"
  },
  "language_info": {
   "codemirror_mode": {
    "name": "ipython",
    "version": 3
   },
   "file_extension": ".py",
   "mimetype": "text/x-python",
   "name": "python",
   "nbconvert_exporter": "python",
   "pygments_lexer": "ipython3",
   "version": "3.7.11"
  }
 },
 "nbformat": 4,
 "nbformat_minor": 5
}
