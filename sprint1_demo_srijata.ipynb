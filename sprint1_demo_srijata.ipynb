{
 "cells": [
  {
   "cell_type": "markdown",
   "id": "592a1c3e",
   "metadata": {},
   "source": [
    "# Import Libaries"
   ]
  },
  {
   "cell_type": "code",
   "execution_count": 1,
   "id": "db4bf47a",
   "metadata": {
    "scrolled": true
   },
   "outputs": [],
   "source": [
    "try:\n",
    "    from elasticsearch import Elasticsearch, RequestsHttpConnection\n",
    "    from elasticsearch.client import IndicesClient\n",
    "    from elasticsearch.helpers import reindex\n",
    "except:\n",
    "    !pip install 'elasticsearch<7.14.0'\n",
    "    from elasticsearch import Elasticsearch, RequestsHttpConnection\n",
    "    from elasticsearch.client import IndicesClient\n",
    "    from elasticsearch.helpers import reindex\n",
    "    \n",
    "try:\n",
    "    from requests_aws4auth import AWS4Auth\n",
    "except:\n",
    "    !pip install requests_aws4auth\n",
    "    from requests_aws4auth import AWS4Auth\n",
    "    \n",
    "import boto3\n",
    "import botocore\n",
    "import os\n",
    "import pandas as pd\n",
    "import numpy as np\n",
    "import re\n",
    "import time\n",
    "# import datetime\n",
    "from datetime import datetime\n",
    "import dateutil.parser as parser"
   ]
  },
  {
   "cell_type": "markdown",
   "id": "0b9af256",
   "metadata": {},
   "source": [
    "## Send HTTPS request to ES"
   ]
  },
  {
   "cell_type": "code",
   "execution_count": 2,
   "id": "8ea37f15",
   "metadata": {},
   "outputs": [],
   "source": [
    "service = 'es'\n",
    "ss = boto3.Session()\n",
    "credentials = ss.get_credentials()\n",
    "region = ss.region_name\n",
    "\n",
    "#ES domain\n",
    "host = \"vpc-dusstac-dussta-1n8niblaemqb-otcfzpck6s7czlgni6gxcb4rru.us-east-1.es.amazonaws.com\"\n",
    "\n",
    "awsauth = AWS4Auth(credentials.access_key, credentials.secret_key,\n",
    "                   region, service, session_token=credentials.token)\n",
    "\n",
    "# set up ES client for future API calls\n",
    "es = Elasticsearch(\n",
    "    hosts=[{'host': host, 'port': 443}],\n",
    "    http_auth=awsauth,\n",
    "    use_ssl=True,\n",
    "    verify_certs=True,\n",
    "    connection_class=RequestsHttpConnection\n",
    ")"
   ]
  },
  {
   "cell_type": "markdown",
   "id": "d14da94f",
   "metadata": {},
   "source": [
    "### Test Connection to AWS ES Service\n",
    "Testing the connection to ES using a HTTP request body and parameters. `searchBody` below is the same as the search body in dusstackapiprocessor. The index in DUS is called `textract`."
   ]
  },
  {
   "cell_type": "code",
   "execution_count": 3,
   "id": "d01d6d24-32f8-4d43-9064-056218c76a37",
   "metadata": {},
   "outputs": [
    {
     "data": {
      "text/plain": [
       "<Elasticsearch([{'host': 'vpc-dusstac-dussta-1n8niblaemqb-otcfzpck6s7czlgni6gxcb4rru.us-east-1.es.amazonaws.com', 'port': 443}])>"
      ]
     },
     "execution_count": 3,
     "metadata": {},
     "output_type": "execute_result"
    }
   ],
   "source": [
    "es"
   ]
  },
  {
   "cell_type": "code",
   "execution_count": 4,
   "id": "3cbe9239-d0c5-437d-b64b-9ccb2ed24348",
   "metadata": {
    "scrolled": true,
    "tags": []
   },
   "outputs": [
    {
     "name": "stdout",
     "output_type": "stream",
     "text": [
      "{\n",
      "  \"textract\" : {\n",
      "    \"aliases\" : { },\n",
      "    \"mappings\" : {\n",
      "      \"properties\" : {\n",
      "        \"5\" : {\n",
      "          \"properties\" : {\n",
      "            \" this authorization shall be in force and effect until 12/31/2020 (date event), at which time this authorization expires\" : {\n",
      "              \"type\" : \"text\",\n",
      "              \"fields\" : {\n",
      "                \"keyword\" : {\n",
      "                  \"type\" : \"keyword\",\n",
      "                  \"ignore_above\" : 256\n",
      "                }\n",
      "              }\n",
      "            }\n",
      "          }\n",
      "        },\n",
      "        \"anatomy\" : {\n",
      "          \"type\" : \"text\",\n",
      "          \"fields\" : {\n",
      "            \"keyword\" : {\n",
      "              \"type\" : \"keyword\",\n",
      "              \"ignore_above\" : 256\n",
      "            }\n",
      "          }\n",
      "        },\n",
      "        \"bucket\" : {\n",
      "          \"type\" : \"text\",\n",
      "          \"fields\" : {\n",
      "            \"keyword\" : {\n",
      "              \"type\" : \"keyword\",\n",
      "              \"ignore_above\" : 256\n",
      "            }\n",
      "          }\n",
      "        },\n",
      "        \"by\" : {\n",
      "          \"type\" : \"text\",\n",
      "          \"fields\" : {\n",
      "            \"keyword\" : {\n",
      "              \"type\" : \"keyword\",\n",
      "              \"ignore_above\" : 256\n",
      "            }\n",
      "          }\n",
      "        },\n",
      "        \"christa capozzola\" : {\n",
      "          \"type\" : \"text\",\n",
      "          \"fields\" : {\n",
      "            \"keyword\" : {\n",
      "              \"type\" : \"keyword\",\n",
      "              \"ignore_above\" : 256\n",
      "            }\n",
      "          }\n",
      "        },\n",
      "        \"circular\" : {\n",
      "          \"type\" : \"text\",\n",
      "          \"fields\" : {\n",
      "            \"keyword\" : {\n",
      "              \"type\" : \"keyword\",\n",
      "              \"ignore_above\" : 256\n",
      "            }\n",
      "          }\n",
      "        },\n",
      "        \"commercial_item\" : {\n",
      "          \"type\" : \"text\",\n",
      "          \"fields\" : {\n",
      "            \"keyword\" : {\n",
      "              \"type\" : \"keyword\",\n",
      "              \"ignore_above\" : 256\n",
      "            }\n",
      "          }\n",
      "        },\n",
      "        \"content\" : {\n",
      "          \"type\" : \"text\",\n",
      "          \"fields\" : {\n",
      "            \"keyword\" : {\n",
      "              \"type\" : \"keyword\",\n",
      "              \"ignore_above\" : 256\n",
      "            }\n",
      "          }\n",
      "        },\n",
      "        \"current pharmacy name\" : {\n",
      "          \"type\" : \"text\",\n",
      "          \"fields\" : {\n",
      "            \"keyword\" : {\n",
      "              \"type\" : \"keyword\",\n",
      "              \"ignore_above\" : 256\n",
      "            }\n",
      "          }\n",
      "        },\n",
      "        \"current physician name\" : {\n",
      "          \"type\" : \"text\",\n",
      "          \"fields\" : {\n",
      "            \"keyword\" : {\n",
      "              \"type\" : \"keyword\",\n",
      "              \"ignore_above\" : 256\n",
      "            }\n",
      "          }\n",
      "        },\n",
      "        \"date\" : {\n",
      "          \"type\" : \"date\",\n",
      "          \"format\" : \"M'/'dd'/'yyyy||date||year||year_month||dd MMM yyyy||dd'/'MM'/'yyyy||yyyy'/'MM'/'dd||dd'/'MM'/'YY||year_month_day||MM'/'dd'/'yy||dd MMM||MM'/'yyyy||M-dd-yyyy||MM'/'dd'/'yyyy||M||d'/'MM'/'yyyy||MM'/'dd'/'yy\"\n",
      "        },\n",
      "        \"date of last update\" : {\n",
      "          \"type\" : \"text\",\n",
      "          \"fields\" : {\n",
      "            \"keyword\" : {\n",
      "              \"type\" : \"keyword\",\n",
      "              \"ignore_above\" : 256\n",
      "            }\n",
      "          }\n",
      "        },\n",
      "        \"description\" : {\n",
      "          \"type\" : \"text\",\n",
      "          \"fields\" : {\n",
      "            \"keyword\" : {\n",
      "              \"type\" : \"keyword\",\n",
      "              \"ignore_above\" : 256\n",
      "            }\n",
      "          }\n",
      "        },\n",
      "        \"documentId\" : {\n",
      "          \"type\" : \"text\",\n",
      "          \"fields\" : {\n",
      "            \"keyword\" : {\n",
      "              \"type\" : \"keyword\",\n",
      "              \"ignore_above\" : 256\n",
      "            }\n",
      "          }\n",
      "        },\n",
      "        \"event\" : {\n",
      "          \"type\" : \"text\",\n",
      "          \"fields\" : {\n",
      "            \"keyword\" : {\n",
      "              \"type\" : \"keyword\",\n",
      "              \"ignore_above\" : 256\n",
      "            }\n",
      "          }\n",
      "        },\n",
      "        \"from\" : {\n",
      "          \"type\" : \"text\",\n",
      "          \"fields\" : {\n",
      "            \"keyword\" : {\n",
      "              \"type\" : \"keyword\",\n",
      "              \"ignore_above\" : 256\n",
      "            }\n",
      "          }\n",
      "        },\n",
      "        \"heart attack [https\" : {\n",
      "          \"type\" : \"text\",\n",
      "          \"fields\" : {\n",
      "            \"keyword\" : {\n",
      "              \"type\" : \"keyword\",\n",
      "              \"ignore_above\" : 256\n",
      "            }\n",
      "          }\n",
      "        },\n",
      "        \"link to treatment plan problem\" : {\n",
      "          \"type\" : \"text\",\n",
      "          \"fields\" : {\n",
      "            \"keyword\" : {\n",
      "              \"type\" : \"keyword\",\n",
      "              \"ignore_above\" : 256\n",
      "            }\n",
      "          }\n",
      "        },\n",
      "        \"location\" : {\n",
      "          \"type\" : \"text\",\n",
      "          \"fields\" : {\n",
      "            \"keyword\" : {\n",
      "              \"type\" : \"keyword\",\n",
      "              \"ignore_above\" : 256\n",
      "            }\n",
      "          }\n",
      "        },\n",
      "        \"medical_condition\" : {\n",
      "          \"type\" : \"text\",\n",
      "          \"fields\" : {\n",
      "            \"keyword\" : {\n",
      "              \"type\" : \"keyword\",\n",
      "              \"ignore_above\" : 256\n",
      "            }\n",
      "          }\n",
      "        },\n",
      "        \"medication\" : {\n",
      "          \"type\" : \"text\",\n",
      "          \"fields\" : {\n",
      "            \"keyword\" : {\n",
      "              \"type\" : \"keyword\",\n",
      "              \"ignore_above\" : 256\n",
      "            }\n",
      "          }\n",
      "        },\n",
      "        \"muscle disorders [https\" : {\n",
      "          \"type\" : \"text\",\n",
      "          \"fields\" : {\n",
      "            \"keyword\" : {\n",
      "              \"type\" : \"keyword\",\n",
      "              \"ignore_above\" : 256\n",
      "            }\n",
      "          }\n",
      "        },\n",
      "        \"muscular dystrophy [https\" : {\n",
      "          \"type\" : \"text\",\n",
      "          \"fields\" : {\n",
      "            \"keyword\" : {\n",
      "              \"type\" : \"keyword\",\n",
      "              \"ignore_above\" : 256\n",
      "            }\n",
      "          }\n",
      "        },\n",
      "        \"name\" : {\n",
      "          \"type\" : \"text\",\n",
      "          \"fields\" : {\n",
      "            \"keyword\" : {\n",
      "              \"type\" : \"keyword\",\n",
      "              \"ignore_above\" : 256\n",
      "            }\n",
      "          }\n",
      "        },\n",
      "        \"on\" : {\n",
      "          \"type\" : \"text\",\n",
      "          \"fields\" : {\n",
      "            \"keyword\" : {\n",
      "              \"type\" : \"keyword\",\n",
      "              \"ignore_above\" : 256\n",
      "            }\n",
      "          }\n",
      "        },\n",
      "        \"organization\" : {\n",
      "          \"type\" : \"text\",\n",
      "          \"fields\" : {\n",
      "            \"keyword\" : {\n",
      "              \"type\" : \"keyword\",\n",
      "              \"ignore_above\" : 256\n",
      "            }\n",
      "          }\n",
      "        },\n",
      "        \"other\" : {\n",
      "          \"type\" : \"text\",\n",
      "          \"fields\" : {\n",
      "            \"keyword\" : {\n",
      "              \"type\" : \"keyword\",\n",
      "              \"ignore_above\" : 256\n",
      "            }\n",
      "          }\n",
      "        },\n",
      "        \"patient name\" : {\n",
      "          \"type\" : \"text\",\n",
      "          \"fields\" : {\n",
      "            \"keyword\" : {\n",
      "              \"type\" : \"keyword\",\n",
      "              \"ignore_above\" : 256\n",
      "            }\n",
      "          }\n",
      "        },\n",
      "        \"person\" : {\n",
      "          \"type\" : \"text\",\n",
      "          \"fields\" : {\n",
      "            \"keyword\" : {\n",
      "              \"type\" : \"keyword\",\n",
      "              \"ignore_above\" : 256\n",
      "            }\n",
      "          }\n",
      "        },\n",
      "        \"phone\" : {\n",
      "          \"type\" : \"text\",\n",
      "          \"fields\" : {\n",
      "            \"keyword\" : {\n",
      "              \"type\" : \"keyword\",\n",
      "              \"ignore_above\" : 256\n",
      "            }\n",
      "          }\n",
      "        },\n",
      "        \"printed name of patient or personal representative and his or her relationship to patient\" : {\n",
      "          \"type\" : \"text\",\n",
      "          \"fields\" : {\n",
      "            \"keyword\" : {\n",
      "              \"type\" : \"keyword\",\n",
      "              \"ignore_above\" : 256\n",
      "            }\n",
      "          }\n",
      "        },\n",
      "        \"protected_health_information\" : {\n",
      "          \"type\" : \"text\",\n",
      "          \"fields\" : {\n",
      "            \"keyword\" : {\n",
      "              \"type\" : \"keyword\",\n",
      "              \"ignore_above\" : 256\n",
      "            }\n",
      "          }\n",
      "        },\n",
      "        \"quantity\" : {\n",
      "          \"type\" : \"text\",\n",
      "          \"fields\" : {\n",
      "            \"keyword\" : {\n",
      "              \"type\" : \"keyword\",\n",
      "              \"ignore_above\" : 256\n",
      "            }\n",
      "          }\n",
      "        },\n",
      "        \"signature of patient or personal representative\" : {\n",
      "          \"type\" : \"text\",\n",
      "          \"fields\" : {\n",
      "            \"keyword\" : {\n",
      "              \"type\" : \"keyword\",\n",
      "              \"ignore_above\" : 256\n",
      "            }\n",
      "          }\n",
      "        },\n",
      "        \"subject\" : {\n",
      "          \"type\" : \"text\",\n",
      "          \"fields\" : {\n",
      "            \"keyword\" : {\n",
      "              \"type\" : \"keyword\",\n",
      "              \"ignore_above\" : 256\n",
      "            }\n",
      "          }\n",
      "        },\n",
      "        \"target date\" : {\n",
      "          \"type\" : \"text\",\n",
      "          \"fields\" : {\n",
      "            \"keyword\" : {\n",
      "              \"type\" : \"keyword\",\n",
      "              \"ignore_above\" : 256\n",
      "            }\n",
      "          }\n",
      "        },\n",
      "        \"test_treatment_procedure\" : {\n",
      "          \"type\" : \"text\",\n",
      "          \"fields\" : {\n",
      "            \"keyword\" : {\n",
      "              \"type\" : \"keyword\",\n",
      "              \"ignore_above\" : 256\n",
      "            }\n",
      "          }\n",
      "        },\n",
      "        \"time_expression\" : {\n",
      "          \"type\" : \"text\",\n",
      "          \"fields\" : {\n",
      "            \"keyword\" : {\n",
      "              \"type\" : \"keyword\",\n",
      "              \"ignore_above\" : 256\n",
      "            }\n",
      "          }\n",
      "        },\n",
      "        \"title\" : {\n",
      "          \"type\" : \"text\",\n",
      "          \"fields\" : {\n",
      "            \"keyword\" : {\n",
      "              \"type\" : \"keyword\",\n",
      "              \"ignore_above\" : 256\n",
      "            }\n",
      "          }\n",
      "        },\n",
      "        \"to\" : {\n",
      "          \"type\" : \"text\",\n",
      "          \"fields\" : {\n",
      "            \"keyword\" : {\n",
      "              \"type\" : \"keyword\",\n",
      "              \"ignore_above\" : 256\n",
      "            }\n",
      "          }\n",
      "        },\n",
      "        \"treatment notes\" : {\n",
      "          \"type\" : \"text\",\n",
      "          \"fields\" : {\n",
      "            \"keyword\" : {\n",
      "              \"type\" : \"keyword\",\n",
      "              \"ignore_above\" : 256\n",
      "            }\n",
      "          }\n",
      "        }\n",
      "      }\n",
      "    },\n",
      "    \"settings\" : {\n",
      "      \"index\" : {\n",
      "        \"number_of_shards\" : \"2\",\n",
      "        \"provided_name\" : \"textract\",\n",
      "        \"max_result_window\" : \"10000\",\n",
      "        \"creation_date\" : \"1631581097237\",\n",
      "        \"analysis\" : {\n",
      "          \"filter\" : {\n",
      "            \"custom_stopword_filter\" : {\n",
      "              \"type\" : \"stop\",\n",
      "              \"updateable\" : \"true\",\n",
      "              \"stopwords_path\" : \"analyzers/F220113380\"\n",
      "            },\n",
      "            \"english_stopwords\" : {\n",
      "              \"type\" : \"stop\",\n",
      "              \"stopwords\" : \"_english_\"\n",
      "            },\n",
      "            \"remove_extra_spaces\" : {\n",
      "              \"pattern\" : \"\\\\s+\",\n",
      "              \"type\" : \"pattern_replace\",\n",
      "              \"replacement\" : \" \"\n",
      "            },\n",
      "            \"custom_shingle_filter\" : {\n",
      "              \"max_shingle_size\" : \"3\",\n",
      "              \"min_shingle_size\" : \"2\",\n",
      "              \"output_unigrams_if_no_shingles\" : \"true\",\n",
      "              \"output_unigrams\" : \"true\",\n",
      "              \"type\" : \"shingle\",\n",
      "              \"filler_token\" : \"\"\n",
      "            }\n",
      "          },\n",
      "          \"analyzer\" : {\n",
      "            \"custom_analyzer\" : {\n",
      "              \"filter\" : [ \"asciifolding\", \"lowercase\", \"english_stopwords\", \"custom_stopword_filter\", \"custom_shingle_filter\", \"trim\", \"remove_extra_spaces\", \"unique\" ],\n",
      "              \"type\" : \"custom\",\n",
      "              \"tokenizer\" : \"classic\"\n",
      "            }\n",
      "          }\n",
      "        },\n",
      "        \"number_of_replicas\" : \"1\",\n",
      "        \"uuid\" : \"ZvrS7B31RKKCJxduJOTJqw\",\n",
      "        \"version\" : {\n",
      "          \"created\" : \"7040299\"\n",
      "        }\n",
      "      }\n",
      "    }\n",
      "  }\n",
      "}"
     ]
    }
   ],
   "source": [
    "!curl -H 'Content-Type: application/json' -X GET https://vpc-dusstac-dussta-1n8niblaemqb-otcfzpck6s7czlgni6gxcb4rru.us-east-1.es.amazonaws.com/textract?pretty"
   ]
  },
  {
   "cell_type": "code",
   "execution_count": 16,
   "id": "5d2ced37",
   "metadata": {
    "scrolled": true,
    "tags": []
   },
   "outputs": [
    {
     "name": "stdout",
     "output_type": "stream",
     "text": [
      "The Elasticsearch query returned 18 results.\n",
      "\n",
      "Example output:\n",
      "\n",
      "\n",
      "SOURCE 0: HIGHLIGHT 0\n",
      "Different types diabetic nephropathy, is kidney disease of nerve damage affect different parts of caused by diabetes. You can help protect your body.\n",
      "\n",
      "SOURCE 0: HIGHLIGHT 1\n",
      "& Dementia & Sleep Apnea & Diabetes Diabetes Diabetes Diabetes Depression NIH Diabetes is linked High blood People who have is common among to some types of glucose increases sleep apnea NIH people with\n",
      "\n",
      "SOURCE 0: HIGHLIGHT 2\n",
      "Many the chance of - -when you stop chronic, or long- risk factors for developing breathing for term, illness such cancer and for dementia NIHG. short periods as diabetes. diabetes are the Tell your doctor\n",
      "\n",
      "SOURCE 0: HIGHLIGHT 3\n",
      "This content is provided as a service of the National Institute of Diabetes and Digestive and Kidney Diseases (NIDDK), part of the National Institutes of Health.\n",
      "\n",
      "SOURCE 0: HIGHLIGHT 4\n",
      "Contact Us The National Institute of Diabetes and Digestive and Kidney Diseases Health Information Center Source: National Institute of Diabetes and Digestive and Kidney Diseases (NIDDK); Use of this document\n",
      "\n",
      "SOURCE 1: HIGHLIGHT 0\n",
      "This test measures the amount of creatine kinase (CK) in the blood. CK is a type of protein, known as an enzyme.\n",
      "\n",
      "SOURCE 1: HIGHLIGHT 1\n",
      "It is mostly found in your skeletal muscles and heart, with lesser amounts in the brain. Skeletal muscles are the muscles attached to your skeleton.\n",
      "\n",
      "SOURCE 1: HIGHLIGHT 2\n",
      "There are three types of CK enzymes: CK-MM, found mostly in skeletal muscles CK-MB, found mostly in the heart muscle CK-BB, found mostly in brain tissue A small amount of CK in the blood is normal.\n",
      "\n",
      "SOURCE 1: HIGHLIGHT 3\n",
      "You may have slight pain or bruising at the spot where the needle was put in, but most symptoms go away quickly. What do the results mean?\n",
      "\n",
      "SOURCE 1: HIGHLIGHT 4\n",
      "If you have higher than normal CK-MB enzymes, it may mean you have an inflammation of the heart muscle or are having or recently had a heart attack.\n",
      "\n",
      "SOURCE 2: HIGHLIGHT 0\n",
      "The report also shows increases in IMF deaths co-occurring with multiple opioids, benzodiazepines, cocaine, and methamphetamines; these increases almost negated declines in other types of opioid overdose\n",
      "\n",
      "SOURCE 2: HIGHLIGHT 1\n",
      "the overdose death data do not distinguish between discrete types of opioids, using a measure that does will better guide prevention activities.\n",
      "\n",
      "SOURCE 2: HIGHLIGHT 2\n",
      "The performance report must explain how the measures: clearly reflect the purpose and activities of the agency; enable assessment of agency contribution to the National Drug Control Strategy; are outcome-oriented\n",
      "\n",
      "SOURCE 2: HIGHLIGHT 3\n",
      "The description must include sufficient detail to permit non-experts to understand what is being measured and why it is relevant to those activities.\n",
      "\n",
      "SOURCE 2: HIGHLIGHT 4\n",
      "CDC has also replaced the measure because the overdose death data do not distinguish between discrete types of opioids; using a measure that does will better guide prevention activities.\n",
      "\n",
      "SOURCE 3: HIGHLIGHT 0\n",
      "Captions The captions or headings in this contract are for reference only and do not define, describe, extend, or limit the scope or intent of this contract. 1.3.\n",
      "\n",
      "SOURCE 3: HIGHLIGHT 1\n",
      "Conflict of Interest The Contractor shall not knowingly employ, during the period of this contract or any extensions to it, any professional personnel who are also in the employ of the State and providing\n",
      "\n",
      "SOURCE 3: HIGHLIGHT 2\n",
      "foster care placements or who are involved with multiple systems of care. 2.7.\n",
      "\n",
      "SOURCE 3: HIGHLIGHT 3\n",
      "Termination Due To Lack Of Funding Appropriation: If, in the judgment of the Director of Accounts and Reports, Department of Administration, sufficient funds are not appropriated to continue the function\n",
      "\n",
      "SOURCE 3: HIGHLIGHT 4\n",
      "The provisions of this paragraph number 5 (with the exception of those provisions relating to the ADA) are not applicable to a contractor who employs fewer than four employees during the term of such contract\n",
      "\n",
      "SOURCE 4: HIGHLIGHT 0\n",
      "The data subject to this restriction are set forth on each page of this Statement of Work.\n",
      "\n",
      "SOURCE 4: HIGHLIGHT 1\n",
      "The data subject to this restriction are set forth on each page of this Statement of Work.\n",
      "\n",
      "SOURCE 4: HIGHLIGHT 2\n",
      "The data subject to this restriction are set forth on each page of this Statement of Work.\n",
      "\n",
      "SOURCE 4: HIGHLIGHT 3\n",
      "The data subject to this restriction are set forth on each page of this Statement of Work.\n",
      "\n",
      "SOURCE 4: HIGHLIGHT 4\n",
      "The data subject to this restriction are set forth on each page of this Statement of Work.\n",
      "\n",
      "SOURCE 5: HIGHLIGHT 0\n",
      "the characteristics and health care needs of specific MA populations represented in the PH-MCO, The number and types, in terms of training, experience, and specialization, of Providers required to furnish\n",
      "\n",
      "SOURCE 5: HIGHLIGHT 1\n",
      "the contracted MA services, The number of Network Providers who are not accepting new MA patients, and The geographic location of Providers and Members, considering distance, travel time, the means of\n",
      "\n",
      "SOURCE 5: HIGHLIGHT 2\n",
      "The PH-MCO must make all reasonable efforts to honor a Member's choice of Providers who are credentialed in the Network.\n",
      "\n",
      "SOURCE 5: HIGHLIGHT 3\n",
      "For the following provider types, the PH-MCO must ensure a choice of two (2) providers who are accepting new patients within the travel time limits (30 minutes Urban, 60 minutes Rural): General Surgery\n",
      "\n",
      "SOURCE 5: HIGHLIGHT 4\n",
      "Those laboratories with certificates of waiver will provide only the eight (8) types of tests permitted under the terms of their waiver.\n",
      "\n",
      "SOURCE 6: HIGHLIGHT 0\n",
      "OF 1 DEPARTMENT OF THE ARMY U.S.\n",
      "\n",
      "SOURCE 6: HIGHLIGHT 1\n",
      "Members of the MCDC submitted proposals in accordance with this RPP.\n",
      "\n",
      "SOURCE 6: HIGHLIGHT 2\n",
      "the attached Government Statement of Work (SOW).\n",
      "\n",
      "SOURCE 6: HIGHLIGHT 3\n",
      "Based upon the acceptable update of Pfizer, Inc.'\n",
      "\n",
      "SOURCE 6: HIGHLIGHT 4\n",
      "milestone schedule that meets SOW requirements, and; 3) The price proposed that has been analyzed by the Government, you are hereby directed to issue a Project Agreement to Pfizer, Inc. for the subject\n",
      "\n",
      "SOURCE 7: HIGHLIGHT 0\n",
      "Guilty feelings are described by Julie. \"I should have been with my sister, I had no idea she was suicidal. Sleep has improved with the use of PRN Ambien CR at HS.\n",
      "\n",
      "SOURCE 7: HIGHLIGHT 1\n",
      "Additional Signs or Possible Side Effects: Sedative effects of the medication are described. Patient reports a dry mouth. No other side effects are reported or in evidence.\n",
      "\n",
      "SOURCE 7: HIGHLIGHT 2\n",
      "There are no apparent signs of hallucinations, delusions, bizarre behaviors, or other indicators of psychotic process.\n",
      "\n",
      "SOURCE 7: HIGHLIGHT 3\n",
      "Associations are intact, thinking is logical, and thought content appears appropriate. There are signs of anxiety. Patient is fidgety in a way that is suggestive of anxiety.\n",
      "\n",
      "SOURCE 7: HIGHLIGHT 4\n",
      "Details are as follows: Julie reports being well rested in the morning for the first time in several months. Level of Care: Julie needs continued Inpatient treatment. (Julie is voluntary.)\n",
      "\n",
      "SOURCE 8: HIGHLIGHT 0\n",
      "Captions The captions or headings in this contract are for reference only and do not define, describe, extend, or limit the scope or intent of this contract. 1.3.\n",
      "\n",
      "SOURCE 8: HIGHLIGHT 1\n",
      "Conflict of Interest The Contractor shall not knowingly employ, during the period of this contract or any extensions to it, any professional personnel who are also in the employ of the State and providing\n",
      "\n",
      "SOURCE 8: HIGHLIGHT 2\n",
      "foster care placements or who are involved with multiple systems of care. 2.7.\n",
      "\n",
      "SOURCE 8: HIGHLIGHT 3\n",
      "Termination Due To Lack Of Funding Appropriation: If, in the judgment of the Director of Accounts and Reports, Department of Administration, sufficient funds are not appropriated to continue the function\n",
      "\n",
      "SOURCE 8: HIGHLIGHT 4\n",
      "The provisions of this paragraph number 5 (with the exception of those provisions relating to the ADA) are not applicable to a contractor who employs fewer than four employees during the term of such contract\n",
      "\n",
      "SOURCE 9: HIGHLIGHT 0\n",
      "Captions The captions or headings in this contract are for reference only and do not define, describe, extend, or limit the scope or intent of this contract. 1.3.\n",
      "\n",
      "SOURCE 9: HIGHLIGHT 1\n",
      "Conflict of Interest The Contractor shall not knowingly employ, during the period of this contract or any extensions to it, any professional personnel who are also in the employ of the State and providing\n",
      "\n",
      "SOURCE 9: HIGHLIGHT 2\n",
      "foster care placements or who are involved with multiple systems of care. 2.7.\n",
      "\n",
      "SOURCE 9: HIGHLIGHT 3\n",
      "Termination Due To Lack Of Funding Appropriation: If, in the judgment of the Director of Accounts and Reports, Department of Administration, sufficient funds are not appropriated to continue the function\n",
      "\n",
      "SOURCE 9: HIGHLIGHT 4\n",
      "The provisions of this paragraph number 5 (with the exception of those provisions relating to the ADA) are not applicable to a contractor who employs fewer than four employees during the term of such contract\n",
      "\n",
      "SOURCE 10: HIGHLIGHT 0\n",
      "Captions The captions or headings in this contract are for reference only and do not define, describe, extend, or limit the scope or intent of this contract. 1.3.\n",
      "\n",
      "SOURCE 10: HIGHLIGHT 1\n",
      "Conflict of Interest The Contractor shall not knowingly employ, during the period of this contract or any extensions to it, any professional personnel who are also in the employ of the State and providing\n",
      "\n",
      "SOURCE 10: HIGHLIGHT 2\n",
      "foster care placements or who are involved with multiple systems of care. 2.7.\n",
      "\n",
      "SOURCE 10: HIGHLIGHT 3\n",
      "Termination Due To Lack Of Funding Appropriation: If, in the judgment of the Director of Accounts and Reports, Department of Administration, sufficient funds are not appropriated to continue the function\n",
      "\n",
      "SOURCE 10: HIGHLIGHT 4\n",
      "The provisions of this paragraph number 5 (with the exception of those provisions relating to the ADA) are not applicable to a contractor who employs fewer than four employees during the term of such contract\n",
      "\n",
      "SOURCE 11: HIGHLIGHT 0\n",
      "Captions The captions or headings in this contract are for reference only and do not define, describe, extend, or limit the scope or intent of this contract. 1.3.\n",
      "\n",
      "SOURCE 11: HIGHLIGHT 1\n",
      "Conflict of Interest The Contractor shall not knowingly employ, during the period of this contract or any extensions to it, any professional personnel who are also in the employ of the State and providing\n",
      "\n",
      "SOURCE 11: HIGHLIGHT 2\n",
      "foster care placements or who are involved with multiple systems of care. 2.7.\n",
      "\n",
      "SOURCE 11: HIGHLIGHT 3\n",
      "Termination Due To Lack Of Funding Appropriation: If, in the judgment of the Director of Accounts and Reports, Department of Administration, sufficient funds are not appropriated to continue the function\n",
      "\n",
      "SOURCE 11: HIGHLIGHT 4\n",
      "The provisions of this paragraph number 5 (with the exception of those provisions relating to the ADA) are not applicable to a contractor who employs fewer than four employees during the term of such contract\n",
      "\n",
      "SOURCE 12: HIGHLIGHT 0\n",
      "Captions The captions or headings in this contract are for reference only and do not define, describe, extend, or limit the scope or intent of this contract. 1.3.\n",
      "\n",
      "SOURCE 12: HIGHLIGHT 1\n",
      "Conflict of Interest The Contractor shall not knowingly employ, during the period of this contract or any extensions to it, any professional personnel who are also in the employ of the State and providing\n",
      "\n",
      "SOURCE 12: HIGHLIGHT 2\n",
      "foster care placements or who are involved with multiple systems of care. 2.7.\n",
      "\n",
      "SOURCE 12: HIGHLIGHT 3\n",
      "Termination Due To Lack Of Funding Appropriation: If, in the judgment of the Director of Accounts and Reports, Department of Administration, sufficient funds are not appropriated to continue the function\n",
      "\n",
      "SOURCE 12: HIGHLIGHT 4\n",
      "The provisions of this paragraph number 5 (with the exception of those provisions relating to the ADA) are not applicable to a contractor who employs fewer than four employees during the term of such contract\n",
      "\n",
      "SOURCE 13: HIGHLIGHT 0\n",
      "Finally, the risks associated with lead traction and dislodgment due to Bo-inserted force and torque are negligible as CIED leads are composed of non-magnetic material.\n",
      "\n",
      "SOURCE 13: HIGHLIGHT 1\n",
      "First, FRL models were positioned in a location analogous to the middle of the chest similar to what we observed in patient images, namely position P1 as illustrated in Figure 6A.\n",
      "\n",
      "SOURCE 13: HIGHLIGHT 2\n",
      "Plots of variation of MaxSAR1g as a function of conductivity and permittivity are given in the Supporting Information Figures S1-S5.\n",
      "\n",
      "SOURCE 13: HIGHLIGHT 3\n",
      "Abandoned leads are leads that are simply disconnected from the CIED generator and left in the body.\n",
      "\n",
      "SOURCE 13: HIGHLIGHT 4\n",
      "Retained leads on the other hand, are fragments of bare conductive wires (the insulation comes off during the extraction) that are left in the body after an attempt is made to extract the lead.\n",
      "\n",
      "SOURCE 14: HIGHLIGHT 0\n",
      "OF 1 DEPARTMENT OF THE ARMY U.S.\n",
      "\n",
      "SOURCE 14: HIGHLIGHT 1\n",
      "Members of the MCDC submitted proposals in accordance with this RPP.\n",
      "\n",
      "SOURCE 14: HIGHLIGHT 2\n",
      "the attached Government Statement of Work (SOW).\n",
      "\n",
      "SOURCE 14: HIGHLIGHT 3\n",
      "included in the Government SOW; 2) An acceptable milestone schedule that meets SOW requirements, and; 3) The price proposed that has been analyzed by the Government, you are hereby directed to issue a\n",
      "\n",
      "SOURCE 14: HIGHLIGHT 4\n",
      "The effort currently has $1,950,097,500.00 of available funding, comprised of $1,950,000,000.00 for the Project Agreement, $67,500.00 for the CMF Special Allocation, and $30,000 for other, non G&A, ATI\n",
      "\n",
      "SOURCE 15: HIGHLIGHT 0\n",
      "HIPAA Privacy Authorization Form **Authorization for Use or Disclosure of Protected Health Information (Required by the Health Insurance Portability and Accountability Act, 45 C.F.R.\n",
      "\n",
      "SOURCE 15: HIGHLIGHT 1\n",
      "Sarah Smith (individual seeking the information). **2. Effective Period** This authorization for release of information covers the period of healthcare from: a. to .\n",
      "\n",
      "SOURCE 15: HIGHLIGHT 2\n",
      "Extent of Authorization** a. t I authorize the release of my complete health record (including records relating to mental healthcare, communicable diseases, HIV or AIDS, and treatment of alcohol or drug\n",
      "\n",
      "SOURCE 15: HIGHLIGHT 3\n",
      "I authorize the release of my complete health record with the exception of the following information: Mental health records Communicable diseases (including HIV and AIDS) Alcohol/drug abuse treatment Other\n",
      "\n",
      "SOURCE 15: HIGHLIGHT 4\n",
      "I understand that a revocation is not effective to the extent that any person or entity has already acted in reliance on my authorization or if my authorization was obtained as a condition of obtaining\n",
      "\n",
      "SOURCE 16: HIGHLIGHT 0\n",
      "A Simple PDF File This is a small demonstration pdf file - just for use in the Virtual Mechanics tutorials. More text. And more text. And more text. And more text. And more text. And more text.\n",
      "\n",
      "SOURCE 16: HIGHLIGHT 1\n",
      "The end, and just as well.\n",
      "\n",
      "SOURCE 17: HIGHLIGHT 0\n",
      "MEDICAL HISTORY FORM TEMPLATE PATIENT NAME DATE of LAST UPDATE Jane Doe 02/03/2020 CURRENT PHYSICIAN NAME PHONE Dr.\n",
      "\n"
     ]
    }
   ],
   "source": [
    "# search query\n",
    "# keyword = \"What is diabetes\\?\"\n",
    "# keyword = \"What are the types of diabetes\\?\"\n",
    "# keyword = \"What are the types of contracts\\?\"\n",
    "keyword = \"contracts\"\n",
    "\n",
    "# size of the result fragment returned by ES\n",
    "ES_HIGHLIGHT_FRAGMENT_SIZE = 200\n",
    "\n",
    "# HTTP request parameters that will be sent to ES API\n",
    "searchBody = {\n",
    "    # set up for string based queries\n",
    "    \"query\" : {\n",
    "        \"query_string\": {\n",
    "            \"query\": keyword\n",
    "        }\n",
    "    },\n",
    "    # set up for result fragments that are returned by ES\n",
    "    \"highlight\" : {\n",
    "        \"fields\" : {\n",
    "            \"content\" : { \"pre_tags\" : [\"\"], \"post_tags\" : [\"\"] },\n",
    "        },\n",
    "        \"fragment_size\" : ES_HIGHLIGHT_FRAGMENT_SIZE,\n",
    "        \"require_field_match\": False\n",
    "    }\n",
    "}\n",
    "\n",
    "# make a query against existing index in ES via call to API\n",
    "output = es.search(\n",
    "    index='textract',\n",
    "    size=1000,\n",
    "    body=searchBody,\n",
    "    _source = True,\n",
    "    filter_path=[\n",
    "        'hits.hits._id',\n",
    "        'hits.hits._source',\n",
    "        'hits.hits.highlight',\n",
    "        'hits.hits._score',\n",
    "        'hits.hits.date'\n",
    "    ],\n",
    "    request_timeout=5 # this isn't what limits to 5 fragments\n",
    ")\n",
    "\n",
    "# Download and save\n",
    "df_res = pd.DataFrame(columns=['doc_path','doc_name','score', 'highlight'])\n",
    "\n",
    "# parse results from search; returns 5 fragments from each source\n",
    "n_results = len(output[\"hits\"][\"hits\"])\n",
    "print(f\"The Elasticsearch query returned {n_results} results.\\n\")\n",
    "\n",
    "print(f\"Example output:\\n\\n\")\n",
    "for i,x in enumerate(output[\"hits\"][\"hits\"]):\n",
    "    newrow = {'doc_path':os.path.split(x['_source']['name'])[0],\n",
    "              'doc_name':os.path.split(x['_source']['name'])[1],\n",
    "              'score':x['_score'],\n",
    "              'highlight':''}\n",
    "    for j,highlight in enumerate(x['highlight']['content']):\n",
    "        print(f\"SOURCE {i}: HIGHLIGHT {j}\")\n",
    "        highlight = highlight.replace(\"\\n\",\" \")\n",
    "        print(f\"{highlight}\\n\")\n",
    "        newrow['highlight'] = highlight\n",
    "        df_res.loc[df_res.shape[0],:] = newrow\n",
    "        \n",
    "# save the file\n",
    "# flnm = 'query_' + re.sub('\\W+','', keyword.replace(\" \",\"_\").lower()) + '_1.csv'\n",
    "# df_res.to_csv(flnm, index=False)"
   ]
  },
  {
   "cell_type": "code",
   "execution_count": 17,
   "id": "41ffb288-5107-4433-b04d-cd2158a8a73d",
   "metadata": {},
   "outputs": [
    {
     "data": {
      "text/plain": [
       "18"
      ]
     },
     "execution_count": 17,
     "metadata": {},
     "output_type": "execute_result"
    }
   ],
   "source": [
    "len(output['hits']['hits'])"
   ]
  },
  {
   "cell_type": "markdown",
   "id": "51fba437",
   "metadata": {},
   "source": [
    "## Download Test"
   ]
  },
  {
   "cell_type": "code",
   "execution_count": 103,
   "id": "a7e9dd48",
   "metadata": {},
   "outputs": [
    {
     "name": "stdout",
     "output_type": "stream",
     "text": [
      "The Elasticsearch query returned 17 results.\n",
      "\n",
      "Example output:\n",
      "\n",
      "\n"
     ]
    }
   ],
   "source": [
    "# set up a query and download the contents\n",
    "# use output from previous query\n",
    "# why does highlight only return 5?\n",
    "\n",
    "df_res = pd.DataFrame(columns=['doc_path','doc_name','score', 'highlight'])\n",
    "\n",
    "# parse results from search; returns 5 fragments from each source\n",
    "n_results = len(output[\"hits\"][\"hits\"])\n",
    "print(f\"The Elasticsearch query returned {n_results} results.\\n\")\n",
    "\n",
    "print(f\"Example output:\\n\\n\")\n",
    "for i,x in enumerate(output[\"hits\"][\"hits\"]):\n",
    "    newrow = {'doc_path':os.path.split(x['_source']['name'])[0],\n",
    "              'doc_name':os.path.split(x['_source']['name'])[1],\n",
    "              'score':x['_score'],\n",
    "              'highlight':''}\n",
    "#     df_res.loc[df_res.shape[0],:] = newrow\n",
    "    for j,highlight in enumerate(x['highlight']['content']):\n",
    "        highlight = highlight.replace(\"\\n\",\" \")\n",
    "        newrow['highlight'] = highlight\n",
    "        df_res.loc[df_res.shape[0],:] = newrow"
   ]
  },
  {
   "cell_type": "code",
   "execution_count": 104,
   "id": "861f5053",
   "metadata": {},
   "outputs": [],
   "source": [
    "df_res.to_csv('save_query_types_of_diabetes.csv', index=False)"
   ]
  },
  {
   "cell_type": "markdown",
   "id": "2f5e1eb5-380d-4297-8ce4-5a1874f7041f",
   "metadata": {},
   "source": [
    "# Examine the Index from stackoverflow"
   ]
  },
  {
   "cell_type": "code",
   "execution_count": 145,
   "id": "bdebfef7-6785-4e1e-8f7e-55fef11b5169",
   "metadata": {},
   "outputs": [],
   "source": [
    "res = es.search(\n",
    "    index='originaltextractindex',\n",
    "    body= {'size':10000,\n",
    "           'query': {\n",
    "               'match_all':{}\n",
    "           }\n",
    "          },\n",
    ")"
   ]
  },
  {
   "cell_type": "code",
   "execution_count": 146,
   "id": "89c55112-e991-4d9f-8cb5-554b7a152269",
   "metadata": {},
   "outputs": [
    {
     "name": "stdout",
     "output_type": "stream",
     "text": [
      "0 [datetime.datetime(2014, 3, 15, 6, 25, 10), '+0300'] public/85f5715b-c972-41e7-a554-9174d9799fca/32100355.pdf\n",
      "1 [datetime.datetime(2009, 4, 18, 11, 48, 38), '-0430'] public/a3744816-6066-4f34-b066-5411a4bf4555/Creatine_Kinase_-_MedlinePlus_Medical_Test.pdf\n",
      "2 [datetime.datetime(2018, 9, 3, 14, 48, 46), '-0030'] public/23d1a9d2-4fd3-40b0-869c-f5cb8c9a1958/KS United Healthcare Contract.pdf\n",
      "3 [datetime.datetime(2017, 11, 21, 19, 31, 50), '+0500'] public/504aa6d9-ad31-4e7d-9a0c-18fbda4bb45e/KS Aetna Contract.pdf\n",
      "4 [datetime.datetime(1994, 11, 4, 3, 13, 46), '-0800'] public/65b27304-1f38-4227-af57-ead1b1d27266/Preventing_Diabetes_Problems_NIDDK.pdf\n",
      "5 [datetime.datetime(2003, 5, 10, 6, 17, 28), '+0100'] public/a55db906-83f2-45e2-99de-5d80293f009d/KS Sunflower Health Plan Contract.pdf\n",
      "6 [datetime.datetime(2010, 10, 11, 17, 8, 47), '+0800'] public/4c9040b9-cf33-4a81-84cd-ec057c328afe/KS Aetna Contract.pdf\n"
     ]
    }
   ],
   "source": [
    "for i,doc in enumerate(res['hits']['hits']):\n",
    "    print(i, createDate(), doc['_source']['name'])"
   ]
  },
  {
   "cell_type": "markdown",
   "id": "baba15d6-9bfa-495e-8d3d-8d7eb73a9c36",
   "metadata": {},
   "source": [
    "### Finding pdf date modified"
   ]
  },
  {
   "cell_type": "code",
   "execution_count": 7,
   "id": "581212bc-cfc4-4167-bd42-54034e3cef36",
   "metadata": {},
   "outputs": [
    {
     "name": "stdout",
     "output_type": "stream",
     "text": [
      "[{'CreationDate': b\"D:20141015162659-06'00'\", 'Creator': b'Adobe Acrobat Pro 10.0.0', 'ModDate': b\"D:20180417152548-07'00'\", 'Producer': b'Adobe Acrobat 10.0 Paper Capture Plug-in', 'Title': b''}]\n"
     ]
    }
   ],
   "source": [
    "from pdfminer.pdfparser import PDFParser\n",
    "from pdfminer.pdfdocument import PDFDocument\n",
    "\n",
    "fp = open('local_file', 'rb')\n",
    "parser = PDFParser(fp)\n",
    "doc = PDFDocument(parser)\n",
    "\n",
    "print(doc.info)  # The \"Info\" metadata"
   ]
  },
  {
   "cell_type": "code",
   "execution_count": 42,
   "id": "ce76b464-71c7-4738-aaed-f6fe7a796e41",
   "metadata": {},
   "outputs": [],
   "source": [
    "def convertPdfDatetime(dt, dtformat = None):\n",
    "    if dtformat is None:\n",
    "        dtformat = \"%Y%m%d%H%M%S\"\n",
    "    print(dt)\n",
    "    clean = re.split('([+ -])', dt.decode(\"utf-8\").replace(\"D:\",\"\"))\n",
    "    gmt = datetime.strptime(clean[0], dtformat)\n",
    "    timezone = clean[1] + clean[2]\n",
    "    return gmt, timezone\n",
    "    # time zone parsing?"
   ]
  },
  {
   "cell_type": "code",
   "execution_count": 43,
   "id": "001bc573-bdec-4767-aecd-65d2bd3f04ac",
   "metadata": {},
   "outputs": [
    {
     "name": "stdout",
     "output_type": "stream",
     "text": [
      "b\"D:20180417152548-07'00'\"\n"
     ]
    },
    {
     "data": {
      "text/plain": [
       "(datetime.datetime(2018, 4, 17, 15, 25, 48), \"-07'00'\")"
      ]
     },
     "execution_count": 43,
     "metadata": {},
     "output_type": "execute_result"
    }
   ],
   "source": [
    "convertPdfDatetime(doc.info[0]['ModDate'])"
   ]
  },
  {
   "cell_type": "markdown",
   "id": "eea073be-429e-4f0b-a7b2-2458baf2f247",
   "metadata": {},
   "source": [
    "1. year\n",
    "2. month\n",
    "1. date\n",
    "1. hour\n",
    "1. min\n",
    "1. sec\n",
    "1. sign\n",
    "1. hr sign\n",
    "1. half hr sign"
   ]
  },
  {
   "cell_type": "code",
   "execution_count": 32,
   "id": "ad262b7d-5008-4052-88d0-838899399fe6",
   "metadata": {},
   "outputs": [],
   "source": [
    "def createDate(dtformat = None, return_type = None):\n",
    "    # a mess\n",
    "    if dtformat is None:\n",
    "        dtformat = \"%Y%m%d%H%M%S\"\n",
    "    \n",
    "    if return_type is None:\n",
    "        return_type = 'iso' # raw/tuple/iso\n",
    "\n",
    "    # regenerated only when this cell is run\n",
    "    randconfig = {\n",
    "                  'year': np.random.randint(2000,2022),\n",
    "                  'month': np.random.randint(1, 12),\n",
    "                  'day': np.random.randint(1,28),\n",
    "                  'hour': np.random.randint(1, 24),\n",
    "                  'minute': np.random.randint(1, 60),\n",
    "                  'second': np.random.uniform(1, 60),\n",
    "                  'sign': np.random.choice(['-','+']),\n",
    "                  'tz_hr': np.random.randint(0, 12),\n",
    "                  'tz_min': np.random.choice([0, 30]),\n",
    "                 }\n",
    "    \n",
    "    if return_type.lower() == 'iso':\n",
    "        # pattern = '%04d-%02d-%02dT%02d:%02d:%02.3dZ%s%02d%02d' # trying to do ISO directly, superseded by dateutils.parser\n",
    "        pattern = '%04d%02d%02d %02d:%02d:%02.3d%s%02d%02d'\n",
    "        dtstr = pattern %(randconfig['year'], randconfig['month'], randconfig['day'], randconfig['hour'], randconfig['minute'], randconfig['second'], randconfig['sign'], randconfig['tz_hr'], randconfig['tz_min'])\n",
    "        dtstr = parser.parse(dtstr).isoformat()\n",
    "    else:\n",
    "        # pattern = '%d%02d%02d%02d%02d%02d%s%02d%02d'\n",
    "        pattern = '%d%02d%02d%02d%02d%02.3f%s%02d%02d' # seconds upto ms\n",
    "        dtstr = pattern %(randconfig['year'], randconfig['month'], randconfig['day'], randconfig['hour'], randconfig['minute'], randconfig['second'], randconfig['sign'], randconfig['tz_hr'], randconfig['tz_min'])\n",
    "    \n",
    "    if return_type.lower() == 'tuple':\n",
    "        clean = re.split('([+ -])', dtstr)\n",
    "        gmt = datetime.strptime(clean[0], dtformat)\n",
    "        timezone = clean[1] + clean[2]\n",
    "        return [gmt, timezone]\n",
    "    else:\n",
    "        return dtstr\n",
    "    "
   ]
  },
  {
   "cell_type": "code",
   "execution_count": 35,
   "id": "0924f48f-2e2c-48f9-9593-efdbfc7acbb8",
   "metadata": {},
   "outputs": [
    {
     "data": {
      "text/plain": [
       "'2008-01-18T06:28:48+04:00'"
      ]
     },
     "execution_count": 35,
     "metadata": {},
     "output_type": "execute_result"
    }
   ],
   "source": [
    "createDate(return_type='iso')"
   ]
  },
  {
   "cell_type": "raw",
   "id": "88aee7f1-eafa-4c71-b6ea-478af70d946a",
   "metadata": {},
   "source": [
    "YYYY-MM-DDTHH:MM:SS.DDDZ"
   ]
  },
  {
   "cell_type": "code",
   "execution_count": null,
   "id": "24a09bf7-4e5c-4b50-b9b2-bdb93fbb6503",
   "metadata": {},
   "outputs": [],
   "source": [
    "randconfig"
   ]
  },
  {
   "cell_type": "code",
   "execution_count": 24,
   "id": "309680cc-d590-4c4d-b7b3-c2c996376a39",
   "metadata": {},
   "outputs": [
    {
     "name": "stdout",
     "output_type": "stream",
     "text": [
      "2010-12-16T12:14:05.890000+00:00\n"
     ]
    }
   ],
   "source": [
    "# text = 'Thu, 16 Dec 2010 12:14:05.8 +0000'\n",
    "text = '20101216 12:14:05.89+0000'\n",
    "date = parser.parse(text)\n",
    "print(date.isoformat())\n",
    "# 2010-12-16T12:14:05+00:00"
   ]
  },
  {
   "cell_type": "code",
   "execution_count": 171,
   "id": "f9cf315e-40e6-4742-81d7-686e79c3f9d2",
   "metadata": {},
   "outputs": [
    {
     "data": {
      "text/plain": [
       "'20050621021021-0600'"
      ]
     },
     "execution_count": 171,
     "metadata": {},
     "output_type": "execute_result"
    }
   ],
   "source": [
    "dtstr"
   ]
  },
  {
   "cell_type": "code",
   "execution_count": 13,
   "id": "fb8af68a-9df6-4fef-ab23-9d0c2b74dcd1",
   "metadata": {},
   "outputs": [
    {
     "ename": "ParserError",
     "evalue": "Unknown string format: 20040726094841.734+0600",
     "output_type": "error",
     "traceback": [
      "\u001b[0;31m---------------------------------------------------------------------------\u001b[0m",
      "\u001b[0;31mParserError\u001b[0m                               Traceback (most recent call last)",
      "\u001b[0;32m/tmp/ipykernel_8432/3808156698.py\u001b[0m in \u001b[0;36m<module>\u001b[0;34m\u001b[0m\n\u001b[0;32m----> 1\u001b[0;31m \u001b[0mparser\u001b[0m\u001b[0;34m.\u001b[0m\u001b[0mparse\u001b[0m\u001b[0;34m(\u001b[0m\u001b[0mcreateDate\u001b[0m\u001b[0;34m(\u001b[0m\u001b[0mreturn_type\u001b[0m\u001b[0;34m=\u001b[0m\u001b[0;34m'raw'\u001b[0m\u001b[0;34m)\u001b[0m\u001b[0;34m)\u001b[0m\u001b[0;34m.\u001b[0m\u001b[0misoformat\u001b[0m\u001b[0;34m(\u001b[0m\u001b[0;34m)\u001b[0m\u001b[0;34m\u001b[0m\u001b[0;34m\u001b[0m\u001b[0m\n\u001b[0m",
      "\u001b[0;32m~/.local/lib/python3.7/site-packages/dateutil/parser/_parser.py\u001b[0m in \u001b[0;36mparse\u001b[0;34m(timestr, parserinfo, **kwargs)\u001b[0m\n\u001b[1;32m   1366\u001b[0m         \u001b[0;32mreturn\u001b[0m \u001b[0mparser\u001b[0m\u001b[0;34m(\u001b[0m\u001b[0mparserinfo\u001b[0m\u001b[0;34m)\u001b[0m\u001b[0;34m.\u001b[0m\u001b[0mparse\u001b[0m\u001b[0;34m(\u001b[0m\u001b[0mtimestr\u001b[0m\u001b[0;34m,\u001b[0m \u001b[0;34m**\u001b[0m\u001b[0mkwargs\u001b[0m\u001b[0;34m)\u001b[0m\u001b[0;34m\u001b[0m\u001b[0;34m\u001b[0m\u001b[0m\n\u001b[1;32m   1367\u001b[0m     \u001b[0;32melse\u001b[0m\u001b[0;34m:\u001b[0m\u001b[0;34m\u001b[0m\u001b[0;34m\u001b[0m\u001b[0m\n\u001b[0;32m-> 1368\u001b[0;31m         \u001b[0;32mreturn\u001b[0m \u001b[0mDEFAULTPARSER\u001b[0m\u001b[0;34m.\u001b[0m\u001b[0mparse\u001b[0m\u001b[0;34m(\u001b[0m\u001b[0mtimestr\u001b[0m\u001b[0;34m,\u001b[0m \u001b[0;34m**\u001b[0m\u001b[0mkwargs\u001b[0m\u001b[0;34m)\u001b[0m\u001b[0;34m\u001b[0m\u001b[0;34m\u001b[0m\u001b[0m\n\u001b[0m\u001b[1;32m   1369\u001b[0m \u001b[0;34m\u001b[0m\u001b[0m\n\u001b[1;32m   1370\u001b[0m \u001b[0;34m\u001b[0m\u001b[0m\n",
      "\u001b[0;32m~/.local/lib/python3.7/site-packages/dateutil/parser/_parser.py\u001b[0m in \u001b[0;36mparse\u001b[0;34m(self, timestr, default, ignoretz, tzinfos, **kwargs)\u001b[0m\n\u001b[1;32m    641\u001b[0m \u001b[0;34m\u001b[0m\u001b[0m\n\u001b[1;32m    642\u001b[0m         \u001b[0;32mif\u001b[0m \u001b[0mres\u001b[0m \u001b[0;32mis\u001b[0m \u001b[0;32mNone\u001b[0m\u001b[0;34m:\u001b[0m\u001b[0;34m\u001b[0m\u001b[0;34m\u001b[0m\u001b[0m\n\u001b[0;32m--> 643\u001b[0;31m             \u001b[0;32mraise\u001b[0m \u001b[0mParserError\u001b[0m\u001b[0;34m(\u001b[0m\u001b[0;34m\"Unknown string format: %s\"\u001b[0m\u001b[0;34m,\u001b[0m \u001b[0mtimestr\u001b[0m\u001b[0;34m)\u001b[0m\u001b[0;34m\u001b[0m\u001b[0;34m\u001b[0m\u001b[0m\n\u001b[0m\u001b[1;32m    644\u001b[0m \u001b[0;34m\u001b[0m\u001b[0m\n\u001b[1;32m    645\u001b[0m         \u001b[0;32mif\u001b[0m \u001b[0mlen\u001b[0m\u001b[0;34m(\u001b[0m\u001b[0mres\u001b[0m\u001b[0;34m)\u001b[0m \u001b[0;34m==\u001b[0m \u001b[0;36m0\u001b[0m\u001b[0;34m:\u001b[0m\u001b[0;34m\u001b[0m\u001b[0;34m\u001b[0m\u001b[0m\n",
      "\u001b[0;31mParserError\u001b[0m: Unknown string format: 20040726094841.734+0600"
     ]
    }
   ],
   "source": [
    "parser.parse(createDate(return_type='raw')).isoformat()"
   ]
  },
  {
   "cell_type": "code",
   "execution_count": 16,
   "id": "9ec23adf-92a5-442c-9c0a-17da76f4ae91",
   "metadata": {},
   "outputs": [
    {
     "ename": "ValueError",
     "evalue": "'s' is a bad directive in format '%Y-%m-%dT%H%M%SS.DDD%s%02d%02d'",
     "output_type": "error",
     "traceback": [
      "\u001b[0;31m---------------------------------------------------------------------------\u001b[0m",
      "\u001b[0;31mValueError\u001b[0m                                Traceback (most recent call last)",
      "\u001b[0;32m/tmp/ipykernel_8432/3314065298.py\u001b[0m in \u001b[0;36m<module>\u001b[0;34m\u001b[0m\n\u001b[1;32m      1\u001b[0m \u001b[0mdtstr2\u001b[0m \u001b[0;34m=\u001b[0m \u001b[0mcreateDate\u001b[0m\u001b[0;34m(\u001b[0m\u001b[0mreturn_type\u001b[0m\u001b[0;34m=\u001b[0m\u001b[0;34m'raw'\u001b[0m\u001b[0;34m)\u001b[0m\u001b[0;34m\u001b[0m\u001b[0;34m\u001b[0m\u001b[0m\n\u001b[0;32m----> 2\u001b[0;31m \u001b[0mdatetime\u001b[0m\u001b[0;34m.\u001b[0m\u001b[0mstrptime\u001b[0m\u001b[0;34m(\u001b[0m\u001b[0mdtstr2\u001b[0m\u001b[0;34m,\u001b[0m \u001b[0;34m'%Y-%m-%dT%H%M%SS.DDD%s%02d%02d'\u001b[0m\u001b[0;34m)\u001b[0m \u001b[0;31m# YYYY-MM-DDTHH:MM:SS.DDDZ\u001b[0m\u001b[0;34m\u001b[0m\u001b[0;34m\u001b[0m\u001b[0m\n\u001b[0m",
      "\u001b[0;32m~/anaconda3/envs/python37/lib/python3.7/_strptime.py\u001b[0m in \u001b[0;36m_strptime_datetime\u001b[0;34m(cls, data_string, format)\u001b[0m\n\u001b[1;32m    575\u001b[0m     \"\"\"Return a class cls instance based on the input string and the\n\u001b[1;32m    576\u001b[0m     format string.\"\"\"\n\u001b[0;32m--> 577\u001b[0;31m     \u001b[0mtt\u001b[0m\u001b[0;34m,\u001b[0m \u001b[0mfraction\u001b[0m\u001b[0;34m,\u001b[0m \u001b[0mgmtoff_fraction\u001b[0m \u001b[0;34m=\u001b[0m \u001b[0m_strptime\u001b[0m\u001b[0;34m(\u001b[0m\u001b[0mdata_string\u001b[0m\u001b[0;34m,\u001b[0m \u001b[0mformat\u001b[0m\u001b[0;34m)\u001b[0m\u001b[0;34m\u001b[0m\u001b[0;34m\u001b[0m\u001b[0m\n\u001b[0m\u001b[1;32m    578\u001b[0m     \u001b[0mtzname\u001b[0m\u001b[0;34m,\u001b[0m \u001b[0mgmtoff\u001b[0m \u001b[0;34m=\u001b[0m \u001b[0mtt\u001b[0m\u001b[0;34m[\u001b[0m\u001b[0;34m-\u001b[0m\u001b[0;36m2\u001b[0m\u001b[0;34m:\u001b[0m\u001b[0;34m]\u001b[0m\u001b[0;34m\u001b[0m\u001b[0;34m\u001b[0m\u001b[0m\n\u001b[1;32m    579\u001b[0m     \u001b[0margs\u001b[0m \u001b[0;34m=\u001b[0m \u001b[0mtt\u001b[0m\u001b[0;34m[\u001b[0m\u001b[0;34m:\u001b[0m\u001b[0;36m6\u001b[0m\u001b[0;34m]\u001b[0m \u001b[0;34m+\u001b[0m \u001b[0;34m(\u001b[0m\u001b[0mfraction\u001b[0m\u001b[0;34m,\u001b[0m\u001b[0;34m)\u001b[0m\u001b[0;34m\u001b[0m\u001b[0;34m\u001b[0m\u001b[0m\n",
      "\u001b[0;32m~/anaconda3/envs/python37/lib/python3.7/_strptime.py\u001b[0m in \u001b[0;36m_strptime\u001b[0;34m(data_string, format)\u001b[0m\n\u001b[1;32m    349\u001b[0m                 \u001b[0;32mdel\u001b[0m \u001b[0merr\u001b[0m\u001b[0;34m\u001b[0m\u001b[0;34m\u001b[0m\u001b[0m\n\u001b[1;32m    350\u001b[0m                 raise ValueError(\"'%s' is a bad directive in format '%s'\" %\n\u001b[0;32m--> 351\u001b[0;31m                                     (bad_directive, format)) from None\n\u001b[0m\u001b[1;32m    352\u001b[0m             \u001b[0;31m# IndexError only occurs when the format string is \"%\"\u001b[0m\u001b[0;34m\u001b[0m\u001b[0;34m\u001b[0m\u001b[0;34m\u001b[0m\u001b[0m\n\u001b[1;32m    353\u001b[0m             \u001b[0;32mexcept\u001b[0m \u001b[0mIndexError\u001b[0m\u001b[0;34m:\u001b[0m\u001b[0;34m\u001b[0m\u001b[0;34m\u001b[0m\u001b[0m\n",
      "\u001b[0;31mValueError\u001b[0m: 's' is a bad directive in format '%Y-%m-%dT%H%M%SS.DDD%s%02d%02d'"
     ]
    }
   ],
   "source": [
    "dtstr2 = createDate(return_type='raw')\n",
    "datetime.strptime(dtstr2, '%Y-%m-%dT%H%M%SS.DDD%s%02d%02d') # YYYY-MM-DDTHH:MM:SS.DDDZ"
   ]
  },
  {
   "cell_type": "markdown",
   "id": "ea047b6a-d375-41c6-a158-e8ec0cfe96ce",
   "metadata": {},
   "source": [
    "## Update textract into a new index"
   ]
  },
  {
   "cell_type": "code",
   "execution_count": 141,
   "id": "672c04c0-a80f-485b-b8a5-61234b6fc5f9",
   "metadata": {},
   "outputs": [],
   "source": [
    "doc=res['hits']['hits'][0]['_source']\n",
    "doc[\"moddate\"] = createDate()"
   ]
  },
  {
   "cell_type": "code",
   "execution_count": null,
   "id": "888e1924-393e-4134-b0cb-1955384c1bfe",
   "metadata": {},
   "outputs": [],
   "source": [
    "doc"
   ]
  },
  {
   "cell_type": "code",
   "execution_count": 153,
   "id": "cf0eea2a-3aab-4179-a048-fb265f8de892",
   "metadata": {},
   "outputs": [
    {
     "ename": "NameError",
     "evalue": "name 'ind_client' is not defined",
     "output_type": "error",
     "traceback": [
      "\u001b[0;31m---------------------------------------------------------------------------\u001b[0m",
      "\u001b[0;31mNameError\u001b[0m                                 Traceback (most recent call last)",
      "\u001b[0;32m/tmp/ipykernel_13534/1461197896.py\u001b[0m in \u001b[0;36m<module>\u001b[0;34m\u001b[0m\n\u001b[0;32m----> 1\u001b[0;31m \u001b[0mind_client\u001b[0m\u001b[0;34m.\u001b[0m\u001b[0mexists\u001b[0m\u001b[0;34m(\u001b[0m\u001b[0mindex\u001b[0m\u001b[0;34m=\u001b[0m\u001b[0;34m\"originaltextractindex\"\u001b[0m\u001b[0;34m)\u001b[0m\u001b[0;34m\u001b[0m\u001b[0;34m\u001b[0m\u001b[0m\n\u001b[0m",
      "\u001b[0;31mNameError\u001b[0m: name 'ind_client' is not defined"
     ]
    }
   ],
   "source": [
    "ind_client.exists(index=\"originaltextractindex\")"
   ]
  },
  {
   "cell_type": "code",
   "execution_count": null,
   "id": "f10e8d36-f094-4f24-8ee5-95bffa869d82",
   "metadata": {},
   "outputs": [],
   "source": [
    "if not ind_client.exists(index=\"originaltextractindex\"):\n",
    "    \n",
    "    print(\"Index 'originaltextractindex' does not exist, creating...\")\n",
    "    ind_client.create(\n",
    "        index=\"originaltextractindex\",\n",
    "        body={\n",
    "            \"settings\": {\n",
    "                \"index\": {\n",
    "                    \"number_of_shards\": 2\n",
    "                }\n",
    "            },\n",
    "            \"mappings\":{\n",
    "                \"properties\":{\n",
    "                \"date\":{\n",
    "                    \"type\": \"date\",\n",
    "                    \"format\": \"M'/'dd'/'yyyy||date||year||year_month||dd MMM yyyy||dd'/'MM'/'yyyy||yyyy'/'MM'/'dd||dd'/'MM'/'YY||year_month_day||MM'/'dd'/'yy||dd MMM||MM'/'yyyy||M-dd-yyyy||MM'/'dd'/'yyyy||M||d'/'MM'/'yyyy||MM'/'dd'/'yy\"\n",
    "                    }\n",
    "                }\n",
    "            }\n",
    "        }\n",
    "    )\n",
    "        \n",
    "    reindex(\n",
    "        client = es, # original ES client specified in the beginning\n",
    "        source_index = \"textract\", # original index with documents we want to copy\n",
    "        target_index = \"originaltextractindex\" # new index where documents will be copied to\n",
    "    ) "
   ]
  },
  {
   "cell_type": "code",
   "execution_count": null,
   "id": "70c341ae-0f76-4dee-872f-aa430525c6ee",
   "metadata": {},
   "outputs": [],
   "source": []
  },
  {
   "cell_type": "code",
   "execution_count": null,
   "id": "6d502a6c-4dbe-4048-a695-7571a243e930",
   "metadata": {},
   "outputs": [],
   "source": []
  },
  {
   "cell_type": "code",
   "execution_count": null,
   "id": "07aad248-dc58-4bfd-88f3-ee0cdc5b8e3b",
   "metadata": {},
   "outputs": [],
   "source": []
  },
  {
   "cell_type": "code",
   "execution_count": null,
   "id": "ccf08d95-9126-46f4-abb7-544fab438781",
   "metadata": {},
   "outputs": [],
   "source": []
  },
  {
   "cell_type": "code",
   "execution_count": null,
   "id": "753a94c0-8970-4956-86ec-84eb837c5def",
   "metadata": {},
   "outputs": [],
   "source": []
  },
  {
   "cell_type": "code",
   "execution_count": null,
   "id": "5b6b6731-d97c-4687-99fb-02cb18d607aa",
   "metadata": {},
   "outputs": [],
   "source": []
  },
  {
   "cell_type": "code",
   "execution_count": null,
   "id": "f5c450d8-a0ca-46b5-aaa5-f9dd0d9dfa44",
   "metadata": {},
   "outputs": [],
   "source": []
  },
  {
   "cell_type": "code",
   "execution_count": null,
   "id": "b4894e25-0e68-4655-91e8-1e92d72148bf",
   "metadata": {},
   "outputs": [],
   "source": []
  },
  {
   "cell_type": "code",
   "execution_count": 79,
   "id": "575895b6-8f4b-47fd-b883-0a1e2704855e",
   "metadata": {},
   "outputs": [
    {
     "data": {
      "text/plain": [
       "dict_keys(['documentId', 'name', 'bucket', 'content', 'organization', 'other', 'location', 'date', 'person', 'title', 'quantity', 'event', 'protected_health_information', 'medical_condition', 'test_treatment_procedure', 'medication', 'subject', 'to', 'from', 'christa capozzola', 'circular'])"
      ]
     },
     "execution_count": 79,
     "metadata": {},
     "output_type": "execute_result"
    }
   ],
   "source": [
    "res['hits']['hits'][0]['_source'].keys()"
   ]
  },
  {
   "cell_type": "code",
   "execution_count": 58,
   "id": "6020c63f-ebf0-472c-9b87-9cbd4b6e39ad",
   "metadata": {
    "scrolled": true,
    "tags": []
   },
   "outputs": [
    {
     "data": {
      "text/plain": [
       "'public/a55db906-83f2-45e2-99de-5d80293f009d/KS Sunflower Health Plan Contract.pdf'"
      ]
     },
     "execution_count": 58,
     "metadata": {},
     "output_type": "execute_result"
    }
   ],
   "source": [
    "res['hits']['hits'][10]['_source']['name']"
   ]
  },
  {
   "cell_type": "markdown",
   "id": "1484ec5f-75aa-4ca9-971c-ec63ce7e8a80",
   "metadata": {},
   "source": [
    "## Direct S3 to find lastmodified"
   ]
  },
  {
   "cell_type": "code",
   "execution_count": null,
   "id": "45aa2f5e-ae23-44ae-9827-12456229cb38",
   "metadata": {},
   "outputs": [
    {
     "name": "stdout",
     "output_type": "stream",
     "text": [
      "dusstack-dusstackdocumentss3bucketbpxgdwfrjv578tc-1vu4fuke61l7n\n",
      "1000\n"
     ]
    }
   ],
   "source": [
    "s3 = boto3.client('s3')\n",
    "bucket_name = res['hits']['hits'][10]['_source']['bucket']\n",
    "print(bucket_name)\n",
    "objects = s3.list_objects(Bucket=bucket_name)\n",
    "print(len(objects['Contents']))"
   ]
  },
  {
   "cell_type": "code",
   "execution_count": 81,
   "id": "181da57e-f8e0-45a3-a1c0-eb6cbf5ddbe1",
   "metadata": {},
   "outputs": [
    {
     "data": {
      "text/plain": [
       "dict_keys(['ResponseMetadata', 'IsTruncated', 'Marker', 'Contents', 'Name', 'Prefix', 'MaxKeys', 'EncodingType'])"
      ]
     },
     "execution_count": 81,
     "metadata": {},
     "output_type": "execute_result"
    }
   ],
   "source": [
    "objects.keys()"
   ]
  },
  {
   "cell_type": "code",
   "execution_count": 89,
   "id": "e4a497a2-0646-451f-b3d9-6c69eda637bd",
   "metadata": {},
   "outputs": [
    {
     "data": {
      "text/plain": [
       "'csv'"
      ]
     },
     "execution_count": 89,
     "metadata": {},
     "output_type": "execute_result"
    }
   ],
   "source": [
    "os.path.splitext(objects['Contents'][10]['Key'])[1][1:]"
   ]
  },
  {
   "cell_type": "code",
   "execution_count": null,
   "id": "09028020-3790-418e-9546-1aa60653d07f",
   "metadata": {},
   "outputs": [],
   "source": [
    "for doc in objects['Contents']:\n",
    "    print(doc['Key'], doc['LastModified']) # but this lastmodified is when modified IN the bucket"
   ]
  },
  {
   "cell_type": "code",
   "execution_count": 91,
   "id": "fbba52e0-3d16-4cbf-90e8-55129bb80ac7",
   "metadata": {},
   "outputs": [],
   "source": [
    "for doc in objects['Contents'][0:1]:\n",
    "    extension = os.path.splitext(doc['Key'])[1][1:]\n",
    "    fileobj = s3.get_object(Bucket=bucket_name, Key=doc['Key'])"
   ]
  },
  {
   "cell_type": "code",
   "execution_count": 93,
   "id": "61c7d4ad-4129-43f5-8072-68f498235861",
   "metadata": {},
   "outputs": [],
   "source": [
    "filedata = fileobj['Body'].read()"
   ]
  },
  {
   "cell_type": "code",
   "execution_count": 95,
   "id": "18cc9379-9fe0-443f-a297-46de83079ca3",
   "metadata": {},
   "outputs": [
    {
     "data": {
      "text/plain": [
       "'public/07c5b42c-5847-4a61-8825-426d28e06ed0/UT Contract - Molina - January 2017.pdf'"
      ]
     },
     "execution_count": 95,
     "metadata": {},
     "output_type": "execute_result"
    }
   ],
   "source": [
    "doc['Key']"
   ]
  },
  {
   "cell_type": "code",
   "execution_count": 96,
   "id": "69186e97-866a-44c5-8abe-bdc01ba2f39e",
   "metadata": {},
   "outputs": [],
   "source": [
    "with open('local_file', 'wb') as f:\n",
    "    s3.download_fileobj(bucket_name, doc['Key'],f)"
   ]
  },
  {
   "cell_type": "code",
   "execution_count": 109,
   "id": "b991666c-3ac0-41f3-ac04-e237d1911033",
   "metadata": {},
   "outputs": [
    {
     "data": {
      "text/plain": [
       "'Tue Feb  1 20:12:29 2022'"
      ]
     },
     "execution_count": 109,
     "metadata": {},
     "output_type": "execute_result"
    }
   ],
   "source": [
    "time.ctime(os.path.getmtime('local_file'))"
   ]
  },
  {
   "cell_type": "code",
   "execution_count": 110,
   "id": "1310f4ec-c206-4d76-a814-d878b987f7b5",
   "metadata": {},
   "outputs": [],
   "source": [
    "statinfo = os.stat('local_file')"
   ]
  },
  {
   "cell_type": "code",
   "execution_count": 114,
   "id": "b8cb8935-a72a-46c3-9fa0-a32cff861bf3",
   "metadata": {},
   "outputs": [
    {
     "data": {
      "text/plain": [
       "'Tue Feb  1 20:12:29 2022'"
      ]
     },
     "execution_count": 114,
     "metadata": {},
     "output_type": "execute_result"
    }
   ],
   "source": [
    "time.ctime(statinfo.st_ctime)"
   ]
  },
  {
   "cell_type": "markdown",
   "id": "9b99ba30",
   "metadata": {
    "tags": []
   },
   "source": [
    "### Examine Current ES Index\n",
    "This index was created when the DUS application was initially deployed. Under \"properties\" are the features in which the documents are indexed by. In this example, there are a mix of numbers, authors, and sentence fragments. The numbers correspond to ICD10 numbers since those were used to when building the index. The other properties are extracted by ES to best optimize searches across the documents in the index."
   ]
  },
  {
   "cell_type": "code",
   "execution_count": 69,
   "id": "90314888",
   "metadata": {
    "scrolled": true
   },
   "outputs": [
    {
     "name": "stdout",
     "output_type": "stream",
     "text": [
      "The index textract exists...\n",
      "\n",
      "{\n",
      "  \"textract\": {\n",
      "    \"aliases\": {},\n",
      "    \"mappings\": {\n",
      "      \"properties\": {\n",
      "        \"5\": {\n",
      "          \"properties\": {\n",
      "            \" this authorization shall be in force and effect until 12/31/2020 (date event), at which time this authorization expires\": {\n",
      "              \"fields\": {\n",
      "                \"keyword\": {\n",
      "                  \"ignore_above\": 256,\n",
      "                  \"type\": \"keyword\"\n",
      "                }\n",
      "              },\n",
      "              \"type\": \"text\"\n",
      "            }\n",
      "          }\n",
      "        },\n",
      "        \"anatomy\": {\n",
      "          \"fields\": {\n",
      "            \"keyword\": {\n",
      "              \"ignore_above\": 256,\n",
      "              \"type\": \"keyword\"\n",
      "            }\n",
      "          },\n",
      "          \"type\": \"text\"\n",
      "        },\n",
      "        \"bucket\": {\n",
      "          \"fields\": {\n",
      "            \"keyword\": {\n",
      "              \"ignore_above\": 256,\n",
      "              \"type\": \"keyword\"\n",
      "            }\n",
      "          },\n",
      "          \"type\": \"text\"\n",
      "        },\n",
      "        \"by\": {\n",
      "          \"fields\": {\n",
      "            \"keyword\": {\n",
      "              \"ignore_above\": 256,\n",
      "              \"type\": \"keyword\"\n",
      "            }\n",
      "          },\n",
      "          \"type\": \"text\"\n",
      "        },\n",
      "        \"christa capozzola\": {\n",
      "          \"fields\": {\n",
      "            \"keyword\": {\n",
      "              \"ignore_above\": 256,\n",
      "              \"type\": \"keyword\"\n",
      "            }\n",
      "          },\n",
      "          \"type\": \"text\"\n",
      "        },\n",
      "        \"circular\": {\n",
      "          \"fields\": {\n",
      "            \"keyword\": {\n",
      "              \"ignore_above\": 256,\n",
      "              \"type\": \"keyword\"\n",
      "            }\n",
      "          },\n",
      "          \"type\": \"text\"\n",
      "        },\n",
      "        \"commercial_item\": {\n",
      "          \"fields\": {\n",
      "            \"keyword\": {\n",
      "              \"ignore_above\": 256,\n",
      "              \"type\": \"keyword\"\n",
      "            }\n",
      "          },\n",
      "          \"type\": \"text\"\n",
      "        },\n",
      "        \"content\": {\n",
      "          \"fields\": {\n",
      "            \"keyword\": {\n",
      "              \"ignore_above\": 256,\n",
      "              \"type\": \"keyword\"\n",
      "            }\n",
      "          },\n",
      "          \"type\": \"text\"\n",
      "        },\n",
      "        \"current pharmacy name\": {\n",
      "          \"fields\": {\n",
      "            \"keyword\": {\n",
      "              \"ignore_above\": 256,\n",
      "              \"type\": \"keyword\"\n",
      "            }\n",
      "          },\n",
      "          \"type\": \"text\"\n",
      "        },\n",
      "        \"current physician name\": {\n",
      "          \"fields\": {\n",
      "            \"keyword\": {\n",
      "              \"ignore_above\": 256,\n",
      "              \"type\": \"keyword\"\n",
      "            }\n",
      "          },\n",
      "          \"type\": \"text\"\n",
      "        },\n",
      "        \"date\": {\n",
      "          \"format\": \"M'/'dd'/'yyyy||date||year||year_month||dd MMM yyyy||dd'/'MM'/'yyyy||yyyy'/'MM'/'dd||dd'/'MM'/'YY||year_month_day||MM'/'dd'/'yy||dd MMM||MM'/'yyyy||M-dd-yyyy||MM'/'dd'/'yyyy||M||d'/'MM'/'yyyy||MM'/'dd'/'yy\",\n",
      "          \"type\": \"date\"\n",
      "        },\n",
      "        \"date of last update\": {\n",
      "          \"fields\": {\n",
      "            \"keyword\": {\n",
      "              \"ignore_above\": 256,\n",
      "              \"type\": \"keyword\"\n",
      "            }\n",
      "          },\n",
      "          \"type\": \"text\"\n",
      "        },\n",
      "        \"description\": {\n",
      "          \"fields\": {\n",
      "            \"keyword\": {\n",
      "              \"ignore_above\": 256,\n",
      "              \"type\": \"keyword\"\n",
      "            }\n",
      "          },\n",
      "          \"type\": \"text\"\n",
      "        },\n",
      "        \"documentId\": {\n",
      "          \"fields\": {\n",
      "            \"keyword\": {\n",
      "              \"ignore_above\": 256,\n",
      "              \"type\": \"keyword\"\n",
      "            }\n",
      "          },\n",
      "          \"type\": \"text\"\n",
      "        },\n",
      "        \"event\": {\n",
      "          \"fields\": {\n",
      "            \"keyword\": {\n",
      "              \"ignore_above\": 256,\n",
      "              \"type\": \"keyword\"\n",
      "            }\n",
      "          },\n",
      "          \"type\": \"text\"\n",
      "        },\n",
      "        \"from\": {\n",
      "          \"fields\": {\n",
      "            \"keyword\": {\n",
      "              \"ignore_above\": 256,\n",
      "              \"type\": \"keyword\"\n",
      "            }\n",
      "          },\n",
      "          \"type\": \"text\"\n",
      "        },\n",
      "        \"heart attack [https\": {\n",
      "          \"fields\": {\n",
      "            \"keyword\": {\n",
      "              \"ignore_above\": 256,\n",
      "              \"type\": \"keyword\"\n",
      "            }\n",
      "          },\n",
      "          \"type\": \"text\"\n",
      "        },\n",
      "        \"link to treatment plan problem\": {\n",
      "          \"fields\": {\n",
      "            \"keyword\": {\n",
      "              \"ignore_above\": 256,\n",
      "              \"type\": \"keyword\"\n",
      "            }\n",
      "          },\n",
      "          \"type\": \"text\"\n",
      "        },\n",
      "        \"location\": {\n",
      "          \"fields\": {\n",
      "            \"keyword\": {\n",
      "              \"ignore_above\": 256,\n",
      "              \"type\": \"keyword\"\n",
      "            }\n",
      "          },\n",
      "          \"type\": \"text\"\n",
      "        },\n",
      "        \"medical_condition\": {\n",
      "          \"fields\": {\n",
      "            \"keyword\": {\n",
      "              \"ignore_above\": 256,\n",
      "              \"type\": \"keyword\"\n",
      "            }\n",
      "          },\n",
      "          \"type\": \"text\"\n",
      "        },\n",
      "        \"medication\": {\n",
      "          \"fields\": {\n",
      "            \"keyword\": {\n",
      "              \"ignore_above\": 256,\n",
      "              \"type\": \"keyword\"\n",
      "            }\n",
      "          },\n",
      "          \"type\": \"text\"\n",
      "        },\n",
      "        \"muscle disorders [https\": {\n",
      "          \"fields\": {\n",
      "            \"keyword\": {\n",
      "              \"ignore_above\": 256,\n",
      "              \"type\": \"keyword\"\n",
      "            }\n",
      "          },\n",
      "          \"type\": \"text\"\n",
      "        },\n",
      "        \"muscular dystrophy [https\": {\n",
      "          \"fields\": {\n",
      "            \"keyword\": {\n",
      "              \"ignore_above\": 256,\n",
      "              \"type\": \"keyword\"\n",
      "            }\n",
      "          },\n",
      "          \"type\": \"text\"\n",
      "        },\n",
      "        \"name\": {\n",
      "          \"fields\": {\n",
      "            \"keyword\": {\n",
      "              \"ignore_above\": 256,\n",
      "              \"type\": \"keyword\"\n",
      "            }\n",
      "          },\n",
      "          \"type\": \"text\"\n",
      "        },\n",
      "        \"on\": {\n",
      "          \"fields\": {\n",
      "            \"keyword\": {\n",
      "              \"ignore_above\": 256,\n",
      "              \"type\": \"keyword\"\n",
      "            }\n",
      "          },\n",
      "          \"type\": \"text\"\n",
      "        },\n",
      "        \"organization\": {\n",
      "          \"fields\": {\n",
      "            \"keyword\": {\n",
      "              \"ignore_above\": 256,\n",
      "              \"type\": \"keyword\"\n",
      "            }\n",
      "          },\n",
      "          \"type\": \"text\"\n",
      "        },\n",
      "        \"other\": {\n",
      "          \"fields\": {\n",
      "            \"keyword\": {\n",
      "              \"ignore_above\": 256,\n",
      "              \"type\": \"keyword\"\n",
      "            }\n",
      "          },\n",
      "          \"type\": \"text\"\n",
      "        },\n",
      "        \"patient name\": {\n",
      "          \"fields\": {\n",
      "            \"keyword\": {\n",
      "              \"ignore_above\": 256,\n",
      "              \"type\": \"keyword\"\n",
      "            }\n",
      "          },\n",
      "          \"type\": \"text\"\n",
      "        },\n",
      "        \"person\": {\n",
      "          \"fields\": {\n",
      "            \"keyword\": {\n",
      "              \"ignore_above\": 256,\n",
      "              \"type\": \"keyword\"\n",
      "            }\n",
      "          },\n",
      "          \"type\": \"text\"\n",
      "        },\n",
      "        \"phone\": {\n",
      "          \"fields\": {\n",
      "            \"keyword\": {\n",
      "              \"ignore_above\": 256,\n",
      "              \"type\": \"keyword\"\n",
      "            }\n",
      "          },\n",
      "          \"type\": \"text\"\n",
      "        },\n",
      "        \"printed name of patient or personal representative and his or her relationship to patient\": {\n",
      "          \"fields\": {\n",
      "            \"keyword\": {\n",
      "              \"ignore_above\": 256,\n",
      "              \"type\": \"keyword\"\n",
      "            }\n",
      "          },\n",
      "          \"type\": \"text\"\n",
      "        },\n",
      "        \"protected_health_information\": {\n",
      "          \"fields\": {\n",
      "            \"keyword\": {\n",
      "              \"ignore_above\": 256,\n",
      "              \"type\": \"keyword\"\n",
      "            }\n",
      "          },\n",
      "          \"type\": \"text\"\n",
      "        },\n",
      "        \"quantity\": {\n",
      "          \"fields\": {\n",
      "            \"keyword\": {\n",
      "              \"ignore_above\": 256,\n",
      "              \"type\": \"keyword\"\n",
      "            }\n",
      "          },\n",
      "          \"type\": \"text\"\n",
      "        },\n",
      "        \"signature of patient or personal representative\": {\n",
      "          \"fields\": {\n",
      "            \"keyword\": {\n",
      "              \"ignore_above\": 256,\n",
      "              \"type\": \"keyword\"\n",
      "            }\n",
      "          },\n",
      "          \"type\": \"text\"\n",
      "        },\n",
      "        \"subject\": {\n",
      "          \"fields\": {\n",
      "            \"keyword\": {\n",
      "              \"ignore_above\": 256,\n",
      "              \"type\": \"keyword\"\n",
      "            }\n",
      "          },\n",
      "          \"type\": \"text\"\n",
      "        },\n",
      "        \"target date\": {\n",
      "          \"fields\": {\n",
      "            \"keyword\": {\n",
      "              \"ignore_above\": 256,\n",
      "              \"type\": \"keyword\"\n",
      "            }\n",
      "          },\n",
      "          \"type\": \"text\"\n",
      "        },\n",
      "        \"test_treatment_procedure\": {\n",
      "          \"fields\": {\n",
      "            \"keyword\": {\n",
      "              \"ignore_above\": 256,\n",
      "              \"type\": \"keyword\"\n",
      "            }\n",
      "          },\n",
      "          \"type\": \"text\"\n",
      "        },\n",
      "        \"time_expression\": {\n",
      "          \"fields\": {\n",
      "            \"keyword\": {\n",
      "              \"ignore_above\": 256,\n",
      "              \"type\": \"keyword\"\n",
      "            }\n",
      "          },\n",
      "          \"type\": \"text\"\n",
      "        },\n",
      "        \"title\": {\n",
      "          \"fields\": {\n",
      "            \"keyword\": {\n",
      "              \"ignore_above\": 256,\n",
      "              \"type\": \"keyword\"\n",
      "            }\n",
      "          },\n",
      "          \"type\": \"text\"\n",
      "        },\n",
      "        \"to\": {\n",
      "          \"fields\": {\n",
      "            \"keyword\": {\n",
      "              \"ignore_above\": 256,\n",
      "              \"type\": \"keyword\"\n",
      "            }\n",
      "          },\n",
      "          \"type\": \"text\"\n",
      "        },\n",
      "        \"treatment notes\": {\n",
      "          \"fields\": {\n",
      "            \"keyword\": {\n",
      "              \"ignore_above\": 256,\n",
      "              \"type\": \"keyword\"\n",
      "            }\n",
      "          },\n",
      "          \"type\": \"text\"\n",
      "        }\n",
      "      }\n",
      "    },\n",
      "    \"settings\": {\n",
      "      \"index\": {\n",
      "        \"analysis\": {\n",
      "          \"analyzer\": {\n",
      "            \"custom_analyzer\": {\n",
      "              \"filter\": [\n",
      "                \"asciifolding\",\n",
      "                \"lowercase\",\n",
      "                \"english_stopwords\",\n",
      "                \"custom_stopword_filter\",\n",
      "                \"custom_shingle_filter\",\n",
      "                \"trim\",\n",
      "                \"remove_extra_spaces\",\n",
      "                \"unique\"\n",
      "              ],\n",
      "              \"tokenizer\": \"classic\",\n",
      "              \"type\": \"custom\"\n",
      "            }\n",
      "          },\n",
      "          \"filter\": {\n",
      "            \"custom_shingle_filter\": {\n",
      "              \"filler_token\": \"\",\n",
      "              \"max_shingle_size\": \"3\",\n",
      "              \"min_shingle_size\": \"2\",\n",
      "              \"output_unigrams\": \"true\",\n",
      "              \"output_unigrams_if_no_shingles\": \"true\",\n",
      "              \"type\": \"shingle\"\n",
      "            },\n",
      "            \"custom_stopword_filter\": {\n",
      "              \"stopwords_path\": \"analyzers/F220113380\",\n",
      "              \"type\": \"stop\",\n",
      "              \"updateable\": \"true\"\n",
      "            },\n",
      "            \"english_stopwords\": {\n",
      "              \"stopwords\": \"_english_\",\n",
      "              \"type\": \"stop\"\n",
      "            },\n",
      "            \"remove_extra_spaces\": {\n",
      "              \"pattern\": \"\\\\s+\",\n",
      "              \"replacement\": \" \",\n",
      "              \"type\": \"pattern_replace\"\n",
      "            }\n",
      "          }\n",
      "        },\n",
      "        \"creation_date\": \"1631581097237\",\n",
      "        \"max_result_window\": \"10000\",\n",
      "        \"number_of_replicas\": \"1\",\n",
      "        \"number_of_shards\": \"2\",\n",
      "        \"provided_name\": \"textract\",\n",
      "        \"uuid\": \"ZvrS7B31RKKCJxduJOTJqw\",\n",
      "        \"version\": {\n",
      "          \"created\": \"7040299\"\n",
      "        }\n",
      "      }\n",
      "    }\n",
      "  }\n",
      "}\n"
     ]
    }
   ],
   "source": [
    "import json\n",
    "\n",
    "ind_client = IndicesClient(es)\n",
    "if ind_client.exists(index=\"textract\"):\n",
    "    print(\"The index textract exists...\\n\")\n",
    "    index = ind_client.get(index=\"textract\")\n",
    "    print(json.dumps(index,sort_keys=True, indent=2))\n",
    "else:\n",
    "    print(\"The index textract does not exist...\")"
   ]
  },
  {
   "cell_type": "code",
   "execution_count": 70,
   "id": "f90b7e06-e519-4387-a371-91b6dfb06dfd",
   "metadata": {},
   "outputs": [
    {
     "data": {
      "text/plain": [
       "dict_keys(['5', 'anatomy', 'bucket', 'by', 'christa capozzola', 'circular', 'commercial_item', 'content', 'current pharmacy name', 'current physician name', 'date', 'date of last update', 'description', 'documentId', 'event', 'from', 'heart attack [https', 'link to treatment plan problem', 'location', 'medical_condition', 'medication', 'muscle disorders [https', 'muscular dystrophy [https', 'name', 'on', 'organization', 'other', 'patient name', 'person', 'phone', 'printed name of patient or personal representative and his or her relationship to patient', 'protected_health_information', 'quantity', 'signature of patient or personal representative', 'subject', 'target date', 'test_treatment_procedure', 'time_expression', 'title', 'to', 'treatment notes'])"
      ]
     },
     "execution_count": 70,
     "metadata": {},
     "output_type": "execute_result"
    }
   ],
   "source": [
    "index['textract']['mappings']['properties'].keys()"
   ]
  },
  {
   "cell_type": "code",
   "execution_count": 72,
   "id": "7546341c-a267-49c1-9e84-a2a2f8e96701",
   "metadata": {},
   "outputs": [
    {
     "data": {
      "text/plain": [
       "{'type': 'text',\n",
       " 'fields': {'keyword': {'type': 'keyword', 'ignore_above': 256}}}"
      ]
     },
     "execution_count": 72,
     "metadata": {},
     "output_type": "execute_result"
    }
   ],
   "source": [
    "index['textract']['mappings']['properties']['date of last update']\n",
    "# so it exists... why is it not returned?"
   ]
  },
  {
   "cell_type": "code",
   "execution_count": 76,
   "id": "500e1341-8bd0-42d4-bc8e-27c0513ad8e2",
   "metadata": {},
   "outputs": [
    {
     "data": {
      "text/plain": [
       "{'index': {'number_of_shards': '2',\n",
       "  'provided_name': 'textract',\n",
       "  'max_result_window': '10000',\n",
       "  'creation_date': '1631581097237',\n",
       "  'analysis': {'filter': {'custom_stopword_filter': {'type': 'stop',\n",
       "     'updateable': 'true',\n",
       "     'stopwords_path': 'analyzers/F220113380'},\n",
       "    'english_stopwords': {'type': 'stop', 'stopwords': '_english_'},\n",
       "    'remove_extra_spaces': {'pattern': '\\\\s+',\n",
       "     'type': 'pattern_replace',\n",
       "     'replacement': ' '},\n",
       "    'custom_shingle_filter': {'max_shingle_size': '3',\n",
       "     'min_shingle_size': '2',\n",
       "     'output_unigrams_if_no_shingles': 'true',\n",
       "     'output_unigrams': 'true',\n",
       "     'type': 'shingle',\n",
       "     'filler_token': ''}},\n",
       "   'analyzer': {'custom_analyzer': {'filter': ['asciifolding',\n",
       "      'lowercase',\n",
       "      'english_stopwords',\n",
       "      'custom_stopword_filter',\n",
       "      'custom_shingle_filter',\n",
       "      'trim',\n",
       "      'remove_extra_spaces',\n",
       "      'unique'],\n",
       "     'type': 'custom',\n",
       "     'tokenizer': 'classic'}}},\n",
       "  'number_of_replicas': '1',\n",
       "  'uuid': 'ZvrS7B31RKKCJxduJOTJqw',\n",
       "  'version': {'created': '7040299'}}}"
      ]
     },
     "execution_count": 76,
     "metadata": {},
     "output_type": "execute_result"
    }
   ],
   "source": [
    "index['textract']['settings']"
   ]
  },
  {
   "cell_type": "code",
   "execution_count": null,
   "id": "48ed043b-a67b-45c6-a2c5-0aba14dee634",
   "metadata": {},
   "outputs": [],
   "source": []
  },
  {
   "cell_type": "markdown",
   "id": "f93692b7",
   "metadata": {},
   "source": [
    "### Store Current Textract as New Index\n",
    "The following cell will store the current textract index as `originaltextractindex` for safe keeping (if it doesn't already exist). We will use this copy to reindex the updated textract index."
   ]
  },
  {
   "cell_type": "code",
   "execution_count": null,
   "id": "de4be9c9",
   "metadata": {},
   "outputs": [],
   "source": [
    "from elasticsearch.helpers import reindex\n",
    "\n",
    "if not ind_client.exists(index=\"originaltextractindex\"):\n",
    "    \n",
    "    print(\"Index 'originaltextractindex' does not exist, creating...\")\n",
    "    ind_client.create(\n",
    "        index=\"originaltextractindex\",\n",
    "        body={\n",
    "            \"settings\": {\n",
    "                \"index\": {\n",
    "                    \"number_of_shards\": 2\n",
    "                }\n",
    "            },\n",
    "            \"mappings\":{\n",
    "                \"properties\":{\n",
    "                \"date\":{\n",
    "                    \"type\": \"date\",\n",
    "                    \"format\": \"M'/'dd'/'yyyy||date||year||year_month||dd MMM yyyy||dd'/'MM'/'yyyy||yyyy'/'MM'/'dd||dd'/'MM'/'YY||year_month_day||MM'/'dd'/'yy||dd MMM||MM'/'yyyy||M-dd-yyyy||MM'/'dd'/'yyyy||M||d'/'MM'/'yyyy||MM'/'dd'/'yy\"\n",
    "                    }\n",
    "                }\n",
    "            }\n",
    "        }\n",
    "    )\n",
    "        \n",
    "    reindex(\n",
    "        client = es, # original ES client specified in the beginning\n",
    "        source_index = \"textract\", # original index with documents we want to copy\n",
    "        target_index = \"originaltextractindex\" # new index where documents will be copied to\n",
    "    ) "
   ]
  },
  {
   "cell_type": "markdown",
   "id": "09d58d61",
   "metadata": {},
   "source": [
    "# Build and Demonstrate Filters for Custom Analyzer\n",
    "The following cells will demonstrate each filter that will be added to a custom text analyzer. The analyzer is applied to the index and will be manually specified for search queries.\n",
    "\n",
    "For our index, we will use the classic tokenizer and the asciifolding, lowercase, stopwords, and shingle filters. Below, the impact of each filter is demonstrated on the same query string. The result of each filter will be a list of tokens."
   ]
  },
  {
   "cell_type": "code",
   "execution_count": 28,
   "id": "813f9a5b",
   "metadata": {},
   "outputs": [],
   "source": [
    "query_string = \"Quick Brown Foxes is. today the tESt!! but i Will not be blAh!?\""
   ]
  },
  {
   "cell_type": "markdown",
   "id": "acdad9e5",
   "metadata": {},
   "source": [
    "### Lowercase Filter"
   ]
  },
  {
   "cell_type": "code",
   "execution_count": null,
   "id": "38fbf09e",
   "metadata": {},
   "outputs": [],
   "source": [
    "body = {\n",
    "    \"tokenizer\":\"classic\", # removes punctuation and splits string on whitespace\n",
    "    \"filter\":[\n",
    "        \"asciifolding\", # converts characters to ASCII\n",
    "        \"lowercase\", # transforms characters to lowercase\n",
    "    ],\n",
    "    \"text\" : query_string\n",
    "}\n",
    "\n",
    "# store index client class as a variable\n",
    "ind_client = IndicesClient(es)\n",
    "\n",
    "# use the analyze module of the index class to ping the ES/analyze API\n",
    "token_dict = ind_client.analyze(\n",
    "    body=body, # request body\n",
    "    index=\"originaltextractindex\" # index name\n",
    ")\n",
    "\n",
    "# extract tokens from result dictionary\n",
    "tokens = []\n",
    "for token in token_dict[\"tokens\"]:\n",
    "    tokens.append(token[\"token\"])\n",
    "tokens"
   ]
  },
  {
   "cell_type": "markdown",
   "id": "ca8a5335",
   "metadata": {},
   "source": [
    "### Custom and Existing Stopword Filter\n",
    "In this example, a custom and existing stopword filter are applied to the text. With a custom stopword filter, words that are specific to the use case can be added to a custom dictionary for removal from index and query text.\n",
    "\n",
    "Before moving onto the next step, import a stopwords dictionary into AWS ES. First, add a TXT-file that contains your list of stopwords to an S3 bucket. Each stopword has to be on a separate line within the TXT-file. Next, navigate to the ES console and select \"Packages\" within the left-hand panel. Select \"Import\" and point to the location of your stopwords file in the S3 bucket. Below is a screenshot of the import package dashboard.\n",
    "\n",
    "<img src=\"assets/stopwords_package.png\" /><br><br>\n",
    "\n",
    "\n",
    "Once your package is loaded into ES, AWS ES will generate an ID for your package. Take note of this ID since it will be used to reference your list of stopwords in future API calls.\n",
    "\n",
    "<img src=\"assets/stopwords_package_dashboard.png\" />"
   ]
  },
  {
   "cell_type": "code",
   "execution_count": null,
   "id": "7b26954f",
   "metadata": {},
   "outputs": [],
   "source": [
    "body = {\n",
    "    \"tokenizer\":\"classic\",# removes punctuation and splits string on whitespace\n",
    "    \"filter\":[\n",
    "        {# ES offered filter: English stopwords\n",
    "            \"type\":\"stop\", # specify the type of the filter as stop for stopword filter\n",
    "            \"stopwords\":\"_english_\" # stopword filter will use English stopwords\n",
    "        },\n",
    "        {# custom filter: stop words based upon custom dictionary uploaded onto AWS ES\n",
    "            \"type\":\"stop\",\n",
    "            \"stopwords_path\":\"analyzers/F220113380\", # ID of the custom dictionary in AWS ES\n",
    "            \"updateable\":True\n",
    "        },\n",
    "    ],\n",
    "    \"text\" : query_string\n",
    "}\n",
    "\n",
    "# use the analyze module of the index class to ping the ES/analyze API\n",
    "token_dict = ind_client.analyze(\n",
    "    body=body, # request body\n",
    "    index=\"originaltextractindex\" # index name\n",
    ")\n",
    "\n",
    "# extract tokens from result dictionary\n",
    "tokens = []\n",
    "for token in token_dict[\"tokens\"]:\n",
    "    tokens.append(token[\"token\"])\n",
    "tokens"
   ]
  },
  {
   "cell_type": "markdown",
   "id": "8e3110d1",
   "metadata": {},
   "source": [
    "### Shingles Filter\n",
    "Shingles are synonomous with the popular definition of ngrams. In ElasticSearch, ngrams are used for predictive text purposes and create ngrams at the character level instead of the word level. Shingles in ElasticSearch create ngrams at the word level which is what we want."
   ]
  },
  {
   "cell_type": "code",
   "execution_count": 15,
   "id": "e7b1cbd1",
   "metadata": {},
   "outputs": [
    {
     "data": {
      "text/plain": [
       "['Quick',\n",
       " 'Quick Brown',\n",
       " 'Quick Brown Foxes',\n",
       " 'Brown',\n",
       " 'Brown Foxes',\n",
       " 'Brown Foxes is',\n",
       " 'Foxes',\n",
       " 'Foxes is',\n",
       " 'Foxes is today',\n",
       " 'is',\n",
       " 'is today',\n",
       " 'is today the',\n",
       " 'today',\n",
       " 'today the',\n",
       " 'today the tESt',\n",
       " 'the',\n",
       " 'the tESt',\n",
       " 'the tESt but',\n",
       " 'tESt',\n",
       " 'tESt but',\n",
       " 'tESt but i',\n",
       " 'but',\n",
       " 'but i',\n",
       " 'but i Will',\n",
       " 'i',\n",
       " 'i Will',\n",
       " 'i Will not',\n",
       " 'Will',\n",
       " 'Will not',\n",
       " 'Will not be',\n",
       " 'not',\n",
       " 'not be',\n",
       " 'not be blAh',\n",
       " 'be',\n",
       " 'be blAh',\n",
       " 'blAh']"
      ]
     },
     "execution_count": 15,
     "metadata": {},
     "output_type": "execute_result"
    }
   ],
   "source": [
    "body = {\n",
    "    \"tokenizer\":\"classic\",# removes punctuation and splits string on whitespace\n",
    "    \"filter\":[\n",
    "        {# existing filter: shingles which are synonomous with the popular definition of ngram\n",
    "            \"type\":\"shingle\", # specify filter type as a shingle\n",
    "            \"min_shingle_size\":2, # min size=2 for bigram\n",
    "            \"max_shingle_size\":3, # mac size=3 for trigram\n",
    "            \"output_unigrams\": True,\n",
    "            \"output_unigrams_if_no_shingles\":True\n",
    "        },\n",
    "    ],\n",
    "    \"text\" : query_string\n",
    "}\n",
    "\n",
    "# use the analyze module of the index class to ping the ES/analyze API\n",
    "token_dict = ind_client.analyze(\n",
    "    body=body, # request body\n",
    "    index=\"originaltextractindex\" # index name\n",
    ")\n",
    "\n",
    "# extract tokens from result dictionary\n",
    "tokens = []\n",
    "for token in token_dict[\"tokens\"]:\n",
    "    tokens.append(token[\"token\"])\n",
    "tokens"
   ]
  },
  {
   "cell_type": "markdown",
   "id": "f13e3891",
   "metadata": {},
   "source": [
    "### Combining all Filters\n",
    "Below, all filters are combined to create a single custom filter. Each individual filter will be executed in the order in which it appears below.\n",
    "\n",
    "Note: The shingles filter appears after the stopword filter. In ES, stopwords are replaced by an underscore by default and are not explicitly removed. Hence, there are underscores within the bi- and tri-grams below. In the following section, we will replace the underscore with an empty string."
   ]
  },
  {
   "cell_type": "code",
   "execution_count": 16,
   "id": "dd6dd144",
   "metadata": {},
   "outputs": [
    {
     "data": {
      "text/plain": [
       "['quick',\n",
       " 'quick brown',\n",
       " 'quick brown foxes',\n",
       " 'brown',\n",
       " 'brown foxes',\n",
       " 'brown foxes _',\n",
       " 'foxes',\n",
       " 'foxes _',\n",
       " 'foxes _ today',\n",
       " '_ today',\n",
       " '_ today _',\n",
       " 'today',\n",
       " 'today _',\n",
       " 'today _ test',\n",
       " '_ test',\n",
       " '_ test _',\n",
       " 'test',\n",
       " 'test _',\n",
       " 'test _ _',\n",
       " '_ _ blah',\n",
       " '_ blah',\n",
       " 'blah']"
      ]
     },
     "execution_count": 16,
     "metadata": {},
     "output_type": "execute_result"
    }
   ],
   "source": [
    "body = {\n",
    "    \"tokenizer\":\"classic\",# removes punctuation and splits string on whitespace\n",
    "    \"filter\":[\n",
    "        \"asciifolding\", # converts characters to ASCII\n",
    "        \"lowercase\", # transforms characters to lowercase\n",
    "        {# ES offered filter: English stopwords\n",
    "            \"type\":\"stop\", # specify the type of the filter as stop for stopword filter\n",
    "            \"stopwords\":\"_english_\" # stopword filter will use English stopwords\n",
    "        },\n",
    "        {# custom filter: stop words based upon custom dictionary uploaded onto AWS ES\n",
    "            \"type\":\"stop\",\n",
    "            \"stopwords_path\":\"analyzers/F220113380\", # ID of the custom dictionary in AWS ES\n",
    "            \"updateable\":True\n",
    "        },\n",
    "        {# existing filter: shingles which are synonomous with the popular definition of ngram\n",
    "            \"type\":\"shingle\", # specify filter type as a shingle\n",
    "            \"min_shingle_size\":2, # min size=2 for bigram\n",
    "            \"max_shingle_size\":3, # mac size=3 for trigram\n",
    "            \"output_unigrams\": True,\n",
    "            \"output_unigrams_if_no_shingles\":True\n",
    "        },\n",
    "        \"trim\", #remove extra spaces from the beginning and end created by shingle filter\n",
    "        {#ES offered filter: remove extra whitespace in between words caused by shingle filter\n",
    "            \"type\":\"pattern_replace\", # specify filter type as REGEX replacement\n",
    "            \"pattern\":\"\\\\s+\", # search for consecutive spaces\n",
    "            \"replacement\":\" \" # replace consecutive spaces with a single space\n",
    "        },\n",
    "        \"unique\" # remove duplicates that are introduced by shingles processing and cleaning\n",
    "    ],\n",
    "    \"text\" : query_string\n",
    "}\n",
    "\n",
    "# use the analyze module of the index class to ping the ES/analyze API\n",
    "token_dict = ind_client.analyze(\n",
    "    body=body, # request body\n",
    "    index=\"originaltextractindex\" # index name\n",
    ")\n",
    "\n",
    "# extract tokens from result dictionary\n",
    "tokens = []\n",
    "for token in token_dict[\"tokens\"]:\n",
    "    tokens.append(token[\"token\"])\n",
    "tokens"
   ]
  },
  {
   "cell_type": "markdown",
   "id": "a9be76dd",
   "metadata": {},
   "source": [
    "# Create New Index\n",
    "\n",
    "### Delete \"textract\" Index\n",
    "Since the `textract` namespace is used throughout multiple Lambda functions, it is easier to create a new index called `textract` than it is to change the index name for all of the Lambda functions that require it. The following cells will delete the existing index and then reindex it using `textractedit`.\n",
    "\n",
    "The following cell confirms that `textract` exists."
   ]
  },
  {
   "cell_type": "code",
   "execution_count": 17,
   "id": "d5b2ad6f",
   "metadata": {},
   "outputs": [
    {
     "data": {
      "text/plain": [
       "{'originaltextractindex': {'aliases': {}},\n",
       " '.kibana_1': {'aliases': {'.kibana': {}}},\n",
       " 'textract': {'aliases': {}}}"
      ]
     },
     "execution_count": 17,
     "metadata": {},
     "output_type": "execute_result"
    }
   ],
   "source": [
    "ind_client.get_alias(\"*\")"
   ]
  },
  {
   "cell_type": "code",
   "execution_count": 18,
   "id": "f05f9809",
   "metadata": {},
   "outputs": [
    {
     "data": {
      "text/plain": [
       "{'acknowledged': True}"
      ]
     },
     "execution_count": 18,
     "metadata": {},
     "output_type": "execute_result"
    }
   ],
   "source": [
    "ind_client.delete(index=\"textract\")"
   ]
  },
  {
   "cell_type": "markdown",
   "id": "c7cf9c0b",
   "metadata": {},
   "source": [
    "The next cell will confirm that `textract` is no longer an index in our ES domain."
   ]
  },
  {
   "cell_type": "code",
   "execution_count": 19,
   "id": "9df7c3c3",
   "metadata": {},
   "outputs": [
    {
     "data": {
      "text/plain": [
       "{'originaltextractindex': {'aliases': {}},\n",
       " '.kibana_1': {'aliases': {'.kibana': {}}}}"
      ]
     },
     "execution_count": 19,
     "metadata": {},
     "output_type": "execute_result"
    }
   ],
   "source": [
    "ind_client.get_alias(\"*\")"
   ]
  },
  {
   "cell_type": "markdown",
   "id": "d2ea0487",
   "metadata": {},
   "source": [
    "### Create Index\n",
    "Using the index client that we specified earlier, we will create a new index with the `textract` name space."
   ]
  },
  {
   "cell_type": "code",
   "execution_count": 21,
   "id": "b68428c9",
   "metadata": {},
   "outputs": [
    {
     "data": {
      "text/plain": [
       "{'acknowledged': True, 'shards_acknowledged': True, 'index': 'textract'}"
      ]
     },
     "execution_count": 21,
     "metadata": {},
     "output_type": "execute_result"
    }
   ],
   "source": [
    "ind_client.create(\n",
    "    index=\"textract\",\n",
    "    body={\n",
    "        \"settings\": {\n",
    "            \"index\": {\n",
    "                \"number_of_shards\": 2, # number of times the index volume is divided into smaller parts\n",
    "                \"max_result_window\" : 10000, # max number of results to return, if applicable\n",
    "                \"analysis\" : {\n",
    "                    \"analyzer\":{\n",
    "                        # specify the names of components of analyzer here. will define below if custom\n",
    "                        \"custom_analyzer\":{\n",
    "                            \"type\":\"custom\",\n",
    "                            \"tokenizer\":\"classic\",# splits on whitespace, removes punctuation\n",
    "                            \"filter\":[\n",
    "                                 # converts characters to ASCII\n",
    "                                \"asciifolding\",\n",
    "                                \n",
    "                                # makes character lowercase\n",
    "                                \"lowercase\",\n",
    "                                \n",
    "                                # ES filter: English stopwords; requires some customization (below)\n",
    "                                \"english_stopwords\",\n",
    "                                \n",
    "                                # custom filter: stop words based upon custom dictionary uploaded onto AWS ES\n",
    "                                \"custom_stopword_filter\",\n",
    "                                \n",
    "                                # ES filter: shingles which are synonomous with the popular definition of ngram; requires some customization (below)\n",
    "                                \"custom_shingle_filter\",\n",
    "                                \n",
    "                                # ES filter: remove extra spaces from the beginning and end created by shingle filter\n",
    "                                \"trim\",\n",
    "                                \n",
    "                                # ES filter: remove extra whitespace in between words caused by shingle filter; requires some customization (below)\n",
    "                                \"remove_extra_spaces\",\n",
    "                                \n",
    "                                # ES filter: remove duplicates that are introduced by shingles processing and cleaning\n",
    "                                \"unique\"\n",
    "                            ]\n",
    "                        }\n",
    "                    },\n",
    "                    # define custom and ES filters\n",
    "                    \"filter\":{\n",
    "                        \"custom_stopword_filter\":{\n",
    "                            \"type\":\"stop\",\n",
    "                            \"stopwords_path\":\"analyzers/F220113380\",\n",
    "                            \"updateable\":True\n",
    "                        },\n",
    "                        \"english_stopwords\":{\n",
    "                            \"type\":\"stop\",\n",
    "                            \"stopwords\":\"_english_\"\n",
    "                        },\n",
    "                        \"custom_shingle_filter\":{\n",
    "                            \"type\":\"shingle\",\n",
    "                            \"min_shingle_size\":2,\n",
    "                            \"max_shingle_size\":3,\n",
    "                            \"output_unigrams\": True,\n",
    "                            \"output_unigrams_if_no_shingles\":True,\n",
    "                            \"filler_token\":\"\" # replace the default underscore placeholder with an empty string\n",
    "                        },\n",
    "                        \"remove_extra_spaces\":{\n",
    "                            \"type\":\"pattern_replace\",\n",
    "                            \"pattern\":\"\\\\s+\",\n",
    "                            \"replacement\":\" \"\n",
    "                        }\n",
    "                    }\n",
    "                }\n",
    "            }\n",
    "        },\n",
    "        # create data fields that are added to the index after being extracted by ES\n",
    "        \"mappings\":{\n",
    "            \"properties\":{\n",
    "                # add a data field to index\n",
    "                \"date\":{\n",
    "                    # specify mapping type as date\n",
    "                    \"type\": \"date\",\n",
    "                    \n",
    "                    # specify the format of the mapping type. ES looks for dates that follow these formats\n",
    "                    \"format\": \"M'/'dd'/'yyyy||date||year||year_month||dd MMM yyyy||dd'/'MM'/'yyyy||yyyy'/'MM'/'dd||dd'/'MM'/'YY||year_month_day||MM'/'dd'/'yy||dd MMM||MM'/'yyyy||M-dd-yyyy||MM'/'dd'/'yyyy||M||d'/'MM'/'yyyy||MM'/'dd'/'yy\"\n",
    "                }\n",
    "            }\n",
    "        }\n",
    "    }\n",
    ")"
   ]
  },
  {
   "cell_type": "markdown",
   "id": "ef1d92ff",
   "metadata": {},
   "source": [
    "The following cell confirms that `textract` is listed as an index again."
   ]
  },
  {
   "cell_type": "code",
   "execution_count": null,
   "id": "931f6754",
   "metadata": {},
   "outputs": [],
   "source": [
    "ind_client.get_alias(\"*\")"
   ]
  },
  {
   "cell_type": "markdown",
   "id": "7ab71851",
   "metadata": {},
   "source": [
    "# Add Documents to New Index\n",
    "Documents can be added to a new index by copying documents from another index. This is achieved via `reindex`."
   ]
  },
  {
   "cell_type": "code",
   "execution_count": 23,
   "id": "014236ee",
   "metadata": {},
   "outputs": [
    {
     "data": {
      "text/plain": [
       "(7, 0)"
      ]
     },
     "execution_count": 23,
     "metadata": {},
     "output_type": "execute_result"
    }
   ],
   "source": [
    "from elasticsearch.helpers import reindex\n",
    "\n",
    "reindex(\n",
    "    client = es, # original ES client specified in the beginning\n",
    "    source_index = \"originaltextractindex\", # original index with documents we want to copy\n",
    "    target_index = \"textract\" # new index where documents will be copied to\n",
    ")"
   ]
  },
  {
   "cell_type": "markdown",
   "id": "56a5336a",
   "metadata": {},
   "source": [
    "# Verify Changes to Index\n",
    "When creating the index above, we specified our collection of text processors with the name `custom_analyzer`. In the cells below, we can reference this analyzer by name when using the `textract` index."
   ]
  },
  {
   "cell_type": "code",
   "execution_count": 24,
   "id": "044d2705",
   "metadata": {},
   "outputs": [
    {
     "data": {
      "text/plain": [
       "['quick',\n",
       " 'quick brown',\n",
       " 'quick brown foxes',\n",
       " 'brown',\n",
       " 'brown foxes',\n",
       " 'foxes',\n",
       " 'foxes today',\n",
       " 'today',\n",
       " 'today test',\n",
       " 'test',\n",
       " 'blah']"
      ]
     },
     "execution_count": 24,
     "metadata": {},
     "output_type": "execute_result"
    }
   ],
   "source": [
    "body = {\n",
    "    # evoking our custom analyzer from the index\n",
    "    \"analyzer\" : \"custom_analyzer\",\n",
    "    \"text\" : query_string\n",
    "}\n",
    "\n",
    "\n",
    "token_dict = ind_client.analyze(\n",
    "    body=body,\n",
    "    index=\"textract\"\n",
    ")\n",
    "\n",
    "tokens = []\n",
    "for token in token_dict[\"tokens\"]:\n",
    "    tokens.append(token[\"token\"])\n",
    "tokens"
   ]
  },
  {
   "cell_type": "markdown",
   "id": "6498dd85",
   "metadata": {},
   "source": [
    "Now, let's test the new index on an old query. The output are highlighted fragments from each source in the form of a list. You can see that the results have improved significantly and there are fewer references to kidney related documents."
   ]
  },
  {
   "cell_type": "code",
   "execution_count": 25,
   "id": "49469d5e",
   "metadata": {},
   "outputs": [
    {
     "name": "stdout",
     "output_type": "stream",
     "text": [
      "The Elasticsearch query returned 1 results.\n",
      "Example output:\n",
      "\n",
      "\n",
      "['Preventing Diabetes Problems I NIDDK\\n10/23/20,3127 PM\\nPreventing Diabetes Problems\\nView or Print All Sections\\n>\\nHeart Disease & Stroke\\nLow Blood Glucose\\n(Hypoglycemia)\\nDiabetes can damage blood vessels', 'Managing your diabetes can\\nyour kidneys by managing your diabetes\\nhelp prevent nerve damage that affects\\nand meeting your blood pressure goals.\\nyour feet and limbs, and organs such as\\nyour heart.', 'Disease\\nDiabetes can cause nerve damage and\\nDiabetes can damage your eyes and lead\\npoor blood flow, which can lead to\\nto low vision and blindness.', '&\\nDementia &\\nSleep Apnea &\\nDiabetes\\nDiabetes\\nDiabetes\\nDiabetes\\nDepression NIH\\nDiabetes is linked\\nHigh blood\\nPeople who have\\nis common among\\nto some types of\\nglucose increases\\nsleep apnea NIH\\npeople with', 'https://www.niddk.nih.gov/health-information/diabetes/overview/preventing-problems\\nPage 3 of 4\\n\\nPreventing Diabetes Problems I NIDDK\\n10/23/20,3127 PM\\nSource: National Institute of Diabetes and Digestive'] \n",
      "\n"
     ]
    }
   ],
   "source": [
    "keyword = \"What is diabetes\\?\"\n",
    "\n",
    "ES_HIGHLIGHT_FRAGMENT_SIZE = 200\n",
    "host = \"vpc-dusstac-dussta-h8vo3o6f68eb-knopiij3g5xsdg42i2sxvarih4.us-east-1.es.amazonaws.com\" #ES domain\n",
    "\n",
    "searchBody = {\n",
    "     \"query\" : {\n",
    "        \"query_string\": {\n",
    "            \"query\": keyword,\n",
    "            \"fields\":[\"content^3\",\"name\",\"keyword^2\",\"title^4\",\"summary\"],\n",
    "            \"fuzziness\":\"AUTO\",\n",
    "            \"analyzer\":\"custom_analyzer\",\n",
    "           }\n",
    "      },\n",
    "      \"highlight\" : {\n",
    "        \"fields\" : {\n",
    "            \"content\" : { \"pre_tags\" : [\"\"], \"post_tags\" : [\"\"] },\n",
    "          },\n",
    "          \"fragment_size\" : ES_HIGHLIGHT_FRAGMENT_SIZE,\n",
    "          \"require_field_match\": False\n",
    "     }\n",
    "}\n",
    "\n",
    "\n",
    "output = es.search(\n",
    "    index='textract',\n",
    "    size=1000,\n",
    "    body=searchBody,\n",
    "    _source = True,\n",
    "    filter_path=['hits.hits._id', 'hits.hits._source','hits.hits.highlight','hits.hits._score'],\n",
    "    request_timeout=5\n",
    ")\n",
    "\n",
    "\n",
    "\n",
    "n_results = len(output[\"hits\"][\"hits\"])\n",
    "print(f\"The Elasticsearch query returned {n_results} results.\")\n",
    "\n",
    "print(f\"Example output:\\n\\n\")\n",
    "\n",
    "for x in output[\"hits\"][\"hits\"]:\n",
    "    print(x[\"highlight\"][\"content\"],\"\\n\")"
   ]
  },
  {
   "cell_type": "markdown",
   "id": "924a9917",
   "metadata": {},
   "source": [
    "With another search, you can see how specific the results are to the phrases in the query string."
   ]
  },
  {
   "cell_type": "code",
   "execution_count": 26,
   "id": "757bdf07",
   "metadata": {},
   "outputs": [
    {
     "name": "stdout",
     "output_type": "stream",
     "text": [
      "The Elasticsearch query returned 2 results.\n",
      "Example output:\n",
      "\n",
      "\n",
      "['The NIDDK translates and disseminates research findings to\\nincrease knowledge and understanding about health and disease among patients, health professionals, and the\\npublic.'] \n",
      "\n",
      "['Available\\nfrom:\\nittps://www.cedars-sinai.edu/Patients/Health-Conditions/Neuromuscular-Disorders.aspx [https://www.cedars-sinai.edu/Patients/\\nealth-Conditions/Neuromuscular-Disorders.aspx]\\n2.'] \n",
      "\n"
     ]
    }
   ],
   "source": [
    "keyword = \"dibetes in older patients\"\n",
    "\n",
    "ES_HIGHLIGHT_FRAGMENT_SIZE = 200\n",
    "host = \"vpc-dusstac-dussta-h8vo3o6f68eb-knopiij3g5xsdg42i2sxvarih4.us-east-1.es.amazonaws.com\" #ES domain\n",
    "\n",
    "searchBody = {\n",
    "     \"query\" : {\n",
    "        \"query_string\": {\n",
    "            \"query\": keyword,\n",
    "            \"fields\":[\"content^3\",\"name\",\"keyword^2\",\"title^4\",\"summary\"],\n",
    "            \"fuzziness\":\"AUTO\",\n",
    "            \"analyzer\":\"custom_analyzer\",\n",
    "           }\n",
    "      },\n",
    "      \"highlight\" : {\n",
    "        \"fields\" : {\n",
    "            \"content\" : { \"pre_tags\" : [\"\"], \"post_tags\" : [\"\"] },\n",
    "          },\n",
    "          \"fragment_size\" : ES_HIGHLIGHT_FRAGMENT_SIZE,\n",
    "          \"require_field_match\": False\n",
    "     }\n",
    "}\n",
    "\n",
    "\n",
    "output = es.search(\n",
    "    index='textract',\n",
    "    size=1000,\n",
    "    body=searchBody,\n",
    "    _source = True,\n",
    "    filter_path=['hits.hits._id', 'hits.hits._source','hits.hits.highlight','hits.hits._score'],\n",
    "    request_timeout=5\n",
    ")\n",
    "\n",
    "\n",
    "\n",
    "n_results = len(output[\"hits\"][\"hits\"])\n",
    "print(f\"The Elasticsearch query returned {n_results} results.\")\n",
    "\n",
    "print(f\"Example output:\\n\\n\")\n",
    "\n",
    "for x in output[\"hits\"][\"hits\"]:\n",
    "    print(x[\"highlight\"][\"content\"],\"\\n\")"
   ]
  },
  {
   "cell_type": "code",
   "execution_count": null,
   "id": "8a0b36cc",
   "metadata": {},
   "outputs": [],
   "source": []
  }
 ],
 "metadata": {
  "kernelspec": {
   "display_name": "Python 3 (ipykernel)",
   "language": "python",
   "name": "python3"
  },
  "language_info": {
   "codemirror_mode": {
    "name": "ipython",
    "version": 3
   },
   "file_extension": ".py",
   "mimetype": "text/x-python",
   "name": "python",
   "nbconvert_exporter": "python",
   "pygments_lexer": "ipython3",
   "version": "3.7.11"
  }
 },
 "nbformat": 4,
 "nbformat_minor": 5
}
