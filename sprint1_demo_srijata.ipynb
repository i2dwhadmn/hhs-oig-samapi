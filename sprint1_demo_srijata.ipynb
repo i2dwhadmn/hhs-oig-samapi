{
 "cells": [
  {
   "cell_type": "markdown",
   "id": "592a1c3e",
   "metadata": {},
   "source": [
    "# Import Libaries"
   ]
  },
  {
   "cell_type": "code",
   "execution_count": 1,
   "id": "db4bf47a",
   "metadata": {
    "scrolled": true
   },
   "outputs": [],
   "source": [
    "try:\n",
    "    from elasticsearch import Elasticsearch, RequestsHttpConnection\n",
    "    from elasticsearch.client import IndicesClient\n",
    "except:\n",
    "    !pip install 'elasticsearch<7.14.0'\n",
    "    from elasticsearch import Elasticsearch, RequestsHttpConnection\n",
    "    from elasticsearch.client import IndicesClient\n",
    "    \n",
    "try:\n",
    "    from requests_aws4auth import AWS4Auth\n",
    "except:\n",
    "    !pip install requests_aws4auth\n",
    "    from requests_aws4auth import AWS4Auth\n",
    "    \n",
    "import boto3\n",
    "import os\n",
    "import pandas as pd\n",
    "import numpy as np\n",
    "import re"
   ]
  },
  {
   "cell_type": "markdown",
   "id": "0b9af256",
   "metadata": {},
   "source": [
    "## Send HTTPS request to ES"
   ]
  },
  {
   "cell_type": "code",
   "execution_count": 2,
   "id": "8ea37f15",
   "metadata": {},
   "outputs": [],
   "source": [
    "service = 'es'\n",
    "ss = boto3.Session()\n",
    "credentials = ss.get_credentials()\n",
    "region = ss.region_name\n",
    "\n",
    "#ES domain\n",
    "host = \"vpc-dusstac-dussta-1n8niblaemqb-otcfzpck6s7czlgni6gxcb4rru.us-east-1.es.amazonaws.com\"\n",
    "\n",
    "awsauth = AWS4Auth(credentials.access_key, credentials.secret_key,\n",
    "                   region, service, session_token=credentials.token)\n",
    "\n",
    "# set up ES client for future API calls\n",
    "es = Elasticsearch(\n",
    "    hosts=[{'host': host, 'port': 443}],\n",
    "    http_auth=awsauth,\n",
    "    use_ssl=True,\n",
    "    verify_certs=True,\n",
    "    connection_class=RequestsHttpConnection\n",
    ")"
   ]
  },
  {
   "cell_type": "markdown",
   "id": "d14da94f",
   "metadata": {},
   "source": [
    "### Test Connection to AWS ES Service\n",
    "Testing the connection to ES using a HTTP request body and parameters. `searchBody` below is the same as the search body in dusstackapiprocessor. The index in DUS is called `textract`."
   ]
  },
  {
   "cell_type": "code",
   "execution_count": 9,
   "id": "d01d6d24-32f8-4d43-9064-056218c76a37",
   "metadata": {},
   "outputs": [
    {
     "data": {
      "text/plain": [
       "<Elasticsearch([{'host': 'vpc-dusstac-dussta-1n8niblaemqb-otcfzpck6s7czlgni6gxcb4rru.us-east-1.es.amazonaws.com', 'port': 443}])>"
      ]
     },
     "execution_count": 9,
     "metadata": {},
     "output_type": "execute_result"
    }
   ],
   "source": [
    "es"
   ]
  },
  {
   "cell_type": "code",
   "execution_count": null,
   "id": "3cbe9239-d0c5-437d-b64b-9ccb2ed24348",
   "metadata": {},
   "outputs": [
    {
     "name": "stdout",
     "output_type": "stream",
     "text": [
      "^C\n"
     ]
    }
   ],
   "source": [
    "!curl -H 'Content-Type: application/json' -X GET https://vpc-dusstac-dussta-1n8niblaemqb-otcfzpck6s7czlgni6gxcb4rru.us-east-1.es.amazonaws.com/textract?pretty"
   ]
  },
  {
   "cell_type": "code",
   "execution_count": 4,
   "id": "5d2ced37",
   "metadata": {
    "scrolled": true
   },
   "outputs": [
    {
     "ename": "ConnectionTimeout",
     "evalue": "ConnectionTimeout caused by - ConnectTimeout(HTTPSConnectionPool(host='vpc-dusstac-dussta-1n8niblaemqb-otcfzpck6s7czlgni6gxcb4rru.us-east-1.es.amazonaws.com', port=443): Max retries exceeded with url: /textract/_search?_source=true&size=1000&filter_path=hits.hits._id%2Chits.hits._source%2Chits.hits.highlight%2Chits.hits._score (Caused by ConnectTimeoutError(<urllib3.connection.HTTPSConnection object at 0x7f7529e344d0>, 'Connection to vpc-dusstac-dussta-1n8niblaemqb-otcfzpck6s7czlgni6gxcb4rru.us-east-1.es.amazonaws.com timed out. (connect timeout=5)')))",
     "output_type": "error",
     "traceback": [
      "\u001b[0;31m---------------------------------------------------------------------------\u001b[0m",
      "\u001b[0;31mtimeout\u001b[0m                                   Traceback (most recent call last)",
      "\u001b[0;32m~/.local/lib/python3.7/site-packages/urllib3/connection.py\u001b[0m in \u001b[0;36m_new_conn\u001b[0;34m(self)\u001b[0m\n\u001b[1;32m    174\u001b[0m             conn = connection.create_connection(\n\u001b[0;32m--> 175\u001b[0;31m                 \u001b[0;34m(\u001b[0m\u001b[0mself\u001b[0m\u001b[0;34m.\u001b[0m\u001b[0m_dns_host\u001b[0m\u001b[0;34m,\u001b[0m \u001b[0mself\u001b[0m\u001b[0;34m.\u001b[0m\u001b[0mport\u001b[0m\u001b[0;34m)\u001b[0m\u001b[0;34m,\u001b[0m \u001b[0mself\u001b[0m\u001b[0;34m.\u001b[0m\u001b[0mtimeout\u001b[0m\u001b[0;34m,\u001b[0m \u001b[0;34m**\u001b[0m\u001b[0mextra_kw\u001b[0m\u001b[0;34m\u001b[0m\u001b[0;34m\u001b[0m\u001b[0m\n\u001b[0m\u001b[1;32m    176\u001b[0m             )\n",
      "\u001b[0;32m~/.local/lib/python3.7/site-packages/urllib3/util/connection.py\u001b[0m in \u001b[0;36mcreate_connection\u001b[0;34m(address, timeout, source_address, socket_options)\u001b[0m\n\u001b[1;32m     95\u001b[0m     \u001b[0;32mif\u001b[0m \u001b[0merr\u001b[0m \u001b[0;32mis\u001b[0m \u001b[0;32mnot\u001b[0m \u001b[0;32mNone\u001b[0m\u001b[0;34m:\u001b[0m\u001b[0;34m\u001b[0m\u001b[0;34m\u001b[0m\u001b[0m\n\u001b[0;32m---> 96\u001b[0;31m         \u001b[0;32mraise\u001b[0m \u001b[0merr\u001b[0m\u001b[0;34m\u001b[0m\u001b[0;34m\u001b[0m\u001b[0m\n\u001b[0m\u001b[1;32m     97\u001b[0m \u001b[0;34m\u001b[0m\u001b[0m\n",
      "\u001b[0;32m~/.local/lib/python3.7/site-packages/urllib3/util/connection.py\u001b[0m in \u001b[0;36mcreate_connection\u001b[0;34m(address, timeout, source_address, socket_options)\u001b[0m\n\u001b[1;32m     85\u001b[0m                 \u001b[0msock\u001b[0m\u001b[0;34m.\u001b[0m\u001b[0mbind\u001b[0m\u001b[0;34m(\u001b[0m\u001b[0msource_address\u001b[0m\u001b[0;34m)\u001b[0m\u001b[0;34m\u001b[0m\u001b[0;34m\u001b[0m\u001b[0m\n\u001b[0;32m---> 86\u001b[0;31m             \u001b[0msock\u001b[0m\u001b[0;34m.\u001b[0m\u001b[0mconnect\u001b[0m\u001b[0;34m(\u001b[0m\u001b[0msa\u001b[0m\u001b[0;34m)\u001b[0m\u001b[0;34m\u001b[0m\u001b[0;34m\u001b[0m\u001b[0m\n\u001b[0m\u001b[1;32m     87\u001b[0m             \u001b[0;32mreturn\u001b[0m \u001b[0msock\u001b[0m\u001b[0;34m\u001b[0m\u001b[0;34m\u001b[0m\u001b[0m\n",
      "\u001b[0;31mtimeout\u001b[0m: timed out",
      "\nDuring handling of the above exception, another exception occurred:\n",
      "\u001b[0;31mConnectTimeoutError\u001b[0m                       Traceback (most recent call last)",
      "\u001b[0;32m~/.local/lib/python3.7/site-packages/urllib3/connectionpool.py\u001b[0m in \u001b[0;36murlopen\u001b[0;34m(self, method, url, body, headers, retries, redirect, assert_same_host, timeout, pool_timeout, release_conn, chunked, body_pos, **response_kw)\u001b[0m\n\u001b[1;32m    705\u001b[0m                 \u001b[0mheaders\u001b[0m\u001b[0;34m=\u001b[0m\u001b[0mheaders\u001b[0m\u001b[0;34m,\u001b[0m\u001b[0;34m\u001b[0m\u001b[0;34m\u001b[0m\u001b[0m\n\u001b[0;32m--> 706\u001b[0;31m                 \u001b[0mchunked\u001b[0m\u001b[0;34m=\u001b[0m\u001b[0mchunked\u001b[0m\u001b[0;34m,\u001b[0m\u001b[0;34m\u001b[0m\u001b[0;34m\u001b[0m\u001b[0m\n\u001b[0m\u001b[1;32m    707\u001b[0m             )\n",
      "\u001b[0;32m~/.local/lib/python3.7/site-packages/urllib3/connectionpool.py\u001b[0m in \u001b[0;36m_make_request\u001b[0;34m(self, conn, method, url, timeout, chunked, **httplib_request_kw)\u001b[0m\n\u001b[1;32m    381\u001b[0m         \u001b[0;32mtry\u001b[0m\u001b[0;34m:\u001b[0m\u001b[0;34m\u001b[0m\u001b[0;34m\u001b[0m\u001b[0m\n\u001b[0;32m--> 382\u001b[0;31m             \u001b[0mself\u001b[0m\u001b[0;34m.\u001b[0m\u001b[0m_validate_conn\u001b[0m\u001b[0;34m(\u001b[0m\u001b[0mconn\u001b[0m\u001b[0;34m)\u001b[0m\u001b[0;34m\u001b[0m\u001b[0;34m\u001b[0m\u001b[0m\n\u001b[0m\u001b[1;32m    383\u001b[0m         \u001b[0;32mexcept\u001b[0m \u001b[0;34m(\u001b[0m\u001b[0mSocketTimeout\u001b[0m\u001b[0;34m,\u001b[0m \u001b[0mBaseSSLError\u001b[0m\u001b[0;34m)\u001b[0m \u001b[0;32mas\u001b[0m \u001b[0me\u001b[0m\u001b[0;34m:\u001b[0m\u001b[0;34m\u001b[0m\u001b[0;34m\u001b[0m\u001b[0m\n",
      "\u001b[0;32m~/.local/lib/python3.7/site-packages/urllib3/connectionpool.py\u001b[0m in \u001b[0;36m_validate_conn\u001b[0;34m(self, conn)\u001b[0m\n\u001b[1;32m   1009\u001b[0m         \u001b[0;32mif\u001b[0m \u001b[0;32mnot\u001b[0m \u001b[0mgetattr\u001b[0m\u001b[0;34m(\u001b[0m\u001b[0mconn\u001b[0m\u001b[0;34m,\u001b[0m \u001b[0;34m\"sock\"\u001b[0m\u001b[0;34m,\u001b[0m \u001b[0;32mNone\u001b[0m\u001b[0;34m)\u001b[0m\u001b[0;34m:\u001b[0m  \u001b[0;31m# AppEngine might not have  `.sock`\u001b[0m\u001b[0;34m\u001b[0m\u001b[0;34m\u001b[0m\u001b[0m\n\u001b[0;32m-> 1010\u001b[0;31m             \u001b[0mconn\u001b[0m\u001b[0;34m.\u001b[0m\u001b[0mconnect\u001b[0m\u001b[0;34m(\u001b[0m\u001b[0;34m)\u001b[0m\u001b[0;34m\u001b[0m\u001b[0;34m\u001b[0m\u001b[0m\n\u001b[0m\u001b[1;32m   1011\u001b[0m \u001b[0;34m\u001b[0m\u001b[0m\n",
      "\u001b[0;32m~/.local/lib/python3.7/site-packages/urllib3/connection.py\u001b[0m in \u001b[0;36mconnect\u001b[0;34m(self)\u001b[0m\n\u001b[1;32m    357\u001b[0m         \u001b[0;31m# Add certificate verification\u001b[0m\u001b[0;34m\u001b[0m\u001b[0;34m\u001b[0m\u001b[0;34m\u001b[0m\u001b[0m\n\u001b[0;32m--> 358\u001b[0;31m         \u001b[0mconn\u001b[0m \u001b[0;34m=\u001b[0m \u001b[0mself\u001b[0m\u001b[0;34m.\u001b[0m\u001b[0m_new_conn\u001b[0m\u001b[0;34m(\u001b[0m\u001b[0;34m)\u001b[0m\u001b[0;34m\u001b[0m\u001b[0;34m\u001b[0m\u001b[0m\n\u001b[0m\u001b[1;32m    359\u001b[0m         \u001b[0mhostname\u001b[0m \u001b[0;34m=\u001b[0m \u001b[0mself\u001b[0m\u001b[0;34m.\u001b[0m\u001b[0mhost\u001b[0m\u001b[0;34m\u001b[0m\u001b[0;34m\u001b[0m\u001b[0m\n",
      "\u001b[0;32m~/.local/lib/python3.7/site-packages/urllib3/connection.py\u001b[0m in \u001b[0;36m_new_conn\u001b[0;34m(self)\u001b[0m\n\u001b[1;32m    181\u001b[0m                 \u001b[0;34m\"Connection to %s timed out. (connect timeout=%s)\"\u001b[0m\u001b[0;34m\u001b[0m\u001b[0;34m\u001b[0m\u001b[0m\n\u001b[0;32m--> 182\u001b[0;31m                 \u001b[0;34m%\u001b[0m \u001b[0;34m(\u001b[0m\u001b[0mself\u001b[0m\u001b[0;34m.\u001b[0m\u001b[0mhost\u001b[0m\u001b[0;34m,\u001b[0m \u001b[0mself\u001b[0m\u001b[0;34m.\u001b[0m\u001b[0mtimeout\u001b[0m\u001b[0;34m)\u001b[0m\u001b[0;34m,\u001b[0m\u001b[0;34m\u001b[0m\u001b[0;34m\u001b[0m\u001b[0m\n\u001b[0m\u001b[1;32m    183\u001b[0m             )\n",
      "\u001b[0;31mConnectTimeoutError\u001b[0m: (<urllib3.connection.HTTPSConnection object at 0x7f7529e344d0>, 'Connection to vpc-dusstac-dussta-1n8niblaemqb-otcfzpck6s7czlgni6gxcb4rru.us-east-1.es.amazonaws.com timed out. (connect timeout=5)')",
      "\nDuring handling of the above exception, another exception occurred:\n",
      "\u001b[0;31mMaxRetryError\u001b[0m                             Traceback (most recent call last)",
      "\u001b[0;32m~/anaconda3/envs/python37/lib/python3.7/site-packages/requests/adapters.py\u001b[0m in \u001b[0;36msend\u001b[0;34m(self, request, stream, timeout, verify, cert, proxies)\u001b[0m\n\u001b[1;32m    449\u001b[0m                     \u001b[0mretries\u001b[0m\u001b[0;34m=\u001b[0m\u001b[0mself\u001b[0m\u001b[0;34m.\u001b[0m\u001b[0mmax_retries\u001b[0m\u001b[0;34m,\u001b[0m\u001b[0;34m\u001b[0m\u001b[0;34m\u001b[0m\u001b[0m\n\u001b[0;32m--> 450\u001b[0;31m                     \u001b[0mtimeout\u001b[0m\u001b[0;34m=\u001b[0m\u001b[0mtimeout\u001b[0m\u001b[0;34m\u001b[0m\u001b[0;34m\u001b[0m\u001b[0m\n\u001b[0m\u001b[1;32m    451\u001b[0m                 )\n",
      "\u001b[0;32m~/.local/lib/python3.7/site-packages/urllib3/connectionpool.py\u001b[0m in \u001b[0;36murlopen\u001b[0;34m(self, method, url, body, headers, retries, redirect, assert_same_host, timeout, pool_timeout, release_conn, chunked, body_pos, **response_kw)\u001b[0m\n\u001b[1;32m    755\u001b[0m             retries = retries.increment(\n\u001b[0;32m--> 756\u001b[0;31m                 \u001b[0mmethod\u001b[0m\u001b[0;34m,\u001b[0m \u001b[0murl\u001b[0m\u001b[0;34m,\u001b[0m \u001b[0merror\u001b[0m\u001b[0;34m=\u001b[0m\u001b[0me\u001b[0m\u001b[0;34m,\u001b[0m \u001b[0m_pool\u001b[0m\u001b[0;34m=\u001b[0m\u001b[0mself\u001b[0m\u001b[0;34m,\u001b[0m \u001b[0m_stacktrace\u001b[0m\u001b[0;34m=\u001b[0m\u001b[0msys\u001b[0m\u001b[0;34m.\u001b[0m\u001b[0mexc_info\u001b[0m\u001b[0;34m(\u001b[0m\u001b[0;34m)\u001b[0m\u001b[0;34m[\u001b[0m\u001b[0;36m2\u001b[0m\u001b[0;34m]\u001b[0m\u001b[0;34m\u001b[0m\u001b[0;34m\u001b[0m\u001b[0m\n\u001b[0m\u001b[1;32m    757\u001b[0m             )\n",
      "\u001b[0;32m~/.local/lib/python3.7/site-packages/urllib3/util/retry.py\u001b[0m in \u001b[0;36mincrement\u001b[0;34m(self, method, url, response, error, _pool, _stacktrace)\u001b[0m\n\u001b[1;32m    573\u001b[0m         \u001b[0;32mif\u001b[0m \u001b[0mnew_retry\u001b[0m\u001b[0;34m.\u001b[0m\u001b[0mis_exhausted\u001b[0m\u001b[0;34m(\u001b[0m\u001b[0;34m)\u001b[0m\u001b[0;34m:\u001b[0m\u001b[0;34m\u001b[0m\u001b[0;34m\u001b[0m\u001b[0m\n\u001b[0;32m--> 574\u001b[0;31m             \u001b[0;32mraise\u001b[0m \u001b[0mMaxRetryError\u001b[0m\u001b[0;34m(\u001b[0m\u001b[0m_pool\u001b[0m\u001b[0;34m,\u001b[0m \u001b[0murl\u001b[0m\u001b[0;34m,\u001b[0m \u001b[0merror\u001b[0m \u001b[0;32mor\u001b[0m \u001b[0mResponseError\u001b[0m\u001b[0;34m(\u001b[0m\u001b[0mcause\u001b[0m\u001b[0;34m)\u001b[0m\u001b[0;34m)\u001b[0m\u001b[0;34m\u001b[0m\u001b[0;34m\u001b[0m\u001b[0m\n\u001b[0m\u001b[1;32m    575\u001b[0m \u001b[0;34m\u001b[0m\u001b[0m\n",
      "\u001b[0;31mMaxRetryError\u001b[0m: HTTPSConnectionPool(host='vpc-dusstac-dussta-1n8niblaemqb-otcfzpck6s7czlgni6gxcb4rru.us-east-1.es.amazonaws.com', port=443): Max retries exceeded with url: /textract/_search?_source=true&size=1000&filter_path=hits.hits._id%2Chits.hits._source%2Chits.hits.highlight%2Chits.hits._score (Caused by ConnectTimeoutError(<urllib3.connection.HTTPSConnection object at 0x7f7529e344d0>, 'Connection to vpc-dusstac-dussta-1n8niblaemqb-otcfzpck6s7czlgni6gxcb4rru.us-east-1.es.amazonaws.com timed out. (connect timeout=5)'))",
      "\nDuring handling of the above exception, another exception occurred:\n",
      "\u001b[0;31mConnectTimeout\u001b[0m                            Traceback (most recent call last)",
      "\u001b[0;32m~/anaconda3/envs/python37/lib/python3.7/site-packages/elasticsearch/connection/http_requests.py\u001b[0m in \u001b[0;36mperform_request\u001b[0;34m(self, method, url, params, body, timeout, ignore, headers)\u001b[0m\n\u001b[1;32m    165\u001b[0m         \u001b[0;32mtry\u001b[0m\u001b[0;34m:\u001b[0m\u001b[0;34m\u001b[0m\u001b[0;34m\u001b[0m\u001b[0m\n\u001b[0;32m--> 166\u001b[0;31m             \u001b[0mresponse\u001b[0m \u001b[0;34m=\u001b[0m \u001b[0mself\u001b[0m\u001b[0;34m.\u001b[0m\u001b[0msession\u001b[0m\u001b[0;34m.\u001b[0m\u001b[0msend\u001b[0m\u001b[0;34m(\u001b[0m\u001b[0mprepared_request\u001b[0m\u001b[0;34m,\u001b[0m \u001b[0;34m**\u001b[0m\u001b[0msend_kwargs\u001b[0m\u001b[0;34m)\u001b[0m\u001b[0;34m\u001b[0m\u001b[0;34m\u001b[0m\u001b[0m\n\u001b[0m\u001b[1;32m    167\u001b[0m             \u001b[0mduration\u001b[0m \u001b[0;34m=\u001b[0m \u001b[0mtime\u001b[0m\u001b[0;34m.\u001b[0m\u001b[0mtime\u001b[0m\u001b[0;34m(\u001b[0m\u001b[0;34m)\u001b[0m \u001b[0;34m-\u001b[0m \u001b[0mstart\u001b[0m\u001b[0;34m\u001b[0m\u001b[0;34m\u001b[0m\u001b[0m\n",
      "\u001b[0;32m~/anaconda3/envs/python37/lib/python3.7/site-packages/requests/sessions.py\u001b[0m in \u001b[0;36msend\u001b[0;34m(self, request, **kwargs)\u001b[0m\n\u001b[1;32m    644\u001b[0m         \u001b[0;31m# Send the request\u001b[0m\u001b[0;34m\u001b[0m\u001b[0;34m\u001b[0m\u001b[0;34m\u001b[0m\u001b[0m\n\u001b[0;32m--> 645\u001b[0;31m         \u001b[0mr\u001b[0m \u001b[0;34m=\u001b[0m \u001b[0madapter\u001b[0m\u001b[0;34m.\u001b[0m\u001b[0msend\u001b[0m\u001b[0;34m(\u001b[0m\u001b[0mrequest\u001b[0m\u001b[0;34m,\u001b[0m \u001b[0;34m**\u001b[0m\u001b[0mkwargs\u001b[0m\u001b[0;34m)\u001b[0m\u001b[0;34m\u001b[0m\u001b[0;34m\u001b[0m\u001b[0m\n\u001b[0m\u001b[1;32m    646\u001b[0m \u001b[0;34m\u001b[0m\u001b[0m\n",
      "\u001b[0;32m~/anaconda3/envs/python37/lib/python3.7/site-packages/requests/adapters.py\u001b[0m in \u001b[0;36msend\u001b[0;34m(self, request, stream, timeout, verify, cert, proxies)\u001b[0m\n\u001b[1;32m    506\u001b[0m                 \u001b[0;32mif\u001b[0m \u001b[0;32mnot\u001b[0m \u001b[0misinstance\u001b[0m\u001b[0;34m(\u001b[0m\u001b[0me\u001b[0m\u001b[0;34m.\u001b[0m\u001b[0mreason\u001b[0m\u001b[0;34m,\u001b[0m \u001b[0mNewConnectionError\u001b[0m\u001b[0;34m)\u001b[0m\u001b[0;34m:\u001b[0m\u001b[0;34m\u001b[0m\u001b[0;34m\u001b[0m\u001b[0m\n\u001b[0;32m--> 507\u001b[0;31m                     \u001b[0;32mraise\u001b[0m \u001b[0mConnectTimeout\u001b[0m\u001b[0;34m(\u001b[0m\u001b[0me\u001b[0m\u001b[0;34m,\u001b[0m \u001b[0mrequest\u001b[0m\u001b[0;34m=\u001b[0m\u001b[0mrequest\u001b[0m\u001b[0;34m)\u001b[0m\u001b[0;34m\u001b[0m\u001b[0;34m\u001b[0m\u001b[0m\n\u001b[0m\u001b[1;32m    508\u001b[0m \u001b[0;34m\u001b[0m\u001b[0m\n",
      "\u001b[0;31mConnectTimeout\u001b[0m: HTTPSConnectionPool(host='vpc-dusstac-dussta-1n8niblaemqb-otcfzpck6s7czlgni6gxcb4rru.us-east-1.es.amazonaws.com', port=443): Max retries exceeded with url: /textract/_search?_source=true&size=1000&filter_path=hits.hits._id%2Chits.hits._source%2Chits.hits.highlight%2Chits.hits._score (Caused by ConnectTimeoutError(<urllib3.connection.HTTPSConnection object at 0x7f7529e344d0>, 'Connection to vpc-dusstac-dussta-1n8niblaemqb-otcfzpck6s7czlgni6gxcb4rru.us-east-1.es.amazonaws.com timed out. (connect timeout=5)'))",
      "\nDuring handling of the above exception, another exception occurred:\n",
      "\u001b[0;31mConnectionTimeout\u001b[0m                         Traceback (most recent call last)",
      "\u001b[0;32m/tmp/ipykernel_26874/1204133353.py\u001b[0m in \u001b[0;36m<module>\u001b[0;34m\u001b[0m\n\u001b[1;32m     37\u001b[0m         \u001b[0;34m'hits.hits._score'\u001b[0m\u001b[0;34m\u001b[0m\u001b[0;34m\u001b[0m\u001b[0m\n\u001b[1;32m     38\u001b[0m     ],\n\u001b[0;32m---> 39\u001b[0;31m     \u001b[0mrequest_timeout\u001b[0m\u001b[0;34m=\u001b[0m\u001b[0;36m5\u001b[0m \u001b[0;31m# this isn't what limits to 5 fragments\u001b[0m\u001b[0;34m\u001b[0m\u001b[0;34m\u001b[0m\u001b[0m\n\u001b[0m\u001b[1;32m     40\u001b[0m )\n\u001b[1;32m     41\u001b[0m \u001b[0;34m\u001b[0m\u001b[0m\n",
      "\u001b[0;32m~/anaconda3/envs/python37/lib/python3.7/site-packages/elasticsearch/client/utils.py\u001b[0m in \u001b[0;36m_wrapped\u001b[0;34m(*args, **kwargs)\u001b[0m\n\u001b[1;32m    166\u001b[0m                 \u001b[0;32mif\u001b[0m \u001b[0mp\u001b[0m \u001b[0;32min\u001b[0m \u001b[0mkwargs\u001b[0m\u001b[0;34m:\u001b[0m\u001b[0;34m\u001b[0m\u001b[0;34m\u001b[0m\u001b[0m\n\u001b[1;32m    167\u001b[0m                     \u001b[0mparams\u001b[0m\u001b[0;34m[\u001b[0m\u001b[0mp\u001b[0m\u001b[0;34m]\u001b[0m \u001b[0;34m=\u001b[0m \u001b[0mkwargs\u001b[0m\u001b[0;34m.\u001b[0m\u001b[0mpop\u001b[0m\u001b[0;34m(\u001b[0m\u001b[0mp\u001b[0m\u001b[0;34m)\u001b[0m\u001b[0;34m\u001b[0m\u001b[0;34m\u001b[0m\u001b[0m\n\u001b[0;32m--> 168\u001b[0;31m             \u001b[0;32mreturn\u001b[0m \u001b[0mfunc\u001b[0m\u001b[0;34m(\u001b[0m\u001b[0;34m*\u001b[0m\u001b[0margs\u001b[0m\u001b[0;34m,\u001b[0m \u001b[0mparams\u001b[0m\u001b[0;34m=\u001b[0m\u001b[0mparams\u001b[0m\u001b[0;34m,\u001b[0m \u001b[0mheaders\u001b[0m\u001b[0;34m=\u001b[0m\u001b[0mheaders\u001b[0m\u001b[0;34m,\u001b[0m \u001b[0;34m**\u001b[0m\u001b[0mkwargs\u001b[0m\u001b[0;34m)\u001b[0m\u001b[0;34m\u001b[0m\u001b[0;34m\u001b[0m\u001b[0m\n\u001b[0m\u001b[1;32m    169\u001b[0m \u001b[0;34m\u001b[0m\u001b[0m\n\u001b[1;32m    170\u001b[0m         \u001b[0;32mreturn\u001b[0m \u001b[0m_wrapped\u001b[0m\u001b[0;34m\u001b[0m\u001b[0;34m\u001b[0m\u001b[0m\n",
      "\u001b[0;32m~/anaconda3/envs/python37/lib/python3.7/site-packages/elasticsearch/client/__init__.py\u001b[0m in \u001b[0;36msearch\u001b[0;34m(self, body, index, doc_type, params, headers)\u001b[0m\n\u001b[1;32m   1673\u001b[0m             \u001b[0mparams\u001b[0m\u001b[0;34m=\u001b[0m\u001b[0mparams\u001b[0m\u001b[0;34m,\u001b[0m\u001b[0;34m\u001b[0m\u001b[0;34m\u001b[0m\u001b[0m\n\u001b[1;32m   1674\u001b[0m             \u001b[0mheaders\u001b[0m\u001b[0;34m=\u001b[0m\u001b[0mheaders\u001b[0m\u001b[0;34m,\u001b[0m\u001b[0;34m\u001b[0m\u001b[0;34m\u001b[0m\u001b[0m\n\u001b[0;32m-> 1675\u001b[0;31m             \u001b[0mbody\u001b[0m\u001b[0;34m=\u001b[0m\u001b[0mbody\u001b[0m\u001b[0;34m,\u001b[0m\u001b[0;34m\u001b[0m\u001b[0;34m\u001b[0m\u001b[0m\n\u001b[0m\u001b[1;32m   1676\u001b[0m         )\n\u001b[1;32m   1677\u001b[0m \u001b[0;34m\u001b[0m\u001b[0m\n",
      "\u001b[0;32m~/anaconda3/envs/python37/lib/python3.7/site-packages/elasticsearch/transport.py\u001b[0m in \u001b[0;36mperform_request\u001b[0;34m(self, method, url, headers, params, body)\u001b[0m\n\u001b[1;32m    413\u001b[0m                         \u001b[0;32mraise\u001b[0m \u001b[0me\u001b[0m\u001b[0;34m\u001b[0m\u001b[0;34m\u001b[0m\u001b[0m\n\u001b[1;32m    414\u001b[0m                 \u001b[0;32melse\u001b[0m\u001b[0;34m:\u001b[0m\u001b[0;34m\u001b[0m\u001b[0;34m\u001b[0m\u001b[0m\n\u001b[0;32m--> 415\u001b[0;31m                     \u001b[0;32mraise\u001b[0m \u001b[0me\u001b[0m\u001b[0;34m\u001b[0m\u001b[0;34m\u001b[0m\u001b[0m\n\u001b[0m\u001b[1;32m    416\u001b[0m \u001b[0;34m\u001b[0m\u001b[0m\n\u001b[1;32m    417\u001b[0m             \u001b[0;32melse\u001b[0m\u001b[0;34m:\u001b[0m\u001b[0;34m\u001b[0m\u001b[0;34m\u001b[0m\u001b[0m\n",
      "\u001b[0;32m~/anaconda3/envs/python37/lib/python3.7/site-packages/elasticsearch/transport.py\u001b[0m in \u001b[0;36mperform_request\u001b[0;34m(self, method, url, headers, params, body)\u001b[0m\n\u001b[1;32m    386\u001b[0m                     \u001b[0mheaders\u001b[0m\u001b[0;34m=\u001b[0m\u001b[0mheaders\u001b[0m\u001b[0;34m,\u001b[0m\u001b[0;34m\u001b[0m\u001b[0;34m\u001b[0m\u001b[0m\n\u001b[1;32m    387\u001b[0m                     \u001b[0mignore\u001b[0m\u001b[0;34m=\u001b[0m\u001b[0mignore\u001b[0m\u001b[0;34m,\u001b[0m\u001b[0;34m\u001b[0m\u001b[0;34m\u001b[0m\u001b[0m\n\u001b[0;32m--> 388\u001b[0;31m                     \u001b[0mtimeout\u001b[0m\u001b[0;34m=\u001b[0m\u001b[0mtimeout\u001b[0m\u001b[0;34m,\u001b[0m\u001b[0;34m\u001b[0m\u001b[0;34m\u001b[0m\u001b[0m\n\u001b[0m\u001b[1;32m    389\u001b[0m                 )\n\u001b[1;32m    390\u001b[0m \u001b[0;34m\u001b[0m\u001b[0m\n",
      "\u001b[0;32m~/anaconda3/envs/python37/lib/python3.7/site-packages/elasticsearch/connection/http_requests.py\u001b[0m in \u001b[0;36mperform_request\u001b[0;34m(self, method, url, params, body, timeout, ignore, headers)\u001b[0m\n\u001b[1;32m    181\u001b[0m                 \u001b[0;32mraise\u001b[0m \u001b[0mSSLError\u001b[0m\u001b[0;34m(\u001b[0m\u001b[0;34m\"N/A\"\u001b[0m\u001b[0;34m,\u001b[0m \u001b[0mstr\u001b[0m\u001b[0;34m(\u001b[0m\u001b[0me\u001b[0m\u001b[0;34m)\u001b[0m\u001b[0;34m,\u001b[0m \u001b[0me\u001b[0m\u001b[0;34m)\u001b[0m\u001b[0;34m\u001b[0m\u001b[0;34m\u001b[0m\u001b[0m\n\u001b[1;32m    182\u001b[0m             \u001b[0;32mif\u001b[0m \u001b[0misinstance\u001b[0m\u001b[0;34m(\u001b[0m\u001b[0me\u001b[0m\u001b[0;34m,\u001b[0m \u001b[0mrequests\u001b[0m\u001b[0;34m.\u001b[0m\u001b[0mTimeout\u001b[0m\u001b[0;34m)\u001b[0m\u001b[0;34m:\u001b[0m\u001b[0;34m\u001b[0m\u001b[0;34m\u001b[0m\u001b[0m\n\u001b[0;32m--> 183\u001b[0;31m                 \u001b[0;32mraise\u001b[0m \u001b[0mConnectionTimeout\u001b[0m\u001b[0;34m(\u001b[0m\u001b[0;34m\"TIMEOUT\"\u001b[0m\u001b[0;34m,\u001b[0m \u001b[0mstr\u001b[0m\u001b[0;34m(\u001b[0m\u001b[0me\u001b[0m\u001b[0;34m)\u001b[0m\u001b[0;34m,\u001b[0m \u001b[0me\u001b[0m\u001b[0;34m)\u001b[0m\u001b[0;34m\u001b[0m\u001b[0;34m\u001b[0m\u001b[0m\n\u001b[0m\u001b[1;32m    184\u001b[0m             \u001b[0;32mraise\u001b[0m \u001b[0mConnectionError\u001b[0m\u001b[0;34m(\u001b[0m\u001b[0;34m\"N/A\"\u001b[0m\u001b[0;34m,\u001b[0m \u001b[0mstr\u001b[0m\u001b[0;34m(\u001b[0m\u001b[0me\u001b[0m\u001b[0;34m)\u001b[0m\u001b[0;34m,\u001b[0m \u001b[0me\u001b[0m\u001b[0;34m)\u001b[0m\u001b[0;34m\u001b[0m\u001b[0;34m\u001b[0m\u001b[0m\n\u001b[1;32m    185\u001b[0m \u001b[0;34m\u001b[0m\u001b[0m\n",
      "\u001b[0;31mConnectionTimeout\u001b[0m: ConnectionTimeout caused by - ConnectTimeout(HTTPSConnectionPool(host='vpc-dusstac-dussta-1n8niblaemqb-otcfzpck6s7czlgni6gxcb4rru.us-east-1.es.amazonaws.com', port=443): Max retries exceeded with url: /textract/_search?_source=true&size=1000&filter_path=hits.hits._id%2Chits.hits._source%2Chits.hits.highlight%2Chits.hits._score (Caused by ConnectTimeoutError(<urllib3.connection.HTTPSConnection object at 0x7f7529e344d0>, 'Connection to vpc-dusstac-dussta-1n8niblaemqb-otcfzpck6s7czlgni6gxcb4rru.us-east-1.es.amazonaws.com timed out. (connect timeout=5)')))"
     ]
    }
   ],
   "source": [
    "# search query\n",
    "# keyword = \"What is diabetes\\?\"\n",
    "# keyword = \"What are the types of diabetes\\?\"\n",
    "keyword = \"What are the types of contracts\\?\"\n",
    "\n",
    "# size of the result fragment returned by ES\n",
    "ES_HIGHLIGHT_FRAGMENT_SIZE = 200\n",
    "\n",
    "# HTTP request parameters that will be sent to ES API\n",
    "searchBody = {\n",
    "    # set up for string based queries\n",
    "    \"query\" : {\n",
    "        \"query_string\": {\n",
    "            \"query\": keyword\n",
    "        }\n",
    "    },\n",
    "    # set up for result fragments that are returned by ES\n",
    "    \"highlight\" : {\n",
    "        \"fields\" : {\n",
    "            \"content\" : { \"pre_tags\" : [\"\"], \"post_tags\" : [\"\"] },\n",
    "        },\n",
    "        \"fragment_size\" : ES_HIGHLIGHT_FRAGMENT_SIZE,\n",
    "        \"require_field_match\": False\n",
    "    }\n",
    "}\n",
    "\n",
    "# make a query against existing index in ES via call to API\n",
    "output = es.search(\n",
    "    index='textract',\n",
    "    size=1000,\n",
    "    body=searchBody,\n",
    "    _source = True,\n",
    "    filter_path=[\n",
    "        'hits.hits._id',\n",
    "        'hits.hits._source',\n",
    "        'hits.hits.highlight',\n",
    "        'hits.hits._score'\n",
    "    ],\n",
    "    request_timeout=5 # this isn't what limits to 5 fragments\n",
    ")\n",
    "\n",
    "# Download and save\n",
    "df_res = pd.DataFrame(columns=['doc_path','doc_name','score', 'highlight'])\n",
    "\n",
    "# parse results from search; returns 5 fragments from each source\n",
    "n_results = len(output[\"hits\"][\"hits\"])\n",
    "print(f\"The Elasticsearch query returned {n_results} results.\\n\")\n",
    "\n",
    "print(f\"Example output:\\n\\n\")\n",
    "for i,x in enumerate(output[\"hits\"][\"hits\"]):\n",
    "    newrow = {'doc_path':os.path.split(x['_source']['name'])[0],\n",
    "              'doc_name':os.path.split(x['_source']['name'])[1],\n",
    "              'score':x['_score'],\n",
    "              'highlight':''}\n",
    "    for j,highlight in enumerate(x['highlight']['content']):\n",
    "        print(f\"SOURCE {i}: HIGHLIGHT {j}\")\n",
    "        highlight = highlight.replace(\"\\n\",\" \")\n",
    "        print(f\"{highlight}\\n\")\n",
    "        newrow['highlight'] = highlight\n",
    "        df_res.loc[df_res.shape[0],:] = newrow\n",
    "        \n",
    "# save the file\n",
    "# flnm = 'query_' + re.sub('\\W+','', keyword.replace(\" \",\"_\").lower()) + '_1.csv'\n",
    "# df_res.to_csv(flnm, index=False)"
   ]
  },
  {
   "cell_type": "markdown",
   "id": "51fba437",
   "metadata": {},
   "source": [
    "## Download Test"
   ]
  },
  {
   "cell_type": "code",
   "execution_count": 103,
   "id": "a7e9dd48",
   "metadata": {},
   "outputs": [
    {
     "name": "stdout",
     "output_type": "stream",
     "text": [
      "The Elasticsearch query returned 17 results.\n",
      "\n",
      "Example output:\n",
      "\n",
      "\n"
     ]
    }
   ],
   "source": [
    "# set up a query and download the contents\n",
    "# use output from previous query\n",
    "# why does highlight only return 5?\n",
    "\n",
    "df_res = pd.DataFrame(columns=['doc_path','doc_name','score', 'highlight'])\n",
    "\n",
    "# parse results from search; returns 5 fragments from each source\n",
    "n_results = len(output[\"hits\"][\"hits\"])\n",
    "print(f\"The Elasticsearch query returned {n_results} results.\\n\")\n",
    "\n",
    "print(f\"Example output:\\n\\n\")\n",
    "for i,x in enumerate(output[\"hits\"][\"hits\"]):\n",
    "    newrow = {'doc_path':os.path.split(x['_source']['name'])[0],\n",
    "              'doc_name':os.path.split(x['_source']['name'])[1],\n",
    "              'score':x['_score'],\n",
    "              'highlight':''}\n",
    "#     df_res.loc[df_res.shape[0],:] = newrow\n",
    "    for j,highlight in enumerate(x['highlight']['content']):\n",
    "        highlight = highlight.replace(\"\\n\",\" \")\n",
    "        newrow['highlight'] = highlight\n",
    "        df_res.loc[df_res.shape[0],:] = newrow"
   ]
  },
  {
   "cell_type": "code",
   "execution_count": 104,
   "id": "861f5053",
   "metadata": {},
   "outputs": [],
   "source": [
    "df_res.to_csv('save_query_types_of_diabetes.csv', index=False)"
   ]
  },
  {
   "cell_type": "code",
   "execution_count": 79,
   "id": "34e2657c",
   "metadata": {},
   "outputs": [
    {
     "data": {
      "text/plain": [
       "'pfizer-inc-covid-19-vaccine-contract-page1.pdf'"
      ]
     },
     "execution_count": 79,
     "metadata": {},
     "output_type": "execute_result"
    }
   ],
   "source": [
    "os.path.split(x['_source']['name'])[1]"
   ]
  },
  {
   "cell_type": "code",
   "execution_count": 61,
   "id": "79d58995",
   "metadata": {},
   "outputs": [
    {
     "data": {
      "text/plain": [
       "'/home/ec2-user/SageMaker'"
      ]
     },
     "execution_count": 61,
     "metadata": {},
     "output_type": "execute_result"
    }
   ],
   "source": [
    "os.getcwd()"
   ]
  },
  {
   "cell_type": "code",
   "execution_count": null,
   "id": "674247b2",
   "metadata": {},
   "outputs": [],
   "source": []
  },
  {
   "cell_type": "markdown",
   "id": "9b99ba30",
   "metadata": {},
   "source": [
    "### Examine Current ES Index\n",
    "This index was created when the DUS application was initially deployed. Under \"properties\" are the features in which the documents are indexed by. In this example, there are a mix of numbers, authors, and sentence fragments. The numbers correspond to ICD10 numbers since those were used to when building the index. The other properties are extracted by ES to best optimize searches across the documents in the index."
   ]
  },
  {
   "cell_type": "code",
   "execution_count": 4,
   "id": "90314888",
   "metadata": {
    "scrolled": true
   },
   "outputs": [
    {
     "name": "stdout",
     "output_type": "stream",
     "text": [
      "The index textract exists...\n",
      "\n",
      "{\n",
      "  \"textract\": {\n",
      "    \"aliases\": {},\n",
      "    \"mappings\": {\n",
      "      \"properties\": {\n",
      "        \"5\": {\n",
      "          \"properties\": {\n",
      "            \" this authorization shall be in force and effect until 12/31/2020 (date event), at which time this authorization expires\": {\n",
      "              \"fields\": {\n",
      "                \"keyword\": {\n",
      "                  \"ignore_above\": 256,\n",
      "                  \"type\": \"keyword\"\n",
      "                }\n",
      "              },\n",
      "              \"type\": \"text\"\n",
      "            }\n",
      "          }\n",
      "        },\n",
      "        \"anatomy\": {\n",
      "          \"fields\": {\n",
      "            \"keyword\": {\n",
      "              \"ignore_above\": 256,\n",
      "              \"type\": \"keyword\"\n",
      "            }\n",
      "          },\n",
      "          \"type\": \"text\"\n",
      "        },\n",
      "        \"bucket\": {\n",
      "          \"fields\": {\n",
      "            \"keyword\": {\n",
      "              \"ignore_above\": 256,\n",
      "              \"type\": \"keyword\"\n",
      "            }\n",
      "          },\n",
      "          \"type\": \"text\"\n",
      "        },\n",
      "        \"by\": {\n",
      "          \"fields\": {\n",
      "            \"keyword\": {\n",
      "              \"ignore_above\": 256,\n",
      "              \"type\": \"keyword\"\n",
      "            }\n",
      "          },\n",
      "          \"type\": \"text\"\n",
      "        },\n",
      "        \"christa capozzola\": {\n",
      "          \"fields\": {\n",
      "            \"keyword\": {\n",
      "              \"ignore_above\": 256,\n",
      "              \"type\": \"keyword\"\n",
      "            }\n",
      "          },\n",
      "          \"type\": \"text\"\n",
      "        },\n",
      "        \"circular\": {\n",
      "          \"fields\": {\n",
      "            \"keyword\": {\n",
      "              \"ignore_above\": 256,\n",
      "              \"type\": \"keyword\"\n",
      "            }\n",
      "          },\n",
      "          \"type\": \"text\"\n",
      "        },\n",
      "        \"commercial_item\": {\n",
      "          \"fields\": {\n",
      "            \"keyword\": {\n",
      "              \"ignore_above\": 256,\n",
      "              \"type\": \"keyword\"\n",
      "            }\n",
      "          },\n",
      "          \"type\": \"text\"\n",
      "        },\n",
      "        \"content\": {\n",
      "          \"fields\": {\n",
      "            \"keyword\": {\n",
      "              \"ignore_above\": 256,\n",
      "              \"type\": \"keyword\"\n",
      "            }\n",
      "          },\n",
      "          \"type\": \"text\"\n",
      "        },\n",
      "        \"current pharmacy name\": {\n",
      "          \"fields\": {\n",
      "            \"keyword\": {\n",
      "              \"ignore_above\": 256,\n",
      "              \"type\": \"keyword\"\n",
      "            }\n",
      "          },\n",
      "          \"type\": \"text\"\n",
      "        },\n",
      "        \"current physician name\": {\n",
      "          \"fields\": {\n",
      "            \"keyword\": {\n",
      "              \"ignore_above\": 256,\n",
      "              \"type\": \"keyword\"\n",
      "            }\n",
      "          },\n",
      "          \"type\": \"text\"\n",
      "        },\n",
      "        \"date\": {\n",
      "          \"format\": \"M'/'dd'/'yyyy||date||year||year_month||dd MMM yyyy||dd'/'MM'/'yyyy||yyyy'/'MM'/'dd||dd'/'MM'/'YY||year_month_day||MM'/'dd'/'yy||dd MMM||MM'/'yyyy||M-dd-yyyy||MM'/'dd'/'yyyy||M||d'/'MM'/'yyyy||MM'/'dd'/'yy\",\n",
      "          \"type\": \"date\"\n",
      "        },\n",
      "        \"date of last update\": {\n",
      "          \"fields\": {\n",
      "            \"keyword\": {\n",
      "              \"ignore_above\": 256,\n",
      "              \"type\": \"keyword\"\n",
      "            }\n",
      "          },\n",
      "          \"type\": \"text\"\n",
      "        },\n",
      "        \"description\": {\n",
      "          \"fields\": {\n",
      "            \"keyword\": {\n",
      "              \"ignore_above\": 256,\n",
      "              \"type\": \"keyword\"\n",
      "            }\n",
      "          },\n",
      "          \"type\": \"text\"\n",
      "        },\n",
      "        \"documentId\": {\n",
      "          \"fields\": {\n",
      "            \"keyword\": {\n",
      "              \"ignore_above\": 256,\n",
      "              \"type\": \"keyword\"\n",
      "            }\n",
      "          },\n",
      "          \"type\": \"text\"\n",
      "        },\n",
      "        \"event\": {\n",
      "          \"fields\": {\n",
      "            \"keyword\": {\n",
      "              \"ignore_above\": 256,\n",
      "              \"type\": \"keyword\"\n",
      "            }\n",
      "          },\n",
      "          \"type\": \"text\"\n",
      "        },\n",
      "        \"from\": {\n",
      "          \"fields\": {\n",
      "            \"keyword\": {\n",
      "              \"ignore_above\": 256,\n",
      "              \"type\": \"keyword\"\n",
      "            }\n",
      "          },\n",
      "          \"type\": \"text\"\n",
      "        },\n",
      "        \"heart attack [https\": {\n",
      "          \"fields\": {\n",
      "            \"keyword\": {\n",
      "              \"ignore_above\": 256,\n",
      "              \"type\": \"keyword\"\n",
      "            }\n",
      "          },\n",
      "          \"type\": \"text\"\n",
      "        },\n",
      "        \"link to treatment plan problem\": {\n",
      "          \"fields\": {\n",
      "            \"keyword\": {\n",
      "              \"ignore_above\": 256,\n",
      "              \"type\": \"keyword\"\n",
      "            }\n",
      "          },\n",
      "          \"type\": \"text\"\n",
      "        },\n",
      "        \"location\": {\n",
      "          \"fields\": {\n",
      "            \"keyword\": {\n",
      "              \"ignore_above\": 256,\n",
      "              \"type\": \"keyword\"\n",
      "            }\n",
      "          },\n",
      "          \"type\": \"text\"\n",
      "        },\n",
      "        \"medical_condition\": {\n",
      "          \"fields\": {\n",
      "            \"keyword\": {\n",
      "              \"ignore_above\": 256,\n",
      "              \"type\": \"keyword\"\n",
      "            }\n",
      "          },\n",
      "          \"type\": \"text\"\n",
      "        },\n",
      "        \"medication\": {\n",
      "          \"fields\": {\n",
      "            \"keyword\": {\n",
      "              \"ignore_above\": 256,\n",
      "              \"type\": \"keyword\"\n",
      "            }\n",
      "          },\n",
      "          \"type\": \"text\"\n",
      "        },\n",
      "        \"muscle disorders [https\": {\n",
      "          \"fields\": {\n",
      "            \"keyword\": {\n",
      "              \"ignore_above\": 256,\n",
      "              \"type\": \"keyword\"\n",
      "            }\n",
      "          },\n",
      "          \"type\": \"text\"\n",
      "        },\n",
      "        \"muscular dystrophy [https\": {\n",
      "          \"fields\": {\n",
      "            \"keyword\": {\n",
      "              \"ignore_above\": 256,\n",
      "              \"type\": \"keyword\"\n",
      "            }\n",
      "          },\n",
      "          \"type\": \"text\"\n",
      "        },\n",
      "        \"name\": {\n",
      "          \"fields\": {\n",
      "            \"keyword\": {\n",
      "              \"ignore_above\": 256,\n",
      "              \"type\": \"keyword\"\n",
      "            }\n",
      "          },\n",
      "          \"type\": \"text\"\n",
      "        },\n",
      "        \"on\": {\n",
      "          \"fields\": {\n",
      "            \"keyword\": {\n",
      "              \"ignore_above\": 256,\n",
      "              \"type\": \"keyword\"\n",
      "            }\n",
      "          },\n",
      "          \"type\": \"text\"\n",
      "        },\n",
      "        \"organization\": {\n",
      "          \"fields\": {\n",
      "            \"keyword\": {\n",
      "              \"ignore_above\": 256,\n",
      "              \"type\": \"keyword\"\n",
      "            }\n",
      "          },\n",
      "          \"type\": \"text\"\n",
      "        },\n",
      "        \"other\": {\n",
      "          \"fields\": {\n",
      "            \"keyword\": {\n",
      "              \"ignore_above\": 256,\n",
      "              \"type\": \"keyword\"\n",
      "            }\n",
      "          },\n",
      "          \"type\": \"text\"\n",
      "        },\n",
      "        \"patient name\": {\n",
      "          \"fields\": {\n",
      "            \"keyword\": {\n",
      "              \"ignore_above\": 256,\n",
      "              \"type\": \"keyword\"\n",
      "            }\n",
      "          },\n",
      "          \"type\": \"text\"\n",
      "        },\n",
      "        \"person\": {\n",
      "          \"fields\": {\n",
      "            \"keyword\": {\n",
      "              \"ignore_above\": 256,\n",
      "              \"type\": \"keyword\"\n",
      "            }\n",
      "          },\n",
      "          \"type\": \"text\"\n",
      "        },\n",
      "        \"phone\": {\n",
      "          \"fields\": {\n",
      "            \"keyword\": {\n",
      "              \"ignore_above\": 256,\n",
      "              \"type\": \"keyword\"\n",
      "            }\n",
      "          },\n",
      "          \"type\": \"text\"\n",
      "        },\n",
      "        \"printed name of patient or personal representative and his or her relationship to patient\": {\n",
      "          \"fields\": {\n",
      "            \"keyword\": {\n",
      "              \"ignore_above\": 256,\n",
      "              \"type\": \"keyword\"\n",
      "            }\n",
      "          },\n",
      "          \"type\": \"text\"\n",
      "        },\n",
      "        \"protected_health_information\": {\n",
      "          \"fields\": {\n",
      "            \"keyword\": {\n",
      "              \"ignore_above\": 256,\n",
      "              \"type\": \"keyword\"\n",
      "            }\n",
      "          },\n",
      "          \"type\": \"text\"\n",
      "        },\n",
      "        \"quantity\": {\n",
      "          \"fields\": {\n",
      "            \"keyword\": {\n",
      "              \"ignore_above\": 256,\n",
      "              \"type\": \"keyword\"\n",
      "            }\n",
      "          },\n",
      "          \"type\": \"text\"\n",
      "        },\n",
      "        \"signature of patient or personal representative\": {\n",
      "          \"fields\": {\n",
      "            \"keyword\": {\n",
      "              \"ignore_above\": 256,\n",
      "              \"type\": \"keyword\"\n",
      "            }\n",
      "          },\n",
      "          \"type\": \"text\"\n",
      "        },\n",
      "        \"subject\": {\n",
      "          \"fields\": {\n",
      "            \"keyword\": {\n",
      "              \"ignore_above\": 256,\n",
      "              \"type\": \"keyword\"\n",
      "            }\n",
      "          },\n",
      "          \"type\": \"text\"\n",
      "        },\n",
      "        \"target date\": {\n",
      "          \"fields\": {\n",
      "            \"keyword\": {\n",
      "              \"ignore_above\": 256,\n",
      "              \"type\": \"keyword\"\n",
      "            }\n",
      "          },\n",
      "          \"type\": \"text\"\n",
      "        },\n",
      "        \"test_treatment_procedure\": {\n",
      "          \"fields\": {\n",
      "            \"keyword\": {\n",
      "              \"ignore_above\": 256,\n",
      "              \"type\": \"keyword\"\n",
      "            }\n",
      "          },\n",
      "          \"type\": \"text\"\n",
      "        },\n",
      "        \"time_expression\": {\n",
      "          \"fields\": {\n",
      "            \"keyword\": {\n",
      "              \"ignore_above\": 256,\n",
      "              \"type\": \"keyword\"\n",
      "            }\n",
      "          },\n",
      "          \"type\": \"text\"\n",
      "        },\n",
      "        \"title\": {\n",
      "          \"fields\": {\n",
      "            \"keyword\": {\n",
      "              \"ignore_above\": 256,\n",
      "              \"type\": \"keyword\"\n",
      "            }\n",
      "          },\n",
      "          \"type\": \"text\"\n",
      "        },\n",
      "        \"to\": {\n",
      "          \"fields\": {\n",
      "            \"keyword\": {\n",
      "              \"ignore_above\": 256,\n",
      "              \"type\": \"keyword\"\n",
      "            }\n",
      "          },\n",
      "          \"type\": \"text\"\n",
      "        },\n",
      "        \"treatment notes\": {\n",
      "          \"fields\": {\n",
      "            \"keyword\": {\n",
      "              \"ignore_above\": 256,\n",
      "              \"type\": \"keyword\"\n",
      "            }\n",
      "          },\n",
      "          \"type\": \"text\"\n",
      "        }\n",
      "      }\n",
      "    },\n",
      "    \"settings\": {\n",
      "      \"index\": {\n",
      "        \"analysis\": {\n",
      "          \"analyzer\": {\n",
      "            \"custom_analyzer\": {\n",
      "              \"filter\": [\n",
      "                \"asciifolding\",\n",
      "                \"lowercase\",\n",
      "                \"english_stopwords\",\n",
      "                \"custom_stopword_filter\",\n",
      "                \"custom_shingle_filter\",\n",
      "                \"trim\",\n",
      "                \"remove_extra_spaces\",\n",
      "                \"unique\"\n",
      "              ],\n",
      "              \"tokenizer\": \"classic\",\n",
      "              \"type\": \"custom\"\n",
      "            }\n",
      "          },\n",
      "          \"filter\": {\n",
      "            \"custom_shingle_filter\": {\n",
      "              \"filler_token\": \"\",\n",
      "              \"max_shingle_size\": \"3\",\n",
      "              \"min_shingle_size\": \"2\",\n",
      "              \"output_unigrams\": \"true\",\n",
      "              \"output_unigrams_if_no_shingles\": \"true\",\n",
      "              \"type\": \"shingle\"\n",
      "            },\n",
      "            \"custom_stopword_filter\": {\n",
      "              \"stopwords_path\": \"analyzers/F220113380\",\n",
      "              \"type\": \"stop\",\n",
      "              \"updateable\": \"true\"\n",
      "            },\n",
      "            \"english_stopwords\": {\n",
      "              \"stopwords\": \"_english_\",\n",
      "              \"type\": \"stop\"\n",
      "            },\n",
      "            \"remove_extra_spaces\": {\n",
      "              \"pattern\": \"\\\\s+\",\n",
      "              \"replacement\": \" \",\n",
      "              \"type\": \"pattern_replace\"\n",
      "            }\n",
      "          }\n",
      "        },\n",
      "        \"creation_date\": \"1631581097237\",\n",
      "        \"max_result_window\": \"10000\",\n",
      "        \"number_of_replicas\": \"1\",\n",
      "        \"number_of_shards\": \"2\",\n",
      "        \"provided_name\": \"textract\",\n",
      "        \"uuid\": \"ZvrS7B31RKKCJxduJOTJqw\",\n",
      "        \"version\": {\n",
      "          \"created\": \"7040299\"\n",
      "        }\n",
      "      }\n",
      "    }\n",
      "  }\n",
      "}\n"
     ]
    }
   ],
   "source": [
    "import json\n",
    "\n",
    "ind_client = IndicesClient(es)\n",
    "if ind_client.exists(index=\"textract\"):\n",
    "    print(\"The index textract exists...\\n\")\n",
    "    index = ind_client.get(index=\"textract\")\n",
    "    print(json.dumps(index,sort_keys=True, indent=2))\n",
    "else:\n",
    "    print(\"The index textract does not exist...\")"
   ]
  },
  {
   "cell_type": "markdown",
   "id": "f93692b7",
   "metadata": {},
   "source": [
    "### Store Current Textract as New Index\n",
    "The following cell will store the current textract index as `originaltextractindex` for safe keeping (if it doesn't already exist). We will use this copy to reindex the updated textract index."
   ]
  },
  {
   "cell_type": "code",
   "execution_count": 27,
   "id": "de4be9c9",
   "metadata": {},
   "outputs": [
    {
     "ename": "AuthorizationException",
     "evalue": "AuthorizationException(403, '')",
     "output_type": "error",
     "traceback": [
      "\u001b[0;31m---------------------------------------------------------------------------\u001b[0m",
      "\u001b[0;31mAuthorizationException\u001b[0m                    Traceback (most recent call last)",
      "\u001b[0;32m<ipython-input-27-b26e44a5f0c9>\u001b[0m in \u001b[0;36m<module>\u001b[0;34m\u001b[0m\n\u001b[1;32m      1\u001b[0m \u001b[0;32mfrom\u001b[0m \u001b[0melasticsearch\u001b[0m\u001b[0;34m.\u001b[0m\u001b[0mhelpers\u001b[0m \u001b[0;32mimport\u001b[0m \u001b[0mreindex\u001b[0m\u001b[0;34m\u001b[0m\u001b[0;34m\u001b[0m\u001b[0m\n\u001b[1;32m      2\u001b[0m \u001b[0;34m\u001b[0m\u001b[0m\n\u001b[0;32m----> 3\u001b[0;31m \u001b[0;32mif\u001b[0m \u001b[0;32mnot\u001b[0m \u001b[0mind_client\u001b[0m\u001b[0;34m.\u001b[0m\u001b[0mexists\u001b[0m\u001b[0;34m(\u001b[0m\u001b[0mindex\u001b[0m\u001b[0;34m=\u001b[0m\u001b[0;34m\"originaltextractindex\"\u001b[0m\u001b[0;34m)\u001b[0m\u001b[0;34m:\u001b[0m\u001b[0;34m\u001b[0m\u001b[0;34m\u001b[0m\u001b[0m\n\u001b[0m\u001b[1;32m      4\u001b[0m \u001b[0;34m\u001b[0m\u001b[0m\n\u001b[1;32m      5\u001b[0m     \u001b[0mprint\u001b[0m\u001b[0;34m(\u001b[0m\u001b[0;34m\"Index 'originaltextractindex' does not exist, creating...\"\u001b[0m\u001b[0;34m)\u001b[0m\u001b[0;34m\u001b[0m\u001b[0;34m\u001b[0m\u001b[0m\n",
      "\u001b[0;32m~/anaconda3/envs/python3/lib/python3.6/site-packages/elasticsearch/client/utils.py\u001b[0m in \u001b[0;36m_wrapped\u001b[0;34m(*args, **kwargs)\u001b[0m\n\u001b[1;32m    166\u001b[0m                 \u001b[0;32mif\u001b[0m \u001b[0mp\u001b[0m \u001b[0;32min\u001b[0m \u001b[0mkwargs\u001b[0m\u001b[0;34m:\u001b[0m\u001b[0;34m\u001b[0m\u001b[0;34m\u001b[0m\u001b[0m\n\u001b[1;32m    167\u001b[0m                     \u001b[0mparams\u001b[0m\u001b[0;34m[\u001b[0m\u001b[0mp\u001b[0m\u001b[0;34m]\u001b[0m \u001b[0;34m=\u001b[0m \u001b[0mkwargs\u001b[0m\u001b[0;34m.\u001b[0m\u001b[0mpop\u001b[0m\u001b[0;34m(\u001b[0m\u001b[0mp\u001b[0m\u001b[0;34m)\u001b[0m\u001b[0;34m\u001b[0m\u001b[0;34m\u001b[0m\u001b[0m\n\u001b[0;32m--> 168\u001b[0;31m             \u001b[0;32mreturn\u001b[0m \u001b[0mfunc\u001b[0m\u001b[0;34m(\u001b[0m\u001b[0;34m*\u001b[0m\u001b[0margs\u001b[0m\u001b[0;34m,\u001b[0m \u001b[0mparams\u001b[0m\u001b[0;34m=\u001b[0m\u001b[0mparams\u001b[0m\u001b[0;34m,\u001b[0m \u001b[0mheaders\u001b[0m\u001b[0;34m=\u001b[0m\u001b[0mheaders\u001b[0m\u001b[0;34m,\u001b[0m \u001b[0;34m**\u001b[0m\u001b[0mkwargs\u001b[0m\u001b[0;34m)\u001b[0m\u001b[0;34m\u001b[0m\u001b[0;34m\u001b[0m\u001b[0m\n\u001b[0m\u001b[1;32m    169\u001b[0m \u001b[0;34m\u001b[0m\u001b[0m\n\u001b[1;32m    170\u001b[0m         \u001b[0;32mreturn\u001b[0m \u001b[0m_wrapped\u001b[0m\u001b[0;34m\u001b[0m\u001b[0;34m\u001b[0m\u001b[0m\n",
      "\u001b[0;32m~/anaconda3/envs/python3/lib/python3.6/site-packages/elasticsearch/client/indices.py\u001b[0m in \u001b[0;36mexists\u001b[0;34m(self, index, params, headers)\u001b[0m\n\u001b[1;32m    331\u001b[0m \u001b[0;34m\u001b[0m\u001b[0m\n\u001b[1;32m    332\u001b[0m         return self.transport.perform_request(\n\u001b[0;32m--> 333\u001b[0;31m             \u001b[0;34m\"HEAD\"\u001b[0m\u001b[0;34m,\u001b[0m \u001b[0m_make_path\u001b[0m\u001b[0;34m(\u001b[0m\u001b[0mindex\u001b[0m\u001b[0;34m)\u001b[0m\u001b[0;34m,\u001b[0m \u001b[0mparams\u001b[0m\u001b[0;34m=\u001b[0m\u001b[0mparams\u001b[0m\u001b[0;34m,\u001b[0m \u001b[0mheaders\u001b[0m\u001b[0;34m=\u001b[0m\u001b[0mheaders\u001b[0m\u001b[0;34m\u001b[0m\u001b[0;34m\u001b[0m\u001b[0m\n\u001b[0m\u001b[1;32m    334\u001b[0m         )\n\u001b[1;32m    335\u001b[0m \u001b[0;34m\u001b[0m\u001b[0m\n",
      "\u001b[0;32m~/anaconda3/envs/python3/lib/python3.6/site-packages/elasticsearch/transport.py\u001b[0m in \u001b[0;36mperform_request\u001b[0;34m(self, method, url, headers, params, body)\u001b[0m\n\u001b[1;32m    413\u001b[0m                         \u001b[0;32mraise\u001b[0m \u001b[0me\u001b[0m\u001b[0;34m\u001b[0m\u001b[0;34m\u001b[0m\u001b[0m\n\u001b[1;32m    414\u001b[0m                 \u001b[0;32melse\u001b[0m\u001b[0;34m:\u001b[0m\u001b[0;34m\u001b[0m\u001b[0;34m\u001b[0m\u001b[0m\n\u001b[0;32m--> 415\u001b[0;31m                     \u001b[0;32mraise\u001b[0m \u001b[0me\u001b[0m\u001b[0;34m\u001b[0m\u001b[0;34m\u001b[0m\u001b[0m\n\u001b[0m\u001b[1;32m    416\u001b[0m \u001b[0;34m\u001b[0m\u001b[0m\n\u001b[1;32m    417\u001b[0m             \u001b[0;32melse\u001b[0m\u001b[0;34m:\u001b[0m\u001b[0;34m\u001b[0m\u001b[0;34m\u001b[0m\u001b[0m\n",
      "\u001b[0;32m~/anaconda3/envs/python3/lib/python3.6/site-packages/elasticsearch/transport.py\u001b[0m in \u001b[0;36mperform_request\u001b[0;34m(self, method, url, headers, params, body)\u001b[0m\n\u001b[1;32m    386\u001b[0m                     \u001b[0mheaders\u001b[0m\u001b[0;34m=\u001b[0m\u001b[0mheaders\u001b[0m\u001b[0;34m,\u001b[0m\u001b[0;34m\u001b[0m\u001b[0;34m\u001b[0m\u001b[0m\n\u001b[1;32m    387\u001b[0m                     \u001b[0mignore\u001b[0m\u001b[0;34m=\u001b[0m\u001b[0mignore\u001b[0m\u001b[0;34m,\u001b[0m\u001b[0;34m\u001b[0m\u001b[0;34m\u001b[0m\u001b[0m\n\u001b[0;32m--> 388\u001b[0;31m                     \u001b[0mtimeout\u001b[0m\u001b[0;34m=\u001b[0m\u001b[0mtimeout\u001b[0m\u001b[0;34m,\u001b[0m\u001b[0;34m\u001b[0m\u001b[0;34m\u001b[0m\u001b[0m\n\u001b[0m\u001b[1;32m    389\u001b[0m                 )\n\u001b[1;32m    390\u001b[0m \u001b[0;34m\u001b[0m\u001b[0m\n",
      "\u001b[0;32m~/anaconda3/envs/python3/lib/python3.6/site-packages/elasticsearch/connection/http_requests.py\u001b[0m in \u001b[0;36mperform_request\u001b[0;34m(self, method, url, params, body, timeout, ignore, headers)\u001b[0m\n\u001b[1;32m    204\u001b[0m                 \u001b[0mraw_data\u001b[0m\u001b[0;34m,\u001b[0m\u001b[0;34m\u001b[0m\u001b[0;34m\u001b[0m\u001b[0m\n\u001b[1;32m    205\u001b[0m             )\n\u001b[0;32m--> 206\u001b[0;31m             \u001b[0mself\u001b[0m\u001b[0;34m.\u001b[0m\u001b[0m_raise_error\u001b[0m\u001b[0;34m(\u001b[0m\u001b[0mresponse\u001b[0m\u001b[0;34m.\u001b[0m\u001b[0mstatus_code\u001b[0m\u001b[0;34m,\u001b[0m \u001b[0mraw_data\u001b[0m\u001b[0;34m)\u001b[0m\u001b[0;34m\u001b[0m\u001b[0;34m\u001b[0m\u001b[0m\n\u001b[0m\u001b[1;32m    207\u001b[0m \u001b[0;34m\u001b[0m\u001b[0m\n\u001b[1;32m    208\u001b[0m         self.log_request_success(\n",
      "\u001b[0;32m~/anaconda3/envs/python3/lib/python3.6/site-packages/elasticsearch/connection/base.py\u001b[0m in \u001b[0;36m_raise_error\u001b[0;34m(self, status_code, raw_data)\u001b[0m\n\u001b[1;32m    329\u001b[0m \u001b[0;34m\u001b[0m\u001b[0m\n\u001b[1;32m    330\u001b[0m         raise HTTP_EXCEPTIONS.get(status_code, TransportError)(\n\u001b[0;32m--> 331\u001b[0;31m             \u001b[0mstatus_code\u001b[0m\u001b[0;34m,\u001b[0m \u001b[0merror_message\u001b[0m\u001b[0;34m,\u001b[0m \u001b[0madditional_info\u001b[0m\u001b[0;34m\u001b[0m\u001b[0;34m\u001b[0m\u001b[0m\n\u001b[0m\u001b[1;32m    332\u001b[0m         )\n\u001b[1;32m    333\u001b[0m \u001b[0;34m\u001b[0m\u001b[0m\n",
      "\u001b[0;31mAuthorizationException\u001b[0m: AuthorizationException(403, '')"
     ]
    }
   ],
   "source": [
    "from elasticsearch.helpers import reindex\n",
    "\n",
    "if not ind_client.exists(index=\"originaltextractindex\"):\n",
    "    \n",
    "    print(\"Index 'originaltextractindex' does not exist, creating...\")\n",
    "    ind_client.create(\n",
    "        index=\"originaltextractindex\",\n",
    "        body={\n",
    "            \"settings\": {\n",
    "                \"index\": {\n",
    "                    \"number_of_shards\": 2\n",
    "                }\n",
    "            },\n",
    "            \"mappings\":{\n",
    "                \"properties\":{\n",
    "                \"date\":{\n",
    "                    \"type\": \"date\",\n",
    "                    \"format\": \"M'/'dd'/'yyyy||date||year||year_month||dd MMM yyyy||dd'/'MM'/'yyyy||yyyy'/'MM'/'dd||dd'/'MM'/'YY||year_month_day||MM'/'dd'/'yy||dd MMM||MM'/'yyyy||M-dd-yyyy||MM'/'dd'/'yyyy||M||d'/'MM'/'yyyy||MM'/'dd'/'yy\"\n",
    "                    }\n",
    "                }\n",
    "            }\n",
    "        }\n",
    "    )\n",
    "        \n",
    "    reindex(\n",
    "        client = es, # original ES client specified in the beginning\n",
    "        source_index = \"textract\", # original index with documents we want to copy\n",
    "        target_index = \"originaltextractindex\" # new index where documents will be copied to\n",
    "    ) "
   ]
  },
  {
   "cell_type": "markdown",
   "id": "09d58d61",
   "metadata": {},
   "source": [
    "# Build and Demonstrate Filters for Custom Analyzer\n",
    "The following cells will demonstrate each filter that will be added to a custom text analyzer. The analyzer is applied to the index and will be manually specified for search queries.\n",
    "\n",
    "For our index, we will use the classic tokenizer and the asciifolding, lowercase, stopwords, and shingle filters. Below, the impact of each filter is demonstrated on the same query string. The result of each filter will be a list of tokens."
   ]
  },
  {
   "cell_type": "code",
   "execution_count": 28,
   "id": "813f9a5b",
   "metadata": {},
   "outputs": [],
   "source": [
    "query_string = \"Quick Brown Foxes is. today the tESt!! but i Will not be blAh!?\""
   ]
  },
  {
   "cell_type": "markdown",
   "id": "acdad9e5",
   "metadata": {},
   "source": [
    "### Lowercase Filter"
   ]
  },
  {
   "cell_type": "code",
   "execution_count": 29,
   "id": "38fbf09e",
   "metadata": {},
   "outputs": [
    {
     "ename": "AuthorizationException",
     "evalue": "AuthorizationException(403, '{\"message\":\"The security token included in the request is expired\"}')",
     "output_type": "error",
     "traceback": [
      "\u001b[0;31m---------------------------------------------------------------------------\u001b[0m",
      "\u001b[0;31mAuthorizationException\u001b[0m                    Traceback (most recent call last)",
      "\u001b[0;32m<ipython-input-29-aefe93e7c62c>\u001b[0m in \u001b[0;36m<module>\u001b[0;34m\u001b[0m\n\u001b[1;32m     14\u001b[0m token_dict = ind_client.analyze(\n\u001b[1;32m     15\u001b[0m     \u001b[0mbody\u001b[0m\u001b[0;34m=\u001b[0m\u001b[0mbody\u001b[0m\u001b[0;34m,\u001b[0m \u001b[0;31m# request body\u001b[0m\u001b[0;34m\u001b[0m\u001b[0;34m\u001b[0m\u001b[0m\n\u001b[0;32m---> 16\u001b[0;31m     \u001b[0mindex\u001b[0m\u001b[0;34m=\u001b[0m\u001b[0;34m\"originaltextractindex\"\u001b[0m \u001b[0;31m# index name\u001b[0m\u001b[0;34m\u001b[0m\u001b[0;34m\u001b[0m\u001b[0m\n\u001b[0m\u001b[1;32m     17\u001b[0m )\n\u001b[1;32m     18\u001b[0m \u001b[0;34m\u001b[0m\u001b[0m\n",
      "\u001b[0;32m~/anaconda3/envs/python3/lib/python3.6/site-packages/elasticsearch/client/utils.py\u001b[0m in \u001b[0;36m_wrapped\u001b[0;34m(*args, **kwargs)\u001b[0m\n\u001b[1;32m    166\u001b[0m                 \u001b[0;32mif\u001b[0m \u001b[0mp\u001b[0m \u001b[0;32min\u001b[0m \u001b[0mkwargs\u001b[0m\u001b[0;34m:\u001b[0m\u001b[0;34m\u001b[0m\u001b[0;34m\u001b[0m\u001b[0m\n\u001b[1;32m    167\u001b[0m                     \u001b[0mparams\u001b[0m\u001b[0;34m[\u001b[0m\u001b[0mp\u001b[0m\u001b[0;34m]\u001b[0m \u001b[0;34m=\u001b[0m \u001b[0mkwargs\u001b[0m\u001b[0;34m.\u001b[0m\u001b[0mpop\u001b[0m\u001b[0;34m(\u001b[0m\u001b[0mp\u001b[0m\u001b[0;34m)\u001b[0m\u001b[0;34m\u001b[0m\u001b[0;34m\u001b[0m\u001b[0m\n\u001b[0;32m--> 168\u001b[0;31m             \u001b[0;32mreturn\u001b[0m \u001b[0mfunc\u001b[0m\u001b[0;34m(\u001b[0m\u001b[0;34m*\u001b[0m\u001b[0margs\u001b[0m\u001b[0;34m,\u001b[0m \u001b[0mparams\u001b[0m\u001b[0;34m=\u001b[0m\u001b[0mparams\u001b[0m\u001b[0;34m,\u001b[0m \u001b[0mheaders\u001b[0m\u001b[0;34m=\u001b[0m\u001b[0mheaders\u001b[0m\u001b[0;34m,\u001b[0m \u001b[0;34m**\u001b[0m\u001b[0mkwargs\u001b[0m\u001b[0;34m)\u001b[0m\u001b[0;34m\u001b[0m\u001b[0;34m\u001b[0m\u001b[0m\n\u001b[0m\u001b[1;32m    169\u001b[0m \u001b[0;34m\u001b[0m\u001b[0m\n\u001b[1;32m    170\u001b[0m         \u001b[0;32mreturn\u001b[0m \u001b[0m_wrapped\u001b[0m\u001b[0;34m\u001b[0m\u001b[0;34m\u001b[0m\u001b[0m\n",
      "\u001b[0;32m~/anaconda3/envs/python3/lib/python3.6/site-packages/elasticsearch/client/indices.py\u001b[0m in \u001b[0;36manalyze\u001b[0;34m(self, body, index, params, headers)\u001b[0m\n\u001b[1;32m     37\u001b[0m             \u001b[0mparams\u001b[0m\u001b[0;34m=\u001b[0m\u001b[0mparams\u001b[0m\u001b[0;34m,\u001b[0m\u001b[0;34m\u001b[0m\u001b[0;34m\u001b[0m\u001b[0m\n\u001b[1;32m     38\u001b[0m             \u001b[0mheaders\u001b[0m\u001b[0;34m=\u001b[0m\u001b[0mheaders\u001b[0m\u001b[0;34m,\u001b[0m\u001b[0;34m\u001b[0m\u001b[0;34m\u001b[0m\u001b[0m\n\u001b[0;32m---> 39\u001b[0;31m             \u001b[0mbody\u001b[0m\u001b[0;34m=\u001b[0m\u001b[0mbody\u001b[0m\u001b[0;34m,\u001b[0m\u001b[0;34m\u001b[0m\u001b[0;34m\u001b[0m\u001b[0m\n\u001b[0m\u001b[1;32m     40\u001b[0m         )\n\u001b[1;32m     41\u001b[0m \u001b[0;34m\u001b[0m\u001b[0m\n",
      "\u001b[0;32m~/anaconda3/envs/python3/lib/python3.6/site-packages/elasticsearch/transport.py\u001b[0m in \u001b[0;36mperform_request\u001b[0;34m(self, method, url, headers, params, body)\u001b[0m\n\u001b[1;32m    413\u001b[0m                         \u001b[0;32mraise\u001b[0m \u001b[0me\u001b[0m\u001b[0;34m\u001b[0m\u001b[0;34m\u001b[0m\u001b[0m\n\u001b[1;32m    414\u001b[0m                 \u001b[0;32melse\u001b[0m\u001b[0;34m:\u001b[0m\u001b[0;34m\u001b[0m\u001b[0;34m\u001b[0m\u001b[0m\n\u001b[0;32m--> 415\u001b[0;31m                     \u001b[0;32mraise\u001b[0m \u001b[0me\u001b[0m\u001b[0;34m\u001b[0m\u001b[0;34m\u001b[0m\u001b[0m\n\u001b[0m\u001b[1;32m    416\u001b[0m \u001b[0;34m\u001b[0m\u001b[0m\n\u001b[1;32m    417\u001b[0m             \u001b[0;32melse\u001b[0m\u001b[0;34m:\u001b[0m\u001b[0;34m\u001b[0m\u001b[0;34m\u001b[0m\u001b[0m\n",
      "\u001b[0;32m~/anaconda3/envs/python3/lib/python3.6/site-packages/elasticsearch/transport.py\u001b[0m in \u001b[0;36mperform_request\u001b[0;34m(self, method, url, headers, params, body)\u001b[0m\n\u001b[1;32m    386\u001b[0m                     \u001b[0mheaders\u001b[0m\u001b[0;34m=\u001b[0m\u001b[0mheaders\u001b[0m\u001b[0;34m,\u001b[0m\u001b[0;34m\u001b[0m\u001b[0;34m\u001b[0m\u001b[0m\n\u001b[1;32m    387\u001b[0m                     \u001b[0mignore\u001b[0m\u001b[0;34m=\u001b[0m\u001b[0mignore\u001b[0m\u001b[0;34m,\u001b[0m\u001b[0;34m\u001b[0m\u001b[0;34m\u001b[0m\u001b[0m\n\u001b[0;32m--> 388\u001b[0;31m                     \u001b[0mtimeout\u001b[0m\u001b[0;34m=\u001b[0m\u001b[0mtimeout\u001b[0m\u001b[0;34m,\u001b[0m\u001b[0;34m\u001b[0m\u001b[0;34m\u001b[0m\u001b[0m\n\u001b[0m\u001b[1;32m    389\u001b[0m                 )\n\u001b[1;32m    390\u001b[0m \u001b[0;34m\u001b[0m\u001b[0m\n",
      "\u001b[0;32m~/anaconda3/envs/python3/lib/python3.6/site-packages/elasticsearch/connection/http_requests.py\u001b[0m in \u001b[0;36mperform_request\u001b[0;34m(self, method, url, params, body, timeout, ignore, headers)\u001b[0m\n\u001b[1;32m    204\u001b[0m                 \u001b[0mraw_data\u001b[0m\u001b[0;34m,\u001b[0m\u001b[0;34m\u001b[0m\u001b[0;34m\u001b[0m\u001b[0m\n\u001b[1;32m    205\u001b[0m             )\n\u001b[0;32m--> 206\u001b[0;31m             \u001b[0mself\u001b[0m\u001b[0;34m.\u001b[0m\u001b[0m_raise_error\u001b[0m\u001b[0;34m(\u001b[0m\u001b[0mresponse\u001b[0m\u001b[0;34m.\u001b[0m\u001b[0mstatus_code\u001b[0m\u001b[0;34m,\u001b[0m \u001b[0mraw_data\u001b[0m\u001b[0;34m)\u001b[0m\u001b[0;34m\u001b[0m\u001b[0;34m\u001b[0m\u001b[0m\n\u001b[0m\u001b[1;32m    207\u001b[0m \u001b[0;34m\u001b[0m\u001b[0m\n\u001b[1;32m    208\u001b[0m         self.log_request_success(\n",
      "\u001b[0;32m~/anaconda3/envs/python3/lib/python3.6/site-packages/elasticsearch/connection/base.py\u001b[0m in \u001b[0;36m_raise_error\u001b[0;34m(self, status_code, raw_data)\u001b[0m\n\u001b[1;32m    329\u001b[0m \u001b[0;34m\u001b[0m\u001b[0m\n\u001b[1;32m    330\u001b[0m         raise HTTP_EXCEPTIONS.get(status_code, TransportError)(\n\u001b[0;32m--> 331\u001b[0;31m             \u001b[0mstatus_code\u001b[0m\u001b[0;34m,\u001b[0m \u001b[0merror_message\u001b[0m\u001b[0;34m,\u001b[0m \u001b[0madditional_info\u001b[0m\u001b[0;34m\u001b[0m\u001b[0;34m\u001b[0m\u001b[0m\n\u001b[0m\u001b[1;32m    332\u001b[0m         )\n\u001b[1;32m    333\u001b[0m \u001b[0;34m\u001b[0m\u001b[0m\n",
      "\u001b[0;31mAuthorizationException\u001b[0m: AuthorizationException(403, '{\"message\":\"The security token included in the request is expired\"}')"
     ]
    }
   ],
   "source": [
    "body = {\n",
    "    \"tokenizer\":\"classic\", # removes punctuation and splits string on whitespace\n",
    "    \"filter\":[\n",
    "        \"asciifolding\", # converts characters to ASCII\n",
    "        \"lowercase\", # transforms characters to lowercase\n",
    "    ],\n",
    "    \"text\" : query_string\n",
    "}\n",
    "\n",
    "# store index client class as a variable\n",
    "ind_client = IndicesClient(es)\n",
    "\n",
    "# use the analyze module of the index class to ping the ES/analyze API\n",
    "token_dict = ind_client.analyze(\n",
    "    body=body, # request body\n",
    "    index=\"originaltextractindex\" # index name\n",
    ")\n",
    "\n",
    "# extract tokens from result dictionary\n",
    "tokens = []\n",
    "for token in token_dict[\"tokens\"]:\n",
    "    tokens.append(token[\"token\"])\n",
    "tokens"
   ]
  },
  {
   "cell_type": "markdown",
   "id": "ca8a5335",
   "metadata": {},
   "source": [
    "### Custom and Existing Stopword Filter\n",
    "In this example, a custom and existing stopword filter are applied to the text. With a custom stopword filter, words that are specific to the use case can be added to a custom dictionary for removal from index and query text.\n",
    "\n",
    "Before moving onto the next step, import a stopwords dictionary into AWS ES. First, add a TXT-file that contains your list of stopwords to an S3 bucket. Each stopword has to be on a separate line within the TXT-file. Next, navigate to the ES console and select \"Packages\" within the left-hand panel. Select \"Import\" and point to the location of your stopwords file in the S3 bucket. Below is a screenshot of the import package dashboard.\n",
    "\n",
    "<img src=\"assets/stopwords_package.png\" /><br><br>\n",
    "\n",
    "\n",
    "Once your package is loaded into ES, AWS ES will generate an ID for your package. Take note of this ID since it will be used to reference your list of stopwords in future API calls.\n",
    "\n",
    "<img src=\"assets/stopwords_package_dashboard.png\" />"
   ]
  },
  {
   "cell_type": "code",
   "execution_count": 30,
   "id": "7b26954f",
   "metadata": {},
   "outputs": [
    {
     "ename": "AuthorizationException",
     "evalue": "AuthorizationException(403, '{\"message\":\"The security token included in the request is expired\"}')",
     "output_type": "error",
     "traceback": [
      "\u001b[0;31m---------------------------------------------------------------------------\u001b[0m",
      "\u001b[0;31mAuthorizationException\u001b[0m                    Traceback (most recent call last)",
      "\u001b[0;32m<ipython-input-30-24168bf38660>\u001b[0m in \u001b[0;36m<module>\u001b[0;34m\u001b[0m\n\u001b[1;32m     18\u001b[0m token_dict = ind_client.analyze(\n\u001b[1;32m     19\u001b[0m     \u001b[0mbody\u001b[0m\u001b[0;34m=\u001b[0m\u001b[0mbody\u001b[0m\u001b[0;34m,\u001b[0m \u001b[0;31m# request body\u001b[0m\u001b[0;34m\u001b[0m\u001b[0;34m\u001b[0m\u001b[0m\n\u001b[0;32m---> 20\u001b[0;31m     \u001b[0mindex\u001b[0m\u001b[0;34m=\u001b[0m\u001b[0;34m\"originaltextractindex\"\u001b[0m \u001b[0;31m# index name\u001b[0m\u001b[0;34m\u001b[0m\u001b[0;34m\u001b[0m\u001b[0m\n\u001b[0m\u001b[1;32m     21\u001b[0m )\n\u001b[1;32m     22\u001b[0m \u001b[0;34m\u001b[0m\u001b[0m\n",
      "\u001b[0;32m~/anaconda3/envs/python3/lib/python3.6/site-packages/elasticsearch/client/utils.py\u001b[0m in \u001b[0;36m_wrapped\u001b[0;34m(*args, **kwargs)\u001b[0m\n\u001b[1;32m    166\u001b[0m                 \u001b[0;32mif\u001b[0m \u001b[0mp\u001b[0m \u001b[0;32min\u001b[0m \u001b[0mkwargs\u001b[0m\u001b[0;34m:\u001b[0m\u001b[0;34m\u001b[0m\u001b[0;34m\u001b[0m\u001b[0m\n\u001b[1;32m    167\u001b[0m                     \u001b[0mparams\u001b[0m\u001b[0;34m[\u001b[0m\u001b[0mp\u001b[0m\u001b[0;34m]\u001b[0m \u001b[0;34m=\u001b[0m \u001b[0mkwargs\u001b[0m\u001b[0;34m.\u001b[0m\u001b[0mpop\u001b[0m\u001b[0;34m(\u001b[0m\u001b[0mp\u001b[0m\u001b[0;34m)\u001b[0m\u001b[0;34m\u001b[0m\u001b[0;34m\u001b[0m\u001b[0m\n\u001b[0;32m--> 168\u001b[0;31m             \u001b[0;32mreturn\u001b[0m \u001b[0mfunc\u001b[0m\u001b[0;34m(\u001b[0m\u001b[0;34m*\u001b[0m\u001b[0margs\u001b[0m\u001b[0;34m,\u001b[0m \u001b[0mparams\u001b[0m\u001b[0;34m=\u001b[0m\u001b[0mparams\u001b[0m\u001b[0;34m,\u001b[0m \u001b[0mheaders\u001b[0m\u001b[0;34m=\u001b[0m\u001b[0mheaders\u001b[0m\u001b[0;34m,\u001b[0m \u001b[0;34m**\u001b[0m\u001b[0mkwargs\u001b[0m\u001b[0;34m)\u001b[0m\u001b[0;34m\u001b[0m\u001b[0;34m\u001b[0m\u001b[0m\n\u001b[0m\u001b[1;32m    169\u001b[0m \u001b[0;34m\u001b[0m\u001b[0m\n\u001b[1;32m    170\u001b[0m         \u001b[0;32mreturn\u001b[0m \u001b[0m_wrapped\u001b[0m\u001b[0;34m\u001b[0m\u001b[0;34m\u001b[0m\u001b[0m\n",
      "\u001b[0;32m~/anaconda3/envs/python3/lib/python3.6/site-packages/elasticsearch/client/indices.py\u001b[0m in \u001b[0;36manalyze\u001b[0;34m(self, body, index, params, headers)\u001b[0m\n\u001b[1;32m     37\u001b[0m             \u001b[0mparams\u001b[0m\u001b[0;34m=\u001b[0m\u001b[0mparams\u001b[0m\u001b[0;34m,\u001b[0m\u001b[0;34m\u001b[0m\u001b[0;34m\u001b[0m\u001b[0m\n\u001b[1;32m     38\u001b[0m             \u001b[0mheaders\u001b[0m\u001b[0;34m=\u001b[0m\u001b[0mheaders\u001b[0m\u001b[0;34m,\u001b[0m\u001b[0;34m\u001b[0m\u001b[0;34m\u001b[0m\u001b[0m\n\u001b[0;32m---> 39\u001b[0;31m             \u001b[0mbody\u001b[0m\u001b[0;34m=\u001b[0m\u001b[0mbody\u001b[0m\u001b[0;34m,\u001b[0m\u001b[0;34m\u001b[0m\u001b[0;34m\u001b[0m\u001b[0m\n\u001b[0m\u001b[1;32m     40\u001b[0m         )\n\u001b[1;32m     41\u001b[0m \u001b[0;34m\u001b[0m\u001b[0m\n",
      "\u001b[0;32m~/anaconda3/envs/python3/lib/python3.6/site-packages/elasticsearch/transport.py\u001b[0m in \u001b[0;36mperform_request\u001b[0;34m(self, method, url, headers, params, body)\u001b[0m\n\u001b[1;32m    413\u001b[0m                         \u001b[0;32mraise\u001b[0m \u001b[0me\u001b[0m\u001b[0;34m\u001b[0m\u001b[0;34m\u001b[0m\u001b[0m\n\u001b[1;32m    414\u001b[0m                 \u001b[0;32melse\u001b[0m\u001b[0;34m:\u001b[0m\u001b[0;34m\u001b[0m\u001b[0;34m\u001b[0m\u001b[0m\n\u001b[0;32m--> 415\u001b[0;31m                     \u001b[0;32mraise\u001b[0m \u001b[0me\u001b[0m\u001b[0;34m\u001b[0m\u001b[0;34m\u001b[0m\u001b[0m\n\u001b[0m\u001b[1;32m    416\u001b[0m \u001b[0;34m\u001b[0m\u001b[0m\n\u001b[1;32m    417\u001b[0m             \u001b[0;32melse\u001b[0m\u001b[0;34m:\u001b[0m\u001b[0;34m\u001b[0m\u001b[0;34m\u001b[0m\u001b[0m\n",
      "\u001b[0;32m~/anaconda3/envs/python3/lib/python3.6/site-packages/elasticsearch/transport.py\u001b[0m in \u001b[0;36mperform_request\u001b[0;34m(self, method, url, headers, params, body)\u001b[0m\n\u001b[1;32m    386\u001b[0m                     \u001b[0mheaders\u001b[0m\u001b[0;34m=\u001b[0m\u001b[0mheaders\u001b[0m\u001b[0;34m,\u001b[0m\u001b[0;34m\u001b[0m\u001b[0;34m\u001b[0m\u001b[0m\n\u001b[1;32m    387\u001b[0m                     \u001b[0mignore\u001b[0m\u001b[0;34m=\u001b[0m\u001b[0mignore\u001b[0m\u001b[0;34m,\u001b[0m\u001b[0;34m\u001b[0m\u001b[0;34m\u001b[0m\u001b[0m\n\u001b[0;32m--> 388\u001b[0;31m                     \u001b[0mtimeout\u001b[0m\u001b[0;34m=\u001b[0m\u001b[0mtimeout\u001b[0m\u001b[0;34m,\u001b[0m\u001b[0;34m\u001b[0m\u001b[0;34m\u001b[0m\u001b[0m\n\u001b[0m\u001b[1;32m    389\u001b[0m                 )\n\u001b[1;32m    390\u001b[0m \u001b[0;34m\u001b[0m\u001b[0m\n",
      "\u001b[0;32m~/anaconda3/envs/python3/lib/python3.6/site-packages/elasticsearch/connection/http_requests.py\u001b[0m in \u001b[0;36mperform_request\u001b[0;34m(self, method, url, params, body, timeout, ignore, headers)\u001b[0m\n\u001b[1;32m    204\u001b[0m                 \u001b[0mraw_data\u001b[0m\u001b[0;34m,\u001b[0m\u001b[0;34m\u001b[0m\u001b[0;34m\u001b[0m\u001b[0m\n\u001b[1;32m    205\u001b[0m             )\n\u001b[0;32m--> 206\u001b[0;31m             \u001b[0mself\u001b[0m\u001b[0;34m.\u001b[0m\u001b[0m_raise_error\u001b[0m\u001b[0;34m(\u001b[0m\u001b[0mresponse\u001b[0m\u001b[0;34m.\u001b[0m\u001b[0mstatus_code\u001b[0m\u001b[0;34m,\u001b[0m \u001b[0mraw_data\u001b[0m\u001b[0;34m)\u001b[0m\u001b[0;34m\u001b[0m\u001b[0;34m\u001b[0m\u001b[0m\n\u001b[0m\u001b[1;32m    207\u001b[0m \u001b[0;34m\u001b[0m\u001b[0m\n\u001b[1;32m    208\u001b[0m         self.log_request_success(\n",
      "\u001b[0;32m~/anaconda3/envs/python3/lib/python3.6/site-packages/elasticsearch/connection/base.py\u001b[0m in \u001b[0;36m_raise_error\u001b[0;34m(self, status_code, raw_data)\u001b[0m\n\u001b[1;32m    329\u001b[0m \u001b[0;34m\u001b[0m\u001b[0m\n\u001b[1;32m    330\u001b[0m         raise HTTP_EXCEPTIONS.get(status_code, TransportError)(\n\u001b[0;32m--> 331\u001b[0;31m             \u001b[0mstatus_code\u001b[0m\u001b[0;34m,\u001b[0m \u001b[0merror_message\u001b[0m\u001b[0;34m,\u001b[0m \u001b[0madditional_info\u001b[0m\u001b[0;34m\u001b[0m\u001b[0;34m\u001b[0m\u001b[0m\n\u001b[0m\u001b[1;32m    332\u001b[0m         )\n\u001b[1;32m    333\u001b[0m \u001b[0;34m\u001b[0m\u001b[0m\n",
      "\u001b[0;31mAuthorizationException\u001b[0m: AuthorizationException(403, '{\"message\":\"The security token included in the request is expired\"}')"
     ]
    }
   ],
   "source": [
    "body = {\n",
    "    \"tokenizer\":\"classic\",# removes punctuation and splits string on whitespace\n",
    "    \"filter\":[\n",
    "        {# ES offered filter: English stopwords\n",
    "            \"type\":\"stop\", # specify the type of the filter as stop for stopword filter\n",
    "            \"stopwords\":\"_english_\" # stopword filter will use English stopwords\n",
    "        },\n",
    "        {# custom filter: stop words based upon custom dictionary uploaded onto AWS ES\n",
    "            \"type\":\"stop\",\n",
    "            \"stopwords_path\":\"analyzers/F220113380\", # ID of the custom dictionary in AWS ES\n",
    "            \"updateable\":True\n",
    "        },\n",
    "    ],\n",
    "    \"text\" : query_string\n",
    "}\n",
    "\n",
    "# use the analyze module of the index class to ping the ES/analyze API\n",
    "token_dict = ind_client.analyze(\n",
    "    body=body, # request body\n",
    "    index=\"originaltextractindex\" # index name\n",
    ")\n",
    "\n",
    "# extract tokens from result dictionary\n",
    "tokens = []\n",
    "for token in token_dict[\"tokens\"]:\n",
    "    tokens.append(token[\"token\"])\n",
    "tokens"
   ]
  },
  {
   "cell_type": "markdown",
   "id": "8e3110d1",
   "metadata": {},
   "source": [
    "### Shingles Filter\n",
    "Shingles are synonomous with the popular definition of ngrams. In ElasticSearch, ngrams are used for predictive text purposes and create ngrams at the character level instead of the word level. Shingles in ElasticSearch create ngrams at the word level which is what we want."
   ]
  },
  {
   "cell_type": "code",
   "execution_count": 15,
   "id": "e7b1cbd1",
   "metadata": {},
   "outputs": [
    {
     "data": {
      "text/plain": [
       "['Quick',\n",
       " 'Quick Brown',\n",
       " 'Quick Brown Foxes',\n",
       " 'Brown',\n",
       " 'Brown Foxes',\n",
       " 'Brown Foxes is',\n",
       " 'Foxes',\n",
       " 'Foxes is',\n",
       " 'Foxes is today',\n",
       " 'is',\n",
       " 'is today',\n",
       " 'is today the',\n",
       " 'today',\n",
       " 'today the',\n",
       " 'today the tESt',\n",
       " 'the',\n",
       " 'the tESt',\n",
       " 'the tESt but',\n",
       " 'tESt',\n",
       " 'tESt but',\n",
       " 'tESt but i',\n",
       " 'but',\n",
       " 'but i',\n",
       " 'but i Will',\n",
       " 'i',\n",
       " 'i Will',\n",
       " 'i Will not',\n",
       " 'Will',\n",
       " 'Will not',\n",
       " 'Will not be',\n",
       " 'not',\n",
       " 'not be',\n",
       " 'not be blAh',\n",
       " 'be',\n",
       " 'be blAh',\n",
       " 'blAh']"
      ]
     },
     "execution_count": 15,
     "metadata": {},
     "output_type": "execute_result"
    }
   ],
   "source": [
    "body = {\n",
    "    \"tokenizer\":\"classic\",# removes punctuation and splits string on whitespace\n",
    "    \"filter\":[\n",
    "        {# existing filter: shingles which are synonomous with the popular definition of ngram\n",
    "            \"type\":\"shingle\", # specify filter type as a shingle\n",
    "            \"min_shingle_size\":2, # min size=2 for bigram\n",
    "            \"max_shingle_size\":3, # mac size=3 for trigram\n",
    "            \"output_unigrams\": True,\n",
    "            \"output_unigrams_if_no_shingles\":True\n",
    "        },\n",
    "    ],\n",
    "    \"text\" : query_string\n",
    "}\n",
    "\n",
    "# use the analyze module of the index class to ping the ES/analyze API\n",
    "token_dict = ind_client.analyze(\n",
    "    body=body, # request body\n",
    "    index=\"originaltextractindex\" # index name\n",
    ")\n",
    "\n",
    "# extract tokens from result dictionary\n",
    "tokens = []\n",
    "for token in token_dict[\"tokens\"]:\n",
    "    tokens.append(token[\"token\"])\n",
    "tokens"
   ]
  },
  {
   "cell_type": "markdown",
   "id": "f13e3891",
   "metadata": {},
   "source": [
    "### Combining all Filters\n",
    "Below, all filters are combined to create a single custom filter. Each individual filter will be executed in the order in which it appears below.\n",
    "\n",
    "Note: The shingles filter appears after the stopword filter. In ES, stopwords are replaced by an underscore by default and are not explicitly removed. Hence, there are underscores within the bi- and tri-grams below. In the following section, we will replace the underscore with an empty string."
   ]
  },
  {
   "cell_type": "code",
   "execution_count": 16,
   "id": "dd6dd144",
   "metadata": {},
   "outputs": [
    {
     "data": {
      "text/plain": [
       "['quick',\n",
       " 'quick brown',\n",
       " 'quick brown foxes',\n",
       " 'brown',\n",
       " 'brown foxes',\n",
       " 'brown foxes _',\n",
       " 'foxes',\n",
       " 'foxes _',\n",
       " 'foxes _ today',\n",
       " '_ today',\n",
       " '_ today _',\n",
       " 'today',\n",
       " 'today _',\n",
       " 'today _ test',\n",
       " '_ test',\n",
       " '_ test _',\n",
       " 'test',\n",
       " 'test _',\n",
       " 'test _ _',\n",
       " '_ _ blah',\n",
       " '_ blah',\n",
       " 'blah']"
      ]
     },
     "execution_count": 16,
     "metadata": {},
     "output_type": "execute_result"
    }
   ],
   "source": [
    "body = {\n",
    "    \"tokenizer\":\"classic\",# removes punctuation and splits string on whitespace\n",
    "    \"filter\":[\n",
    "        \"asciifolding\", # converts characters to ASCII\n",
    "        \"lowercase\", # transforms characters to lowercase\n",
    "        {# ES offered filter: English stopwords\n",
    "            \"type\":\"stop\", # specify the type of the filter as stop for stopword filter\n",
    "            \"stopwords\":\"_english_\" # stopword filter will use English stopwords\n",
    "        },\n",
    "        {# custom filter: stop words based upon custom dictionary uploaded onto AWS ES\n",
    "            \"type\":\"stop\",\n",
    "            \"stopwords_path\":\"analyzers/F220113380\", # ID of the custom dictionary in AWS ES\n",
    "            \"updateable\":True\n",
    "        },\n",
    "        {# existing filter: shingles which are synonomous with the popular definition of ngram\n",
    "            \"type\":\"shingle\", # specify filter type as a shingle\n",
    "            \"min_shingle_size\":2, # min size=2 for bigram\n",
    "            \"max_shingle_size\":3, # mac size=3 for trigram\n",
    "            \"output_unigrams\": True,\n",
    "            \"output_unigrams_if_no_shingles\":True\n",
    "        },\n",
    "        \"trim\", #remove extra spaces from the beginning and end created by shingle filter\n",
    "        {#ES offered filter: remove extra whitespace in between words caused by shingle filter\n",
    "            \"type\":\"pattern_replace\", # specify filter type as REGEX replacement\n",
    "            \"pattern\":\"\\\\s+\", # search for consecutive spaces\n",
    "            \"replacement\":\" \" # replace consecutive spaces with a single space\n",
    "        },\n",
    "        \"unique\" # remove duplicates that are introduced by shingles processing and cleaning\n",
    "    ],\n",
    "    \"text\" : query_string\n",
    "}\n",
    "\n",
    "# use the analyze module of the index class to ping the ES/analyze API\n",
    "token_dict = ind_client.analyze(\n",
    "    body=body, # request body\n",
    "    index=\"originaltextractindex\" # index name\n",
    ")\n",
    "\n",
    "# extract tokens from result dictionary\n",
    "tokens = []\n",
    "for token in token_dict[\"tokens\"]:\n",
    "    tokens.append(token[\"token\"])\n",
    "tokens"
   ]
  },
  {
   "cell_type": "markdown",
   "id": "a9be76dd",
   "metadata": {},
   "source": [
    "# Create New Index\n",
    "\n",
    "### Delete \"textract\" Index\n",
    "Since the `textract` namespace is used throughout multiple Lambda functions, it is easier to create a new index called `textract` than it is to change the index name for all of the Lambda functions that require it. The following cells will delete the existing index and then reindex it using `textractedit`.\n",
    "\n",
    "The following cell confirms that `textract` exists."
   ]
  },
  {
   "cell_type": "code",
   "execution_count": 17,
   "id": "d5b2ad6f",
   "metadata": {},
   "outputs": [
    {
     "data": {
      "text/plain": [
       "{'originaltextractindex': {'aliases': {}},\n",
       " '.kibana_1': {'aliases': {'.kibana': {}}},\n",
       " 'textract': {'aliases': {}}}"
      ]
     },
     "execution_count": 17,
     "metadata": {},
     "output_type": "execute_result"
    }
   ],
   "source": [
    "ind_client.get_alias(\"*\")"
   ]
  },
  {
   "cell_type": "code",
   "execution_count": 18,
   "id": "f05f9809",
   "metadata": {},
   "outputs": [
    {
     "data": {
      "text/plain": [
       "{'acknowledged': True}"
      ]
     },
     "execution_count": 18,
     "metadata": {},
     "output_type": "execute_result"
    }
   ],
   "source": [
    "ind_client.delete(index=\"textract\")"
   ]
  },
  {
   "cell_type": "markdown",
   "id": "c7cf9c0b",
   "metadata": {},
   "source": [
    "The next cell will confirm that `textract` is no longer an index in our ES domain."
   ]
  },
  {
   "cell_type": "code",
   "execution_count": 19,
   "id": "9df7c3c3",
   "metadata": {},
   "outputs": [
    {
     "data": {
      "text/plain": [
       "{'originaltextractindex': {'aliases': {}},\n",
       " '.kibana_1': {'aliases': {'.kibana': {}}}}"
      ]
     },
     "execution_count": 19,
     "metadata": {},
     "output_type": "execute_result"
    }
   ],
   "source": [
    "ind_client.get_alias(\"*\")"
   ]
  },
  {
   "cell_type": "markdown",
   "id": "d2ea0487",
   "metadata": {},
   "source": [
    "### Create Index\n",
    "Using the index client that we specified earlier, we will create a new index with the `textract` name space."
   ]
  },
  {
   "cell_type": "code",
   "execution_count": 21,
   "id": "b68428c9",
   "metadata": {},
   "outputs": [
    {
     "data": {
      "text/plain": [
       "{'acknowledged': True, 'shards_acknowledged': True, 'index': 'textract'}"
      ]
     },
     "execution_count": 21,
     "metadata": {},
     "output_type": "execute_result"
    }
   ],
   "source": [
    "ind_client.create(\n",
    "    index=\"textract\",\n",
    "    body={\n",
    "        \"settings\": {\n",
    "            \"index\": {\n",
    "                \"number_of_shards\": 2, # number of times the index volume is divided into smaller parts\n",
    "                \"max_result_window\" : 10000, # max number of results to return, if applicable\n",
    "                \"analysis\" : {\n",
    "                    \"analyzer\":{\n",
    "                        # specify the names of components of analyzer here. will define below if custom\n",
    "                        \"custom_analyzer\":{\n",
    "                            \"type\":\"custom\",\n",
    "                            \"tokenizer\":\"classic\",# splits on whitespace, removes punctuation\n",
    "                            \"filter\":[\n",
    "                                 # converts characters to ASCII\n",
    "                                \"asciifolding\",\n",
    "                                \n",
    "                                # makes character lowercase\n",
    "                                \"lowercase\",\n",
    "                                \n",
    "                                # ES filter: English stopwords; requires some customization (below)\n",
    "                                \"english_stopwords\",\n",
    "                                \n",
    "                                # custom filter: stop words based upon custom dictionary uploaded onto AWS ES\n",
    "                                \"custom_stopword_filter\",\n",
    "                                \n",
    "                                # ES filter: shingles which are synonomous with the popular definition of ngram; requires some customization (below)\n",
    "                                \"custom_shingle_filter\",\n",
    "                                \n",
    "                                # ES filter: remove extra spaces from the beginning and end created by shingle filter\n",
    "                                \"trim\",\n",
    "                                \n",
    "                                # ES filter: remove extra whitespace in between words caused by shingle filter; requires some customization (below)\n",
    "                                \"remove_extra_spaces\",\n",
    "                                \n",
    "                                # ES filter: remove duplicates that are introduced by shingles processing and cleaning\n",
    "                                \"unique\"\n",
    "                            ]\n",
    "                        }\n",
    "                    },\n",
    "                    # define custom and ES filters\n",
    "                    \"filter\":{\n",
    "                        \"custom_stopword_filter\":{\n",
    "                            \"type\":\"stop\",\n",
    "                            \"stopwords_path\":\"analyzers/F220113380\",\n",
    "                            \"updateable\":True\n",
    "                        },\n",
    "                        \"english_stopwords\":{\n",
    "                            \"type\":\"stop\",\n",
    "                            \"stopwords\":\"_english_\"\n",
    "                        },\n",
    "                        \"custom_shingle_filter\":{\n",
    "                            \"type\":\"shingle\",\n",
    "                            \"min_shingle_size\":2,\n",
    "                            \"max_shingle_size\":3,\n",
    "                            \"output_unigrams\": True,\n",
    "                            \"output_unigrams_if_no_shingles\":True,\n",
    "                            \"filler_token\":\"\" # replace the default underscore placeholder with an empty string\n",
    "                        },\n",
    "                        \"remove_extra_spaces\":{\n",
    "                            \"type\":\"pattern_replace\",\n",
    "                            \"pattern\":\"\\\\s+\",\n",
    "                            \"replacement\":\" \"\n",
    "                        }\n",
    "                    }\n",
    "                }\n",
    "            }\n",
    "        },\n",
    "        # create data fields that are added to the index after being extracted by ES\n",
    "        \"mappings\":{\n",
    "            \"properties\":{\n",
    "                # add a data field to index\n",
    "                \"date\":{\n",
    "                    # specify mapping type as date\n",
    "                    \"type\": \"date\",\n",
    "                    \n",
    "                    # specify the format of the mapping type. ES looks for dates that follow these formats\n",
    "                    \"format\": \"M'/'dd'/'yyyy||date||year||year_month||dd MMM yyyy||dd'/'MM'/'yyyy||yyyy'/'MM'/'dd||dd'/'MM'/'YY||year_month_day||MM'/'dd'/'yy||dd MMM||MM'/'yyyy||M-dd-yyyy||MM'/'dd'/'yyyy||M||d'/'MM'/'yyyy||MM'/'dd'/'yy\"\n",
    "                }\n",
    "            }\n",
    "        }\n",
    "    }\n",
    ")"
   ]
  },
  {
   "cell_type": "markdown",
   "id": "ef1d92ff",
   "metadata": {},
   "source": [
    "The following cell confirms that `textract` is listed as an index again."
   ]
  },
  {
   "cell_type": "code",
   "execution_count": 4,
   "id": "931f6754",
   "metadata": {},
   "outputs": [
    {
     "ename": "NameError",
     "evalue": "name 'ind_client' is not defined",
     "output_type": "error",
     "traceback": [
      "\u001b[0;31m---------------------------------------------------------------------------\u001b[0m",
      "\u001b[0;31mNameError\u001b[0m                                 Traceback (most recent call last)",
      "\u001b[0;32m/tmp/ipykernel_22987/3281958614.py\u001b[0m in \u001b[0;36m<module>\u001b[0;34m\u001b[0m\n\u001b[0;32m----> 1\u001b[0;31m \u001b[0mind_client\u001b[0m\u001b[0;34m.\u001b[0m\u001b[0mget_alias\u001b[0m\u001b[0;34m(\u001b[0m\u001b[0;34m\"*\"\u001b[0m\u001b[0;34m)\u001b[0m\u001b[0;34m\u001b[0m\u001b[0;34m\u001b[0m\u001b[0m\n\u001b[0m",
      "\u001b[0;31mNameError\u001b[0m: name 'ind_client' is not defined"
     ]
    }
   ],
   "source": [
    "ind_client.get_alias(\"*\")"
   ]
  },
  {
   "cell_type": "markdown",
   "id": "7ab71851",
   "metadata": {},
   "source": [
    "# Add Documents to New Index\n",
    "Documents can be added to a new index by copying documents from another index. This is achieved via `reindex`."
   ]
  },
  {
   "cell_type": "code",
   "execution_count": 23,
   "id": "014236ee",
   "metadata": {},
   "outputs": [
    {
     "data": {
      "text/plain": [
       "(7, 0)"
      ]
     },
     "execution_count": 23,
     "metadata": {},
     "output_type": "execute_result"
    }
   ],
   "source": [
    "from elasticsearch.helpers import reindex\n",
    "\n",
    "reindex(\n",
    "    client = es, # original ES client specified in the beginning\n",
    "    source_index = \"originaltextractindex\", # original index with documents we want to copy\n",
    "    target_index = \"textract\" # new index where documents will be copied to\n",
    ")"
   ]
  },
  {
   "cell_type": "markdown",
   "id": "56a5336a",
   "metadata": {},
   "source": [
    "# Verify Changes to Index\n",
    "When creating the index above, we specified our collection of text processors with the name `custom_analyzer`. In the cells below, we can reference this analyzer by name when using the `textract` index."
   ]
  },
  {
   "cell_type": "code",
   "execution_count": 24,
   "id": "044d2705",
   "metadata": {},
   "outputs": [
    {
     "data": {
      "text/plain": [
       "['quick',\n",
       " 'quick brown',\n",
       " 'quick brown foxes',\n",
       " 'brown',\n",
       " 'brown foxes',\n",
       " 'foxes',\n",
       " 'foxes today',\n",
       " 'today',\n",
       " 'today test',\n",
       " 'test',\n",
       " 'blah']"
      ]
     },
     "execution_count": 24,
     "metadata": {},
     "output_type": "execute_result"
    }
   ],
   "source": [
    "body = {\n",
    "    # evoking our custom analyzer from the index\n",
    "    \"analyzer\" : \"custom_analyzer\",\n",
    "    \"text\" : query_string\n",
    "}\n",
    "\n",
    "\n",
    "token_dict = ind_client.analyze(\n",
    "    body=body,\n",
    "    index=\"textract\"\n",
    ")\n",
    "\n",
    "tokens = []\n",
    "for token in token_dict[\"tokens\"]:\n",
    "    tokens.append(token[\"token\"])\n",
    "tokens"
   ]
  },
  {
   "cell_type": "markdown",
   "id": "6498dd85",
   "metadata": {},
   "source": [
    "Now, let's test the new index on an old query. The output are highlighted fragments from each source in the form of a list. You can see that the results have improved significantly and there are fewer references to kidney related documents."
   ]
  },
  {
   "cell_type": "code",
   "execution_count": 25,
   "id": "49469d5e",
   "metadata": {},
   "outputs": [
    {
     "name": "stdout",
     "output_type": "stream",
     "text": [
      "The Elasticsearch query returned 1 results.\n",
      "Example output:\n",
      "\n",
      "\n",
      "['Preventing Diabetes Problems I NIDDK\\n10/23/20,3127 PM\\nPreventing Diabetes Problems\\nView or Print All Sections\\n>\\nHeart Disease & Stroke\\nLow Blood Glucose\\n(Hypoglycemia)\\nDiabetes can damage blood vessels', 'Managing your diabetes can\\nyour kidneys by managing your diabetes\\nhelp prevent nerve damage that affects\\nand meeting your blood pressure goals.\\nyour feet and limbs, and organs such as\\nyour heart.', 'Disease\\nDiabetes can cause nerve damage and\\nDiabetes can damage your eyes and lead\\npoor blood flow, which can lead to\\nto low vision and blindness.', '&\\nDementia &\\nSleep Apnea &\\nDiabetes\\nDiabetes\\nDiabetes\\nDiabetes\\nDepression NIH\\nDiabetes is linked\\nHigh blood\\nPeople who have\\nis common among\\nto some types of\\nglucose increases\\nsleep apnea NIH\\npeople with', 'https://www.niddk.nih.gov/health-information/diabetes/overview/preventing-problems\\nPage 3 of 4\\n\\nPreventing Diabetes Problems I NIDDK\\n10/23/20,3127 PM\\nSource: National Institute of Diabetes and Digestive'] \n",
      "\n"
     ]
    }
   ],
   "source": [
    "keyword = \"What is diabetes\\?\"\n",
    "\n",
    "ES_HIGHLIGHT_FRAGMENT_SIZE = 200\n",
    "host = \"vpc-dusstac-dussta-h8vo3o6f68eb-knopiij3g5xsdg42i2sxvarih4.us-east-1.es.amazonaws.com\" #ES domain\n",
    "\n",
    "searchBody = {\n",
    "     \"query\" : {\n",
    "        \"query_string\": {\n",
    "            \"query\": keyword,\n",
    "            \"fields\":[\"content^3\",\"name\",\"keyword^2\",\"title^4\",\"summary\"],\n",
    "            \"fuzziness\":\"AUTO\",\n",
    "            \"analyzer\":\"custom_analyzer\",\n",
    "           }\n",
    "      },\n",
    "      \"highlight\" : {\n",
    "        \"fields\" : {\n",
    "            \"content\" : { \"pre_tags\" : [\"\"], \"post_tags\" : [\"\"] },\n",
    "          },\n",
    "          \"fragment_size\" : ES_HIGHLIGHT_FRAGMENT_SIZE,\n",
    "          \"require_field_match\": False\n",
    "     }\n",
    "}\n",
    "\n",
    "\n",
    "output = es.search(\n",
    "    index='textract',\n",
    "    size=1000,\n",
    "    body=searchBody,\n",
    "    _source = True,\n",
    "    filter_path=['hits.hits._id', 'hits.hits._source','hits.hits.highlight','hits.hits._score'],\n",
    "    request_timeout=5\n",
    ")\n",
    "\n",
    "\n",
    "\n",
    "n_results = len(output[\"hits\"][\"hits\"])\n",
    "print(f\"The Elasticsearch query returned {n_results} results.\")\n",
    "\n",
    "print(f\"Example output:\\n\\n\")\n",
    "\n",
    "for x in output[\"hits\"][\"hits\"]:\n",
    "    print(x[\"highlight\"][\"content\"],\"\\n\")"
   ]
  },
  {
   "cell_type": "markdown",
   "id": "924a9917",
   "metadata": {},
   "source": [
    "With another search, you can see how specific the results are to the phrases in the query string."
   ]
  },
  {
   "cell_type": "code",
   "execution_count": 26,
   "id": "757bdf07",
   "metadata": {},
   "outputs": [
    {
     "name": "stdout",
     "output_type": "stream",
     "text": [
      "The Elasticsearch query returned 2 results.\n",
      "Example output:\n",
      "\n",
      "\n",
      "['The NIDDK translates and disseminates research findings to\\nincrease knowledge and understanding about health and disease among patients, health professionals, and the\\npublic.'] \n",
      "\n",
      "['Available\\nfrom:\\nittps://www.cedars-sinai.edu/Patients/Health-Conditions/Neuromuscular-Disorders.aspx [https://www.cedars-sinai.edu/Patients/\\nealth-Conditions/Neuromuscular-Disorders.aspx]\\n2.'] \n",
      "\n"
     ]
    }
   ],
   "source": [
    "keyword = \"dibetes in older patients\"\n",
    "\n",
    "ES_HIGHLIGHT_FRAGMENT_SIZE = 200\n",
    "host = \"vpc-dusstac-dussta-h8vo3o6f68eb-knopiij3g5xsdg42i2sxvarih4.us-east-1.es.amazonaws.com\" #ES domain\n",
    "\n",
    "searchBody = {\n",
    "     \"query\" : {\n",
    "        \"query_string\": {\n",
    "            \"query\": keyword,\n",
    "            \"fields\":[\"content^3\",\"name\",\"keyword^2\",\"title^4\",\"summary\"],\n",
    "            \"fuzziness\":\"AUTO\",\n",
    "            \"analyzer\":\"custom_analyzer\",\n",
    "           }\n",
    "      },\n",
    "      \"highlight\" : {\n",
    "        \"fields\" : {\n",
    "            \"content\" : { \"pre_tags\" : [\"\"], \"post_tags\" : [\"\"] },\n",
    "          },\n",
    "          \"fragment_size\" : ES_HIGHLIGHT_FRAGMENT_SIZE,\n",
    "          \"require_field_match\": False\n",
    "     }\n",
    "}\n",
    "\n",
    "\n",
    "output = es.search(\n",
    "    index='textract',\n",
    "    size=1000,\n",
    "    body=searchBody,\n",
    "    _source = True,\n",
    "    filter_path=['hits.hits._id', 'hits.hits._source','hits.hits.highlight','hits.hits._score'],\n",
    "    request_timeout=5\n",
    ")\n",
    "\n",
    "\n",
    "\n",
    "n_results = len(output[\"hits\"][\"hits\"])\n",
    "print(f\"The Elasticsearch query returned {n_results} results.\")\n",
    "\n",
    "print(f\"Example output:\\n\\n\")\n",
    "\n",
    "for x in output[\"hits\"][\"hits\"]:\n",
    "    print(x[\"highlight\"][\"content\"],\"\\n\")"
   ]
  },
  {
   "cell_type": "code",
   "execution_count": null,
   "id": "8a0b36cc",
   "metadata": {},
   "outputs": [],
   "source": []
  }
 ],
 "metadata": {
  "kernelspec": {
   "display_name": "Python 3 (ipykernel)",
   "language": "python",
   "name": "python3"
  },
  "language_info": {
   "codemirror_mode": {
    "name": "ipython",
    "version": 3
   },
   "file_extension": ".py",
   "mimetype": "text/x-python",
   "name": "python",
   "nbconvert_exporter": "python",
   "pygments_lexer": "ipython3",
   "version": "3.7.11"
  }
 },
 "nbformat": 4,
 "nbformat_minor": 5
}
